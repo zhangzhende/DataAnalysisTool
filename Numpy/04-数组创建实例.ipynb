{
 "cells": [
  {
   "cell_type": "code",
   "execution_count": null,
   "metadata": {},
   "outputs": [],
   "source": [
    "新的ndarray对象可以通过任何下列数组创建例程或使用低级ndarray构造函数构造。"
   ]
  },
  {
   "cell_type": "code",
   "execution_count": null,
   "metadata": {},
   "outputs": [],
   "source": [
    "# numpy.empty\n",
    "# 它创建指定形状和dtype的未初始化数组\n",
    "numpy.empty(shape, dtype = float, order = 'C')\n",
    "构造器接受下列参数：\n",
    "序号\t参数及描述\n",
    "1.\tShape 空数组的形状，整数或整数元组\n",
    "2.\tDtype 所需的输出数组类型，可选\n",
    "3.\tOrder 'C'为按行的 C 风格数组，'F'为按列的 Fortran 风格数组"
   ]
  },
  {
   "cell_type": "code",
   "execution_count": 1,
   "metadata": {},
   "outputs": [
    {
     "name": "stdout",
     "output_type": "stream",
     "text": [
      "[[1476243728          0]\n",
      " [1476274608          0]\n",
      " [ 429439408        400]]\n"
     ]
    }
   ],
   "source": [
    "# numpy.empty\n",
    "import numpy as np \n",
    "x = np.empty([3,2], dtype =  int)  \n",
    "print (x)\n",
    "# 注意：数组元素为随机值，因为它们未初始化。"
   ]
  },
  {
   "cell_type": "code",
   "execution_count": null,
   "metadata": {},
   "outputs": [],
   "source": [
    "numpy.zeros\n",
    "返回特定大小，以 0 填充的新数组。\n",
    "构造器接受下列参数：\n",
    "序号\t参数及描述\n",
    "1.\tShape 空数组的形状，整数或整数元组\n",
    "2.\tDtype 所需的输出数组类型，可选\n",
    "3.\tOrder 'C'为按行的 C 风格数组，'F'为按列的 Fortran 风格数组"
   ]
  },
  {
   "cell_type": "code",
   "execution_count": 6,
   "metadata": {},
   "outputs": [
    {
     "name": "stdout",
     "output_type": "stream",
     "text": [
      "[0. 0. 0. 0. 0.]\n"
     ]
    }
   ],
   "source": [
    "# numpy.zeros\n",
    "# 含有 5 个 0 的数组，默认类型为 float  \n",
    "import numpy as np \n",
    "x = np.zeros(5)  \n",
    "print (x)"
   ]
  },
  {
   "cell_type": "code",
   "execution_count": 3,
   "metadata": {},
   "outputs": [
    {
     "name": "stdout",
     "output_type": "stream",
     "text": [
      "[[(0, 0) (0, 0)]\n",
      " [(0, 0) (0, 0)]]\n"
     ]
    }
   ],
   "source": [
    "# 自定义类型 \n",
    "import numpy as np \n",
    "x = np.zeros((2,2), dtype =  [('x',  'i4'),  ('y',  'i4')])  \n",
    "print (x)"
   ]
  },
  {
   "cell_type": "code",
   "execution_count": null,
   "metadata": {},
   "outputs": [],
   "source": [
    "numpy.ones\n",
    "返回特定大小，以 1 填充的新数组。\n",
    "numpy.ones(shape, dtype = None, order = 'C')\n",
    "构造器接受下列参数：\n",
    "序号\t参数及描述\n",
    "1.\tShape 空数组的形状，整数或整数元组\n",
    "2.\tDtype 所需的输出数组类型，可选\n",
    "3.\tOrder 'C'为按行的 C 风格数组，'F'为按列的 Fortran 风格数组"
   ]
  },
  {
   "cell_type": "code",
   "execution_count": 4,
   "metadata": {},
   "outputs": [
    {
     "name": "stdout",
     "output_type": "stream",
     "text": [
      "[1. 1. 1. 1. 1.]\n"
     ]
    }
   ],
   "source": [
    "# 含有 5 个 1 的数组，默认类型为 float  \n",
    "import numpy as np \n",
    "x = np.ones(5)  \n",
    "print (x)"
   ]
  },
  {
   "cell_type": "code",
   "execution_count": 5,
   "metadata": {},
   "outputs": [
    {
     "name": "stdout",
     "output_type": "stream",
     "text": [
      "[[1 1]\n",
      " [1 1]]\n"
     ]
    }
   ],
   "source": [
    "import numpy as np \n",
    "x = np.ones([2,2], dtype =  int)  \n",
    "print (x)"
   ]
  },
  {
   "cell_type": "code",
   "execution_count": null,
   "metadata": {},
   "outputs": [],
   "source": []
  },
  {
   "cell_type": "code",
   "execution_count": null,
   "metadata": {},
   "outputs": [],
   "source": []
  },
  {
   "cell_type": "code",
   "execution_count": null,
   "metadata": {},
   "outputs": [],
   "source": []
  },
  {
   "cell_type": "code",
   "execution_count": null,
   "metadata": {},
   "outputs": [],
   "source": []
  }
 ],
 "metadata": {
  "kernelspec": {
   "display_name": "Python 3",
   "language": "python",
   "name": "python3"
  },
  "language_info": {
   "codemirror_mode": {
    "name": "ipython",
    "version": 3
   },
   "file_extension": ".py",
   "mimetype": "text/x-python",
   "name": "python",
   "nbconvert_exporter": "python",
   "pygments_lexer": "ipython3",
   "version": "3.5.4rc1"
  }
 },
 "nbformat": 4,
 "nbformat_minor": 2
}
