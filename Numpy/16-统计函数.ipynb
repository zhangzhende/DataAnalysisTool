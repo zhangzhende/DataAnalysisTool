{
 "cells": [
  {
   "cell_type": "code",
   "execution_count": null,
   "metadata": {},
   "outputs": [],
   "source": [
    "NumPy 有很多有用的统计函数，用于从数组中给定的元素中查找最小，最大，百分标准差和方差等\n",
    "\n",
    "\n"
   ]
  },
  {
   "cell_type": "code",
   "execution_count": 1,
   "metadata": {},
   "outputs": [
    {
     "name": "stdout",
     "output_type": "stream",
     "text": [
      "我们的数组是：\n",
      "[[3 7 5]\n",
      " [8 4 3]\n",
      " [2 4 9]]\n",
      "\n",
      "\n",
      "调用 amin() 函数：\n",
      "[3 3 2]\n",
      "\n",
      "\n",
      "再次调用 amin() 函数：\n",
      "[2 4 3]\n",
      "\n",
      "\n",
      "调用 amax() 函数：\n",
      "9\n",
      "\n",
      "\n",
      "再次调用 amax() 函数：\n",
      "[8 7 9]\n"
     ]
    }
   ],
   "source": [
    "# numpy.amin() 和 numpy.amax()\n",
    "# 这些函数从给定数组中的元素沿指定轴返回最小值和最大值。0-col,1-row\n",
    "\n",
    "import numpy as np \n",
    "a = np.array([[3,7,5],[8,4,3],[2,4,9]])  \n",
    "print  ('我们的数组是：'  )\n",
    "print (a )\n",
    "print  ('\\n'  )\n",
    "print  ('调用 amin() 函数：'  )\n",
    "print (np.amin(a,1)  )\n",
    "print  ('\\n'  )\n",
    "print ( '再次调用 amin() 函数：'  )\n",
    "print (np.amin(a,0)  )\n",
    "print  ('\\n' ) \n",
    "print  ('调用 amax() 函数：'  )\n",
    "print (np.amax(a) ) \n",
    "print  ('\\n' ) \n",
    "print  ('再次调用 amax() 函数：')  \n",
    "print (np.amax(a, axis =  0))"
   ]
  },
  {
   "cell_type": "code",
   "execution_count": 2,
   "metadata": {},
   "outputs": [
    {
     "name": "stdout",
     "output_type": "stream",
     "text": [
      "我们的数组是：\n",
      "[[3 7 5]\n",
      " [8 4 3]\n",
      " [2 4 9]]\n",
      "\n",
      "\n",
      "调用 ptp() 函数：\n",
      "7\n",
      "\n",
      "\n",
      "沿轴 1 调用 ptp() 函数：\n",
      "[4 5 7]\n",
      "\n",
      "\n",
      "沿轴 0 调用 ptp() 函数：\n",
      "[6 3 6]\n"
     ]
    }
   ],
   "source": [
    "# numpy.ptp()\n",
    "# numpy.ptp()函数返回沿轴的值的范围(最大值 - 最小值)。\n",
    "\n",
    "import numpy as np \n",
    "a = np.array([[3,7,5],[8,4,3],[2,4,9]])  \n",
    "print  ('我们的数组是：'  )\n",
    "print( a )\n",
    "print ( '\\n'  )\n",
    "print  ('调用 ptp() 函数：'  )#所有\n",
    "print (np.ptp(a) ) \n",
    "print ( '\\n'  )\n",
    "print  ('沿轴 1 调用 ptp() 函数：')  #row\n",
    "print (np.ptp(a, axis =  1)  )\n",
    "print  ('\\n' ) \n",
    "print  ('沿轴 0 调用 ptp() 函数：' ) #每col\n",
    "print (np.ptp(a, axis =  0))"
   ]
  },
  {
   "cell_type": "code",
   "execution_count": null,
   "metadata": {},
   "outputs": [],
   "source": [
    "numpy.percentile()\n",
    "百分位数是统计中使用的度量，表示小于这个值得观察值占某个百分比。 函数numpy.percentile()接受以下参数\n",
    "numpy.percentile(a, q, axis)\n",
    "其中：\n",
    "序号\t参数及描述\n",
    "1.\ta 输入数组\n",
    "2.\tq 要计算的百分位数，在 0 ~ 100 之间\n",
    "3.\taxis 沿着它计算百分位数的轴"
   ]
  },
  {
   "cell_type": "code",
   "execution_count": 3,
   "metadata": {},
   "outputs": [
    {
     "name": "stdout",
     "output_type": "stream",
     "text": [
      "我们的数组是：\n",
      "[[30 40 70]\n",
      " [80 20 10]\n",
      " [50 90 60]]\n",
      "\n",
      "\n",
      "调用 percentile() 函数：\n",
      "50.0\n",
      "\n",
      "\n",
      "沿轴 1 调用 percentile() 函数：\n",
      "[40. 20. 60.]\n",
      "\n",
      "\n",
      "沿轴 0 调用 percentile() 函数：\n",
      "[50. 40. 60.]\n"
     ]
    }
   ],
   "source": [
    "import numpy as np \n",
    "a = np.array([[30,40,70],[80,20,10],[50,90,60]])  \n",
    "print  ('我们的数组是：'  )\n",
    "print (a )\n",
    "print ( '\\n' ) \n",
    "print  ('调用 percentile() 函数：'  )\n",
    "print( np.percentile(a,50)  )\n",
    "print  ('\\n'  )\n",
    "print ( '沿轴 1 调用 percentile() 函数：'  )\n",
    "print (np.percentile(a,50, axis =  1)  )\n",
    "print ( '\\n')  \n",
    "print  ('沿轴 0 调用 percentile() 函数：')  \n",
    "print (np.percentile(a,50, axis =  0))"
   ]
  },
  {
   "cell_type": "code",
   "execution_count": 4,
   "metadata": {},
   "outputs": [
    {
     "name": "stdout",
     "output_type": "stream",
     "text": [
      "我们的数组是：\n",
      "[[30 65 70]\n",
      " [80 95 10]\n",
      " [50 90 60]]\n",
      "\n",
      "\n",
      "调用 median() 函数：\n",
      "65.0\n",
      "\n",
      "\n",
      "沿轴 0 调用 median() 函数：\n",
      "[50. 90. 60.]\n",
      "\n",
      "\n",
      "沿轴 1 调用 median() 函数：\n",
      "[65. 80. 60.]\n"
     ]
    }
   ],
   "source": [
    "# numpy.median()\n",
    "# 中值定义为将数据样本的上半部分与下半部分分开的值\n",
    "\n",
    "import numpy as np \n",
    "a = np.array([[30,65,70],[80,95,10],[50,90,60]])  \n",
    "print ( '我们的数组是：')  \n",
    "print (a )\n",
    "print  ('\\n'  )\n",
    "print ( '调用 median() 函数：'  )\n",
    "print (np.median(a)  )\n",
    "print ( '\\n'  )\n",
    "print ( '沿轴 0 调用 median() 函数：' ) \n",
    "print (np.median(a, axis =  0)  )\n",
    "print  ('\\n'  )\n",
    "print  ('沿轴 1 调用 median() 函数：')  \n",
    "print( np.median(a, axis =  1))"
   ]
  },
  {
   "cell_type": "code",
   "execution_count": 5,
   "metadata": {},
   "outputs": [
    {
     "name": "stdout",
     "output_type": "stream",
     "text": [
      "我们的数组是：\n",
      "[[1 2 3]\n",
      " [3 4 5]\n",
      " [4 5 6]]\n",
      "\n",
      "\n",
      "调用 mean() 函数：\n",
      "3.6666666666666665\n",
      "\n",
      "\n",
      "沿轴 0 调用 mean() 函数：\n",
      "[2.66666667 3.66666667 4.66666667]\n",
      "\n",
      "\n",
      "沿轴 1 调用 mean() 函数：\n",
      "[2. 4. 5.]\n"
     ]
    }
   ],
   "source": [
    "# numpy.mean()\n",
    "# 算术平均值是沿轴的元素的总和除以元素的数量。 numpy.mean()函数返回数组中元素的算术平均值。 如果提供了轴，则沿其计算。\n",
    "\n",
    "import numpy as np \n",
    "a = np.array([[1,2,3],[3,4,5],[4,5,6]])  \n",
    "print  ('我们的数组是：'  )\n",
    "print (a )\n",
    "print  ('\\n'  )\n",
    "print  ('调用 mean() 函数：'  )\n",
    "print( np.mean(a)  )\n",
    "print(  '\\n'  )\n",
    "print ( '沿轴 0 调用 mean() 函数：'  )\n",
    "print( np.mean(a, axis =  0)  )\n",
    "print  ('\\n'  )\n",
    "print ( '沿轴 1 调用 mean() 函数：'  )\n",
    "print (np.mean(a, axis =  1))"
   ]
  },
  {
   "cell_type": "code",
   "execution_count": null,
   "metadata": {},
   "outputs": [],
   "source": [
    "numpy.average()\n",
    "加权平均值是由每个分量乘以反映其重要性的因子得到的平均值。 numpy.average()函数根据在另一个数组中给出的各自的权重计算数组中元素的加权平均值。\n",
    "该函数可以接受一个轴参数。 如果没有指定轴，则数组会被展开。\n",
    "考虑数组[1,2,3,4]和相应的权重[4,3,2,1]，通过将相应元素的乘积相加，并将和除以权重的和，来计算加权平均值。\n",
    "加权平均值 = (1*4+2*3+3*2+4*1)/(4+3+2+1)"
   ]
  },
  {
   "cell_type": "code",
   "execution_count": 7,
   "metadata": {},
   "outputs": [
    {
     "name": "stdout",
     "output_type": "stream",
     "text": [
      "我们的数组是：\n",
      "[1 2 3 4]\n",
      "\n",
      "\n",
      "调用 average() 函数：\n",
      "2.5\n",
      "\n",
      "\n",
      "再次调用 average() 函数：\n",
      "2.0\n",
      "\n",
      "\n",
      "权重的和：\n",
      "(2.0, 10.0)\n"
     ]
    }
   ],
   "source": [
    "import numpy as np \n",
    "a = np.array([1,2,3,4])  \n",
    "print ( '我们的数组是：'  )\n",
    "print (a )\n",
    "print ( '\\n'  )\n",
    "print  ('调用 average() 函数：'  )\n",
    "print( np.average(a)  )\n",
    "print  ('\\n'  )\n",
    "# 不指定权重时相当于 mean 函数\n",
    "wts = np.array([4,3,2,1])  \n",
    "print ( '再次调用 average() 函数：'  )\n",
    "print (np.average(a,weights = wts)  )\n",
    "print  ('\\n' ) \n",
    "# 如果 returned 参数设为 true，则返回权重的和  \n",
    "print ( '权重的和：')  \n",
    "print (np.average([1,2,3,  4],weights =  [4,3,2,1], returned =  True))"
   ]
  },
  {
   "cell_type": "code",
   "execution_count": 8,
   "metadata": {},
   "outputs": [
    {
     "name": "stdout",
     "output_type": "stream",
     "text": [
      "我们的数组是：\n",
      "[[0 1]\n",
      " [2 3]\n",
      " [4 5]]\n",
      "\n",
      "\n",
      "修改后的数组：\n",
      "[0.625 2.625 4.625]\n",
      "\n",
      "\n",
      "修改后的数组：\n",
      "(array([0.625, 2.625, 4.625]), array([8., 8., 8.]))\n"
     ]
    }
   ],
   "source": [
    "# 在多维数组中，可以指定用于计算的轴。\n",
    "\n",
    "import numpy as np \n",
    "a = np.arange(6).reshape(3,2)  \n",
    "print ( '我们的数组是：'  )\n",
    "print( a )\n",
    "print ( '\\n'  )\n",
    "print ( '修改后的数组：' )\n",
    "wt = np.array([3,5])  \n",
    "print (np.average(a, axis =  1, weights = wt)  )\n",
    "print  ('\\n'  )\n",
    "print  ('修改后的数组：'  )\n",
    "print (np.average(a, axis =  1, weights = wt, returned =  True))"
   ]
  },
  {
   "cell_type": "code",
   "execution_count": null,
   "metadata": {},
   "outputs": [],
   "source": [
    "标准差\n",
    "标准差是与均值的偏差的平方的平均值的平方根。 标准差公式如下：\n",
    "std = sqrt(mean((x - x.mean())**2))\n",
    "如果数组是[1，2，3，4]，则其平均值为2.5。 因此，差的平方是[2.25,0.25,0.25,2.25]，并且其平均值的平方根除以4，即sqrt(5/4)是1.1180339887498949。\n"
   ]
  },
  {
   "cell_type": "code",
   "execution_count": 9,
   "metadata": {},
   "outputs": [
    {
     "name": "stdout",
     "output_type": "stream",
     "text": [
      "1.118033988749895\n"
     ]
    }
   ],
   "source": [
    "import numpy as np \n",
    "print( np.std([1,2,3,4]))"
   ]
  },
  {
   "cell_type": "code",
   "execution_count": 10,
   "metadata": {},
   "outputs": [
    {
     "name": "stdout",
     "output_type": "stream",
     "text": [
      "1.25\n"
     ]
    }
   ],
   "source": [
    "# 方差\n",
    "# 方差是偏差的平方的平均值，即mean((x - x.mean())** 2)。 换句话说，标准差是方差的平方根。\n",
    "\n",
    "import numpy as np \n",
    "print (np.var([1,2,3,4]))"
   ]
  },
  {
   "cell_type": "code",
   "execution_count": null,
   "metadata": {},
   "outputs": [],
   "source": []
  },
  {
   "cell_type": "code",
   "execution_count": null,
   "metadata": {},
   "outputs": [],
   "source": []
  },
  {
   "cell_type": "code",
   "execution_count": null,
   "metadata": {},
   "outputs": [],
   "source": []
  },
  {
   "cell_type": "code",
   "execution_count": null,
   "metadata": {},
   "outputs": [],
   "source": []
  },
  {
   "cell_type": "code",
   "execution_count": null,
   "metadata": {},
   "outputs": [],
   "source": []
  },
  {
   "cell_type": "code",
   "execution_count": null,
   "metadata": {},
   "outputs": [],
   "source": []
  },
  {
   "cell_type": "code",
   "execution_count": null,
   "metadata": {},
   "outputs": [],
   "source": []
  }
 ],
 "metadata": {
  "kernelspec": {
   "display_name": "Python 3",
   "language": "python",
   "name": "python3"
  },
  "language_info": {
   "codemirror_mode": {
    "name": "ipython",
    "version": 3
   },
   "file_extension": ".py",
   "mimetype": "text/x-python",
   "name": "python",
   "nbconvert_exporter": "python",
   "pygments_lexer": "ipython3",
   "version": "3.5.4rc1"
  }
 },
 "nbformat": 4,
 "nbformat_minor": 2
}
