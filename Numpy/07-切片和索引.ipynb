{
 "cells": [
  {
   "cell_type": "code",
   "execution_count": null,
   "metadata": {},
   "outputs": [],
   "source": [
    "ndarray对象的内容可以通过索引或切片来访问和修改，就像 Python 的内置容器对象一样。\n",
    "如前所述，ndarray对象中的元素遵循基于零的索引。 \n",
    "有三种可用的索引方法类型： 字段访问，基本切片和高级索引。基本切片是 Python 中基本切片概念到 n 维的扩展。\n",
    "通过将start，stop和step参数提供给内置的slice函数来构造一个 Python slice对象。 此slice对象被传递给数组来提取数组的一部分"
   ]
  },
  {
   "cell_type": "code",
   "execution_count": 1,
   "metadata": {},
   "outputs": [
    {
     "name": "stdout",
     "output_type": "stream",
     "text": [
      "[2 4 6]\n"
     ]
    }
   ],
   "source": [
    "import numpy as np\n",
    "a = np.arange(10)\n",
    "s = slice(2,7,2)  \n",
    "print (a[s])"
   ]
  },
  {
   "cell_type": "code",
   "execution_count": null,
   "metadata": {},
   "outputs": [],
   "source": [
    "在上面的例子中，ndarray对象由arange()函数创建。 然后，分别用起始，终止和步长值2，7和2定义切片对象。 \n",
    "当这个切片对象传递给ndarray时，会对它的一部分进行切片，从索引2到7，步长为2。\n",
    "通过将由冒号分隔的切片参数(start:stop:step)直接提供给ndarray对象，也可以获得相同的结果。"
   ]
  },
  {
   "cell_type": "code",
   "execution_count": 2,
   "metadata": {},
   "outputs": [
    {
     "name": "stdout",
     "output_type": "stream",
     "text": [
      "[2 4 6]\n"
     ]
    }
   ],
   "source": [
    "import numpy as np\n",
    "a = np.arange(10)\n",
    "b = a[2:7:2]  \n",
    "print (b)"
   ]
  },
  {
   "cell_type": "code",
   "execution_count": 3,
   "metadata": {},
   "outputs": [
    {
     "name": "stdout",
     "output_type": "stream",
     "text": [
      "5\n"
     ]
    }
   ],
   "source": [
    "# 对单个元素进行切片  \n",
    "import numpy as np\n",
    "\n",
    "a = np.arange(10)\n",
    "b = a[5]  \n",
    "print (b)"
   ]
  },
  {
   "cell_type": "code",
   "execution_count": 4,
   "metadata": {},
   "outputs": [
    {
     "name": "stdout",
     "output_type": "stream",
     "text": [
      "[2 3 4 5 6 7 8 9]\n"
     ]
    }
   ],
   "source": [
    "# 对始于索引的元素进行切片  \n",
    "import numpy as np\n",
    "a = np.arange(10)  \n",
    "print (a[2:])"
   ]
  },
  {
   "cell_type": "code",
   "execution_count": 5,
   "metadata": {},
   "outputs": [
    {
     "name": "stdout",
     "output_type": "stream",
     "text": [
      "[2 3 4]\n"
     ]
    }
   ],
   "source": [
    "# 对索引之间的元素进行切片  \n",
    "import numpy as np\n",
    "a = np.arange(10)  \n",
    "print (a[2:5])"
   ]
  },
  {
   "cell_type": "code",
   "execution_count": 6,
   "metadata": {},
   "outputs": [
    {
     "name": "stdout",
     "output_type": "stream",
     "text": [
      "[[1 2 3]\n",
      " [3 4 5]\n",
      " [4 5 6]]\n",
      "现在我们从索引 a[1:] 开始对数组切片\n",
      "[[3 4 5]\n",
      " [4 5 6]]\n"
     ]
    }
   ],
   "source": [
    "import numpy as np\n",
    "a = np.array([[1,2,3],[3,4,5],[4,5,6]])  \n",
    "print (a)\n",
    "# 对始于索引的元素进行切片  \n",
    "print  ('现在我们从索引 a[1:] 开始对数组切片'  )\n",
    "print (a[1:])"
   ]
  },
  {
   "cell_type": "code",
   "execution_count": 7,
   "metadata": {},
   "outputs": [
    {
     "name": "stdout",
     "output_type": "stream",
     "text": [
      "我们的数组是：\n",
      "[[1 2 3]\n",
      " [3 4 5]\n",
      " [4 5 6]]\n",
      "\n",
      "\n",
      "第二列的元素是：\n",
      "[2 4 5]\n",
      "\n",
      "\n",
      "第二行的元素是：\n",
      "[3 4 5]\n",
      "\n",
      "\n",
      "第二列及其剩余元素是：\n",
      "[[2 3]\n",
      " [4 5]\n",
      " [5 6]]\n"
     ]
    }
   ],
   "source": [
    "# 切片还可以包括省略号(...)，来使选择元组的长度与数组的维度相同。 如果在行位置使用省略号，它将返回包含行中元素的ndarray。\n",
    "\n",
    "# 最开始的数组  \n",
    "import numpy as np\n",
    "a = np.array([[1,2,3],[3,4,5],[4,5,6]])  \n",
    "print  ('我们的数组是：')  \n",
    "print (a)\n",
    "print  ('\\n'  )\n",
    "# 这会返回第二列元素的数组：  \n",
    "print  ('第二列的元素是：' ) \n",
    "print (a[...,1]  )\n",
    "print  ('\\n'  )\n",
    "# 现在我们从第二行切片所有元素：  \n",
    "print ( '第二行的元素是：')  \n",
    "print (a[1,...]  )\n",
    "print  ('\\n'  )\n",
    "# 现在我们从第二列向后切片所有元素：\n",
    "print ( '第二列及其剩余元素是：' ) \n",
    "print (a[...,1:])"
   ]
  },
  {
   "cell_type": "code",
   "execution_count": null,
   "metadata": {},
   "outputs": [],
   "source": []
  },
  {
   "cell_type": "code",
   "execution_count": null,
   "metadata": {},
   "outputs": [],
   "source": []
  },
  {
   "cell_type": "code",
   "execution_count": null,
   "metadata": {},
   "outputs": [],
   "source": []
  },
  {
   "cell_type": "code",
   "execution_count": null,
   "metadata": {},
   "outputs": [],
   "source": []
  },
  {
   "cell_type": "code",
   "execution_count": null,
   "metadata": {},
   "outputs": [],
   "source": []
  },
  {
   "cell_type": "code",
   "execution_count": null,
   "metadata": {},
   "outputs": [],
   "source": []
  }
 ],
 "metadata": {
  "kernelspec": {
   "display_name": "Python 3",
   "language": "python",
   "name": "python3"
  },
  "language_info": {
   "codemirror_mode": {
    "name": "ipython",
    "version": 3
   },
   "file_extension": ".py",
   "mimetype": "text/x-python",
   "name": "python",
   "nbconvert_exporter": "python",
   "pygments_lexer": "ipython3",
   "version": "3.5.4rc1"
  }
 },
 "nbformat": 4,
 "nbformat_minor": 2
}
