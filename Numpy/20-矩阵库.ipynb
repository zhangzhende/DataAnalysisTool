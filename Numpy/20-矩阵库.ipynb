{
 "cells": [
  {
   "cell_type": "code",
   "execution_count": null,
   "metadata": {},
   "outputs": [],
   "source": [
    "NumPy 包包含一个 Matrix库numpy.matlib。此模块的函数返回矩阵而不是返回ndarray对象"
   ]
  },
  {
   "cell_type": "code",
   "execution_count": null,
   "metadata": {},
   "outputs": [],
   "source": [
    "matlib.empty()\n",
    "matlib.empty()函数返回一个新的矩阵，而不初始化元素。 该函数接受以下参数。\n",
    "numpy.matlib.empty(shape, dtype, order)\n",
    "其中：\n",
    "序号\t参数及描述\n",
    "1.\tshape 定义新矩阵形状的整数或整数元组\n",
    "2.\tDtype 可选，输出的数据类型\n",
    "3.\torder C 或者 F"
   ]
  },
  {
   "cell_type": "code",
   "execution_count": 1,
   "metadata": {},
   "outputs": [
    {
     "name": "stdout",
     "output_type": "stream",
     "text": [
      "[[7.29446591e-315 7.29367872e-315]\n",
      " [9.42311741e-312 9.42222329e-312]]\n"
     ]
    }
   ],
   "source": [
    "import numpy.matlib \n",
    "import numpy as np \n",
    "print (np.matlib.empty((2,2))  )\n",
    "# 填充为随机数据"
   ]
  },
  {
   "cell_type": "code",
   "execution_count": 2,
   "metadata": {},
   "outputs": [
    {
     "name": "stdout",
     "output_type": "stream",
     "text": [
      "[[0. 0.]\n",
      " [0. 0.]]\n"
     ]
    }
   ],
   "source": [
    "# numpy.matlib.zeros()\n",
    "# 此函数返回以零填充的矩阵。\n",
    "\n",
    "import numpy.matlib \n",
    "import numpy as np \n",
    "print (np.matlib.zeros((2,2)))"
   ]
  },
  {
   "cell_type": "code",
   "execution_count": 3,
   "metadata": {},
   "outputs": [
    {
     "name": "stdout",
     "output_type": "stream",
     "text": [
      "[[1. 1.]\n",
      " [1. 1.]]\n"
     ]
    }
   ],
   "source": [
    "# numpy.matlib.ones()\n",
    "# 此函数返回以一填充的矩阵。\n",
    "\n",
    "import numpy.matlib \n",
    "import numpy as np \n",
    "print (np.matlib.ones((2,2)))"
   ]
  },
  {
   "cell_type": "code",
   "execution_count": null,
   "metadata": {},
   "outputs": [],
   "source": [
    "numpy.matlib.eye()\n",
    "这个函数返回一个矩阵，对角线元素为 1，其他位置为零。 该函数接受以下参数。\n",
    "其中：\n",
    "序号\t参数及描述\n",
    "1.\tn 返回矩阵的行数\n",
    "2.\tM 返回矩阵的列数，默认为n\n",
    "3.\tk 对角线的索引\n",
    "4.\tdtype 输出的数据类型"
   ]
  },
  {
   "cell_type": "code",
   "execution_count": 4,
   "metadata": {},
   "outputs": [
    {
     "name": "stdout",
     "output_type": "stream",
     "text": [
      "[[1. 0. 0. 0.]\n",
      " [0. 1. 0. 0.]\n",
      " [0. 0. 1. 0.]]\n"
     ]
    }
   ],
   "source": [
    "import numpy.matlib \n",
    "import numpy as np \n",
    "print (np.matlib.eye(n =  3, M =  4, k =  0, dtype =  float))"
   ]
  },
  {
   "cell_type": "code",
   "execution_count": 5,
   "metadata": {},
   "outputs": [
    {
     "name": "stdout",
     "output_type": "stream",
     "text": [
      "[[1. 0. 0. 0. 0.]\n",
      " [0. 1. 0. 0. 0.]\n",
      " [0. 0. 1. 0. 0.]\n",
      " [0. 0. 0. 1. 0.]\n",
      " [0. 0. 0. 0. 1.]]\n"
     ]
    }
   ],
   "source": [
    "# numpy.matlib.identity()\n",
    "# numpy.matlib.identity()函数返回给定大小的单位矩阵。单位矩阵是主对角线元素都为 1 的方阵。\n",
    "\n",
    "import numpy.matlib \n",
    "import numpy as np \n",
    "print (np.matlib.identity(5, dtype =  float))"
   ]
  },
  {
   "cell_type": "code",
   "execution_count": 6,
   "metadata": {},
   "outputs": [
    {
     "name": "stdout",
     "output_type": "stream",
     "text": [
      "[[7.68843849e-01 3.64699109e-01 5.67125501e-01]\n",
      " [2.38346247e-04 7.86631661e-01 3.79862676e-01]\n",
      " [7.69341679e-01 6.53159789e-01 3.76308794e-02]]\n"
     ]
    }
   ],
   "source": [
    "# numpy.matlib.rand()\n",
    "# numpy.matlib.rand()`函数返回给定大小的填充随机值的矩阵。\n",
    "\n",
    "import numpy.matlib \n",
    "import numpy as np \n",
    "print (np.matlib.rand(3,3))"
   ]
  },
  {
   "cell_type": "code",
   "execution_count": 7,
   "metadata": {},
   "outputs": [
    {
     "name": "stdout",
     "output_type": "stream",
     "text": [
      "[[1 2]\n",
      " [3 4]]\n"
     ]
    }
   ],
   "source": [
    "import numpy.matlib \n",
    "import numpy as np  \n",
    "\n",
    "i = np.matrix('1,2;3,4')  \n",
    "print (i)"
   ]
  },
  {
   "cell_type": "code",
   "execution_count": 8,
   "metadata": {},
   "outputs": [
    {
     "name": "stdout",
     "output_type": "stream",
     "text": [
      "[[1 2]\n",
      " [3 4]]\n"
     ]
    }
   ],
   "source": [
    "import numpy.matlib \n",
    "import numpy as np  \n",
    "\n",
    "j = np.asarray(i)  \n",
    "print (j)"
   ]
  },
  {
   "cell_type": "code",
   "execution_count": 9,
   "metadata": {},
   "outputs": [
    {
     "name": "stdout",
     "output_type": "stream",
     "text": [
      "[[1 2]\n",
      " [3 4]]\n"
     ]
    }
   ],
   "source": [
    "import numpy.matlib \n",
    "import numpy as np  \n",
    "\n",
    "k = np.asmatrix (j)  \n",
    "print( k)"
   ]
  },
  {
   "cell_type": "code",
   "execution_count": null,
   "metadata": {},
   "outputs": [],
   "source": []
  },
  {
   "cell_type": "code",
   "execution_count": null,
   "metadata": {},
   "outputs": [],
   "source": []
  },
  {
   "cell_type": "code",
   "execution_count": null,
   "metadata": {},
   "outputs": [],
   "source": []
  },
  {
   "cell_type": "code",
   "execution_count": null,
   "metadata": {},
   "outputs": [],
   "source": []
  },
  {
   "cell_type": "code",
   "execution_count": null,
   "metadata": {},
   "outputs": [],
   "source": []
  },
  {
   "cell_type": "code",
   "execution_count": null,
   "metadata": {},
   "outputs": [],
   "source": []
  }
 ],
 "metadata": {
  "kernelspec": {
   "display_name": "Python 3",
   "language": "python",
   "name": "python3"
  },
  "language_info": {
   "codemirror_mode": {
    "name": "ipython",
    "version": 3
   },
   "file_extension": ".py",
   "mimetype": "text/x-python",
   "name": "python",
   "nbconvert_exporter": "python",
   "pygments_lexer": "ipython3",
   "version": "3.5.4rc1"
  }
 },
 "nbformat": 4,
 "nbformat_minor": 2
}
