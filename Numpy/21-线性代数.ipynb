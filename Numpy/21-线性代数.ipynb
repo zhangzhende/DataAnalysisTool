{
 "cells": [
  {
   "cell_type": "code",
   "execution_count": null,
   "metadata": {},
   "outputs": [],
   "source": [
    "NumPy 包包含numpy.linalg模块，提供线性代数所需的所有功能"
   ]
  },
  {
   "cell_type": "code",
   "execution_count": null,
   "metadata": {},
   "outputs": [],
   "source": [
    "序号\t函数及描述\n",
    "1.\tdot 两个数组的点积\n",
    "2.\tvdot 两个向量的点积\n",
    "3.\tinner 两个数组的内积\n",
    "4.\tmatmul 两个数组的矩阵积\n",
    "5.\tdeterminant 数组的行列式\n",
    "6.\tsolve 求解线性矩阵方程\n",
    "7.\tinv 寻找矩阵的乘法逆矩阵"
   ]
  },
  {
   "cell_type": "code",
   "execution_count": 1,
   "metadata": {},
   "outputs": [
    {
     "name": "stdout",
     "output_type": "stream",
     "text": [
      "[[1 2]\n",
      " [3 4]]\n",
      "[[11 12]\n",
      " [13 14]]\n",
      "[[37 40]\n",
      " [85 92]]\n"
     ]
    }
   ],
   "source": [
    "# numpy.dot()\n",
    "# 此函数返回两个数组的点积。 对于二维向量，其等效于矩阵乘法。 对于一维数组，它是向量的内积。 \n",
    "# 对于 N 维数组，它是a的最后一个轴上的和与b的倒数第二个轴的乘积。\n",
    "\n",
    "import numpy.matlib \n",
    "import numpy as np \n",
    "\n",
    "a = np.array([[1,2],[3,4]]) \n",
    "b = np.array([[11,12],[13,14]]) \n",
    "print(a)\n",
    "print(b)\n",
    "print(np.dot(a,b))\n",
    "#[[1*11+2*13, 1*12+2*14],[3*11+4*13, 3*12+4*14]]"
   ]
  },
  {
   "cell_type": "code",
   "execution_count": 2,
   "metadata": {},
   "outputs": [
    {
     "name": "stdout",
     "output_type": "stream",
     "text": [
      "[[1 2]\n",
      " [3 4]]\n",
      "[[11 12]\n",
      " [13 14]]\n",
      "130\n"
     ]
    }
   ],
   "source": [
    "# numpy.vdot()\n",
    "# 此函数返回两个向量的点积。 如果第一个参数是复数，那么它的共轭复数会用于计算。 如果参数id是多维数组，它会被展开。\n",
    "\n",
    "import numpy as np \n",
    "a = np.array([[1,2],[3,4]]) \n",
    "b = np.array([[11,12],[13,14]]) \n",
    "print(a)\n",
    "print(b)\n",
    "print (np.vdot(a,b))\n",
    "#1*11 + 2*12 + 3*13 + 4*14 = 130。"
   ]
  },
  {
   "cell_type": "code",
   "execution_count": 3,
   "metadata": {},
   "outputs": [
    {
     "name": "stdout",
     "output_type": "stream",
     "text": [
      "2\n"
     ]
    }
   ],
   "source": [
    "# numpy.inner()\n",
    "# 此函数返回一维数组的向量内积。 对于更高的维度，它返回最后一个轴上的和的乘积。\n",
    "\n",
    "import numpy as np \n",
    "print (np.inner(np.array([1,2,3]),np.array([0,1,0])) )\n",
    "# 等价于 1*0+2*1+3*0"
   ]
  },
  {
   "cell_type": "code",
   "execution_count": 4,
   "metadata": {},
   "outputs": [
    {
     "name": "stdout",
     "output_type": "stream",
     "text": [
      "数组 a：\n",
      "[[1 2]\n",
      " [3 4]]\n",
      "数组 b：\n",
      "[[11 12]\n",
      " [13 14]]\n",
      "内积：\n",
      "[[35 41]\n",
      " [81 95]]\n"
     ]
    }
   ],
   "source": [
    "# 多维数组示例 \n",
    "import numpy as np \n",
    "a = np.array([[1,2], [3,4]]) \n",
    "\n",
    "print ('数组 a：' )\n",
    "print (a )\n",
    "b = np.array([[11, 12], [13, 14]]) \n",
    "\n",
    "print ('数组 b：' )\n",
    "print( b )\n",
    "\n",
    "print ('内积：' )\n",
    "print( np.inner(a,b))"
   ]
  },
  {
   "cell_type": "code",
   "execution_count": 5,
   "metadata": {},
   "outputs": [
    {
     "name": "stdout",
     "output_type": "stream",
     "text": [
      "[[1, 0], [0, 1]]\n",
      "[[4, 1], [2, 2]]\n",
      "[[4 1]\n",
      " [2 2]]\n"
     ]
    }
   ],
   "source": [
    "# numpy.matmul\n",
    "# numpy.matmul()函数返回两个数组的矩阵乘积。 \n",
    "# 虽然它返回二维数组的正常乘积，但如果任一参数的维数大于2，则将其视为存在于最后两个索引的矩阵的栈，并进行相应广播。\n",
    "# 另一方面，如果任一参数是一维数组，则通过在其维度上附加 1 来将其提升为矩阵，并在乘法之后被去除。\n",
    "\n",
    "# 对于二维数组，它就是矩阵乘法\n",
    "import numpy.matlib \n",
    "import numpy as np \n",
    "\n",
    "a = [[1,0],[0,1]] \n",
    "b = [[4,1],[2,2]] \n",
    "print(a)\n",
    "print(b)\n",
    "print (np.matmul(a,b))#1*4+0*1,0*4+1*1,1*2+0*2,0*2+1*2"
   ]
  },
  {
   "cell_type": "code",
   "execution_count": 6,
   "metadata": {},
   "outputs": [
    {
     "name": "stdout",
     "output_type": "stream",
     "text": [
      "[[1, 0], [0, 1]]\n",
      "[1, 2]\n",
      "[1 2]\n",
      "[1 2]\n"
     ]
    }
   ],
   "source": [
    "# 二维和一维运算\n",
    "import numpy.matlib \n",
    "import numpy as np \n",
    "\n",
    "a = [[1,0],[0,1]] \n",
    "b = [1,2] \n",
    "print(a)\n",
    "print(b)\n",
    "print (np.matmul(a,b) )\n",
    "print( np.matmul(b,a))"
   ]
  },
  {
   "cell_type": "code",
   "execution_count": 8,
   "metadata": {},
   "outputs": [
    {
     "name": "stdout",
     "output_type": "stream",
     "text": [
      "[[[0 1]\n",
      "  [2 3]]\n",
      "\n",
      " [[4 5]\n",
      "  [6 7]]]\n",
      "= = = = = = = = = = = = = = = = = = = = \n",
      "[[0 1]\n",
      " [2 3]]\n",
      "= = = = = = = = = = = = = = = = = = = = \n",
      "[[[ 2  3]\n",
      "  [ 6 11]]\n",
      "\n",
      " [[10 19]\n",
      "  [14 27]]]\n"
     ]
    }
   ],
   "source": [
    "# 维度大于二的数组 \n",
    "import numpy.matlib \n",
    "import numpy as np \n",
    "\n",
    "a = np.arange(8).reshape(2,2,2) \n",
    "b = np.arange(4).reshape(2,2) \n",
    "print(a)\n",
    "print(\"= = \"*10)\n",
    "print(b)\n",
    "print(\"= = \"*10)\n",
    "print (np.matmul(a,b))"
   ]
  },
  {
   "cell_type": "code",
   "execution_count": 9,
   "metadata": {},
   "outputs": [
    {
     "name": "stdout",
     "output_type": "stream",
     "text": [
      "[[1 2]\n",
      " [3 4]]\n",
      "= = = = = = = = = = = = = = = = = = = = \n",
      "-2.0000000000000004\n"
     ]
    }
   ],
   "source": [
    "# numpy.linalg.det()\n",
    "# 行列式在线性代数中是非常有用的值。 它从方阵的对角元素计算。 对于 2×2 矩阵，它是左上和右下元素的乘积与其他两个的乘积的差。\n",
    "# 换句话说，对于矩阵[[a，b]，[c，d]]，行列式计算为ad-bc。 较大的方阵被认为是 2×2 矩阵的组合。\n",
    "# numpy.linalg.det()函数计算输入矩阵的行列式。\n",
    "\n",
    "import numpy as np\n",
    "a = np.array([[1,2], [3,4]]) \n",
    "print(a)\n",
    "print(\"= = \"*10)\n",
    "print (np.linalg.det(a))"
   ]
  },
  {
   "cell_type": "code",
   "execution_count": 10,
   "metadata": {},
   "outputs": [
    {
     "name": "stdout",
     "output_type": "stream",
     "text": [
      "[[ 6  1  1]\n",
      " [ 4 -2  5]\n",
      " [ 2  8  7]]\n",
      "-306.0\n",
      "-306\n"
     ]
    }
   ],
   "source": [
    "b = np.array([[6,1,1], [4, -2, 5], [2,8,7]]) \n",
    "print (b )\n",
    "print (np.linalg.det(b) )\n",
    "print (6*(-2*7 - 5*8) - 1*(4*7 - 5*2) + 1*(4*8 - -2*2))"
   ]
  },
  {
   "cell_type": "code",
   "execution_count": null,
   "metadata": {},
   "outputs": [],
   "source": [
    "numpy.linalg.solve()\n",
    "numpy.linalg.solve()函数给出了矩阵形式的线性方程的解。"
   ]
  },
  {
   "cell_type": "code",
   "execution_count": 11,
   "metadata": {},
   "outputs": [
    {
     "name": "stdout",
     "output_type": "stream",
     "text": [
      "[[1 2]\n",
      " [3 4]]\n",
      "[[-2.   1. ]\n",
      " [ 1.5 -0.5]]\n",
      "[[1.0000000e+00 0.0000000e+00]\n",
      " [8.8817842e-16 1.0000000e+00]]\n"
     ]
    }
   ],
   "source": [
    "# numpy.linalg.inv()\n",
    "# 我们使用numpy.linalg.inv()函数来计算矩阵的逆。 矩阵的逆是这样的，如果它乘以原始矩阵，则得到单位矩阵。\n",
    "\n",
    "import numpy as np \n",
    "\n",
    "x = np.array([[1,2],[3,4]]) \n",
    "y = np.linalg.inv(x) \n",
    "print (x )\n",
    "print( y )\n",
    "print( np.dot(x,y))"
   ]
  },
  {
   "cell_type": "code",
   "execution_count": 12,
   "metadata": {},
   "outputs": [
    {
     "name": "stdout",
     "output_type": "stream",
     "text": [
      "数组 a：\n",
      "[[ 1  1  1]\n",
      " [ 0  2  5]\n",
      " [ 2  5 -1]]\n",
      "a 的逆：\n",
      "[[ 1.28571429 -0.28571429 -0.14285714]\n",
      " [-0.47619048  0.14285714  0.23809524]\n",
      " [ 0.19047619  0.14285714 -0.0952381 ]]\n",
      "矩阵 b：\n",
      "[[ 6]\n",
      " [-4]\n",
      " [27]]\n",
      "计算：A^(-1)B：\n",
      "[[ 5.]\n",
      " [ 3.]\n",
      " [-2.]]\n"
     ]
    }
   ],
   "source": [
    "# 现在让我们在示例中创建一个矩阵A的逆。\n",
    "\n",
    "import numpy as np \n",
    "a = np.array([[1,1,1],[0,2,5],[2,5,-1]]) \n",
    "\n",
    "print ('数组 a：')\n",
    "print (a )\n",
    "ainv = np.linalg.inv(a) \n",
    "\n",
    "print ('a 的逆：' )\n",
    "print (ainv  )\n",
    "\n",
    "print ('矩阵 b：' )\n",
    "b = np.array([[6],[-4],[27]]) \n",
    "print (b )\n",
    "\n",
    "print( '计算：A^(-1)B：' )\n",
    "x = np.linalg.solve(a,b) \n",
    "print (x ) \n",
    "# 这就是线性方向 x = 5, y = 3, z = -2 的解"
   ]
  },
  {
   "cell_type": "code",
   "execution_count": null,
   "metadata": {},
   "outputs": [],
   "source": []
  },
  {
   "cell_type": "code",
   "execution_count": null,
   "metadata": {},
   "outputs": [],
   "source": []
  },
  {
   "cell_type": "code",
   "execution_count": null,
   "metadata": {},
   "outputs": [],
   "source": []
  },
  {
   "cell_type": "code",
   "execution_count": null,
   "metadata": {},
   "outputs": [],
   "source": []
  },
  {
   "cell_type": "code",
   "execution_count": null,
   "metadata": {},
   "outputs": [],
   "source": []
  },
  {
   "cell_type": "code",
   "execution_count": null,
   "metadata": {},
   "outputs": [],
   "source": []
  }
 ],
 "metadata": {
  "kernelspec": {
   "display_name": "Python 3",
   "language": "python",
   "name": "python3"
  },
  "language_info": {
   "codemirror_mode": {
    "name": "ipython",
    "version": 3
   },
   "file_extension": ".py",
   "mimetype": "text/x-python",
   "name": "python",
   "nbconvert_exporter": "python",
   "pygments_lexer": "ipython3",
   "version": "3.5.4rc1"
  }
 },
 "nbformat": 4,
 "nbformat_minor": 2
}
