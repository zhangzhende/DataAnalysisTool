{
 "cells": [
  {
   "cell_type": "code",
   "execution_count": null,
   "metadata": {},
   "outputs": [],
   "source": [
    "序号\t操作及描述\n",
    "1.\tbitwise_and 对数组元素执行位与操作\n",
    "2.\tbitwise_or 对数组元素执行位或操作\n",
    "3.\tinvert 计算位非\n",
    "4.\tleft_shift 向左移动二进制表示的位\n",
    "5.\tright_shift 向右移动二进制表示的位"
   ]
  },
  {
   "cell_type": "code",
   "execution_count": 2,
   "metadata": {},
   "outputs": [
    {
     "name": "stdout",
     "output_type": "stream",
     "text": [
      "13 和 17 的二进制形式：\n",
      "0b1101 0b10001\n",
      "\n",
      "\n",
      "13 和 17 的位与：\n",
      "1\n"
     ]
    }
   ],
   "source": [
    "# bitwise_and\n",
    "# 通过np.bitwise_and()函数对输入数组中的整数的二进制表示的相应位执行位与运算\n",
    "\n",
    "import numpy as np \n",
    "print ('13 和 17 的二进制形式：' )\n",
    "a,b = 13,17 \n",
    "print (bin(a), bin(b) )\n",
    "print ('\\n'  )\n",
    "\n",
    "print ('13 和 17 的位与：' )\n",
    "print (np.bitwise_and(13, 17))"
   ]
  },
  {
   "cell_type": "code",
   "execution_count": 3,
   "metadata": {},
   "outputs": [
    {
     "name": "stdout",
     "output_type": "stream",
     "text": [
      "13 和 17 的二进制形式：\n",
      "0b1101 0b10001\n",
      "13 和 17 的位或：\n",
      "29\n"
     ]
    }
   ],
   "source": [
    "# bitwise_or\n",
    "# 通过np.bitwise_or()函数对输入数组中的整数的二进制表示的相应位执行位或运算。\n",
    "\n",
    "import numpy as np \n",
    "a,b = 13,17 \n",
    "print ('13 和 17 的二进制形式：' )\n",
    "print (bin(a), bin(b) ) \n",
    "\n",
    "print ('13 和 17 的位或：' )\n",
    "print (np.bitwise_or(13, 17))"
   ]
  },
  {
   "cell_type": "code",
   "execution_count": 4,
   "metadata": {},
   "outputs": [
    {
     "name": "stdout",
     "output_type": "stream",
     "text": [
      "13 的位反转，其中 ndarray 的 dtype 是 uint8：\n",
      "[242]\n",
      "\n",
      "\n",
      "13 的二进制表示：\n",
      "00001101\n",
      "\n",
      "\n",
      "242 的二进制表示：\n",
      "11110010\n"
     ]
    }
   ],
   "source": [
    "# invert\n",
    "# 此函数计算输入数组中整数的位非结果。 对于有符号整数，返回补码。\n",
    "\n",
    "import numpy as np \n",
    "\n",
    "print( '13 的位反转，其中 ndarray 的 dtype 是 uint8：' )\n",
    "print (np.invert(np.array([13], dtype = np.uint8)) )\n",
    "print( '\\n'  )\n",
    "# 比较 13 和 242 的二进制表示，我们发现了位的反转\n",
    "\n",
    "print ('13 的二进制表示：' )\n",
    "print (np.binary_repr(13, width = 8) )\n",
    "print ('\\n'  )\n",
    "\n",
    "print ('242 的二进制表示：' )\n",
    "print( np.binary_repr(242, width = 8))\n",
    "#np.binary_repr()函数返回给定宽度中十进制数的二进制表示。"
   ]
  },
  {
   "cell_type": "code",
   "execution_count": 5,
   "metadata": {},
   "outputs": [
    {
     "name": "stdout",
     "output_type": "stream",
     "text": [
      "将 10 左移两位：\n",
      "40\n",
      "\n",
      "\n",
      "10 的二进制表示：\n",
      "00001010\n",
      "\n",
      "\n",
      "40 的二进制表示：\n",
      "00101000\n"
     ]
    }
   ],
   "source": [
    "# left_shift 左位移\n",
    "# numpy.left shift()函数将数组元素的二进制表示中的位向左移动到指定位置，右侧附加相等数量的 0\n",
    "import numpy as np \n",
    "\n",
    "print ('将 10 左移两位：') \n",
    "print( np.left_shift(10,2) )\n",
    "print ('\\n'  )\n",
    "\n",
    "print ('10 的二进制表示：' )\n",
    "print (np.binary_repr(10, width = 8) )\n",
    "print ('\\n')  \n",
    "\n",
    "print ('40 的二进制表示：' )\n",
    "print( np.binary_repr(40, width = 8) ) \n",
    "#  '00001010' 中的两位移动到了左边，并在右边添加了两个 0。"
   ]
  },
  {
   "cell_type": "code",
   "execution_count": 6,
   "metadata": {},
   "outputs": [
    {
     "name": "stdout",
     "output_type": "stream",
     "text": [
      "将 40 右移两位：\n",
      "10\n",
      "\n",
      "\n",
      "40 的二进制表示：\n",
      "00101000\n",
      "\n",
      "\n",
      "10 的二进制表示：\n",
      "00001010\n"
     ]
    }
   ],
   "source": [
    "# right_shift 右位移\n",
    "# numpy.right_shift()函数将数组元素的二进制表示中的位向右移动到指定位置，左侧附加相等数量的 0。\n",
    "import numpy as np \n",
    "\n",
    "print ('将 40 右移两位：' )\n",
    "print( np.right_shift(40,2) )\n",
    "print ('\\n'  )\n",
    "\n",
    "print ('40 的二进制表示：' )\n",
    "print (np.binary_repr(40, width = 8) )\n",
    "print ('\\n'  )\n",
    "\n",
    "print ('10 的二进制表示：') \n",
    "print (np.binary_repr(10, width = 8)  )\n",
    "#  '00001010' 中的两位移动到了右边，并在左边添加了两个 0。"
   ]
  },
  {
   "cell_type": "code",
   "execution_count": null,
   "metadata": {},
   "outputs": [],
   "source": []
  },
  {
   "cell_type": "code",
   "execution_count": null,
   "metadata": {},
   "outputs": [],
   "source": []
  },
  {
   "cell_type": "code",
   "execution_count": null,
   "metadata": {},
   "outputs": [],
   "source": []
  },
  {
   "cell_type": "code",
   "execution_count": null,
   "metadata": {},
   "outputs": [],
   "source": []
  },
  {
   "cell_type": "code",
   "execution_count": null,
   "metadata": {},
   "outputs": [],
   "source": []
  },
  {
   "cell_type": "code",
   "execution_count": null,
   "metadata": {},
   "outputs": [],
   "source": []
  },
  {
   "cell_type": "code",
   "execution_count": null,
   "metadata": {},
   "outputs": [],
   "source": []
  },
  {
   "cell_type": "code",
   "execution_count": null,
   "metadata": {},
   "outputs": [],
   "source": []
  },
  {
   "cell_type": "code",
   "execution_count": null,
   "metadata": {},
   "outputs": [],
   "source": []
  },
  {
   "cell_type": "code",
   "execution_count": null,
   "metadata": {},
   "outputs": [],
   "source": []
  },
  {
   "cell_type": "code",
   "execution_count": null,
   "metadata": {},
   "outputs": [],
   "source": []
  },
  {
   "cell_type": "code",
   "execution_count": null,
   "metadata": {},
   "outputs": [],
   "source": []
  },
  {
   "cell_type": "code",
   "execution_count": null,
   "metadata": {},
   "outputs": [],
   "source": []
  }
 ],
 "metadata": {
  "kernelspec": {
   "display_name": "Python 3",
   "language": "python",
   "name": "python3"
  },
  "language_info": {
   "codemirror_mode": {
    "name": "ipython",
    "version": 3
   },
   "file_extension": ".py",
   "mimetype": "text/x-python",
   "name": "python",
   "nbconvert_exporter": "python",
   "pygments_lexer": "ipython3",
   "version": "3.5.4rc1"
  }
 },
 "nbformat": 4,
 "nbformat_minor": 2
}
