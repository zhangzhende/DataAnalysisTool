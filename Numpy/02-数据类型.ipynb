{
 "cells": [
  {
   "cell_type": "code",
   "execution_count": null,
   "metadata": {},
   "outputs": [],
   "source": [
    "NumPy 支持比 Python 更多种类的数值类型\n",
    "序号\t数据类型及描述\n",
    "1.\tbool_ 存储为一个字节的布尔值(真或假)\n",
    "2.\tint_ 默认整数，相当于 C 的long，通常为int32或int64\n",
    "3.\tintc 相当于 C 的int，通常为int32或int64\n",
    "4.\tintp 用于索引的整数，相当于 C 的size_t，通常为int32或int64\n",
    "5.\tint 8字节(-128 ~ 127)\n",
    "6.\tint16 16 位整数(-32768 ~ 32767)\n",
    "7.\tint32 32 位整数(-2147483648 ~ 2147483647)\n",
    "8.\tint64 64 位整数(-9223372036854775808 ~ 9223372036854775807)\n",
    "9.\tuint8 8 位无符号整数(0 ~ 255)\n",
    "10.\tuint16 16 位无符号整数(0 ~ 65535)\n",
    "11.\tuint32 32 位无符号整数(0 ~ 4294967295)\n",
    "12.\tuint64 64 位无符号整数(0 ~ 18446744073709551615)\n",
    "13.\tfloat_ float64的简写\n",
    "14.\tfloat16 半精度浮点：符号位，5 位指数，10 位尾数\n",
    "15.\tfloat32 单精度浮点：符号位，8 位指数，23 位尾数\n",
    "16.\tfloat64 双精度浮点：符号位，11 位指数，52 位尾数\n",
    "17.\tcomplex_ complex128的简写\n",
    "18.\tcomplex64 复数，由两个 32 位浮点表示(实部和虚部)\n",
    "19.\tcomplex128 复数，由两个 64 位浮点表示(实部和虚部)\n",
    "\n",
    "NumPy 数字类型是dtype(数据类型)对象的实例，每个对象具有唯一的特征。 这些类型可以是np.bool_，np.float32等。"
   ]
  },
  {
   "cell_type": "code",
   "execution_count": null,
   "metadata": {},
   "outputs": [],
   "source": [
    "数据类型对象 (dtype)\n",
    "\n",
    "数据类型对象描述了对应于数组的固定内存块的解释，取决于以下方面：\n",
    "数据类型(整数、浮点或者 Python 对象) 数据大小 \n",
    "字节序(小端或大端) \n",
    "在结构化类型的情况下，字段的名称，每个字段的数据类型，和每个字段占用的内存块部分。 \n",
    "如果数据类型是子序列，它的形状和数据类型。\n",
    "\n",
    "字节顺序取决于数据类型的前缀<或>。<意味着编码是小端(最小有效字节存储在最小地址中)。>意味着编码是大端(最大有效字节存储在最小地址中)。"
   ]
  },
  {
   "cell_type": "code",
   "execution_count": null,
   "metadata": {},
   "outputs": [],
   "source": [
    "dtype可由一下语法构造：\n",
    "numpy.dtype(object, align, copy)\n",
    "\n",
    "Object：被转换为数据类型的对象。 \n",
    "Align：如果为true，则向字段添加间隔，使其类似 C 的结构体。 \n",
    "Copy? 生成dtype对象的新副本，如果为flase，结果是内建数据类型对象的引用。"
   ]
  },
  {
   "cell_type": "code",
   "execution_count": 2,
   "metadata": {},
   "outputs": [
    {
     "name": "stdout",
     "output_type": "stream",
     "text": [
      "int32\n"
     ]
    }
   ],
   "source": [
    "# 使用数组标量类型  \n",
    "import numpy as np \n",
    "dt = np.dtype(np.int32)  \n",
    "print (dt)"
   ]
  },
  {
   "cell_type": "code",
   "execution_count": 3,
   "metadata": {},
   "outputs": [
    {
     "name": "stdout",
     "output_type": "stream",
     "text": [
      "int32\n"
     ]
    }
   ],
   "source": [
    "#int8，int16，int32，int64 可替换为等价的字符串 'i1'，'i2'，'i4'，以及其他。  \n",
    "import numpy as np \n",
    "\n",
    "dt = np.dtype('i4')  \n",
    "print (dt)"
   ]
  },
  {
   "cell_type": "code",
   "execution_count": 4,
   "metadata": {},
   "outputs": [
    {
     "name": "stdout",
     "output_type": "stream",
     "text": [
      ">i4\n"
     ]
    }
   ],
   "source": [
    "# 使用端记号  \n",
    "import numpy as np \n",
    "dt = np.dtype('>i4')  \n",
    "print (dt)"
   ]
  },
  {
   "cell_type": "code",
   "execution_count": 5,
   "metadata": {},
   "outputs": [
    {
     "name": "stdout",
     "output_type": "stream",
     "text": [
      "[('age', 'i1')]\n"
     ]
    }
   ],
   "source": [
    "# 首先创建结构化数据类型。  \n",
    "import numpy as np \n",
    "dt = np.dtype([('age',np.int8)])  \n",
    "print (dt)"
   ]
  },
  {
   "cell_type": "code",
   "execution_count": 8,
   "metadata": {},
   "outputs": [
    {
     "name": "stdout",
     "output_type": "stream",
     "text": [
      "[(10,) (20,) (30,)]\n"
     ]
    }
   ],
   "source": [
    "# 现在将其应用于 ndarray 对象  \n",
    "import numpy as np \n",
    "\n",
    "dt = np.dtype([('age',np.int8)]) \n",
    "a = np.array([(10),(20,),(30)], dtype = dt)  #末尾逗号可以不要\n",
    "print (a)"
   ]
  },
  {
   "cell_type": "code",
   "execution_count": 10,
   "metadata": {},
   "outputs": [
    {
     "name": "stdout",
     "output_type": "stream",
     "text": [
      "[10 20 30]\n"
     ]
    }
   ],
   "source": [
    "# 文件名称可用于访问 age 列的内容  \n",
    "dt = np.dtype([('age',np.int8)]) \n",
    "a = np.array([(10,),(20,),(30,)], dtype = dt)  \n",
    "print (a['age'])"
   ]
  },
  {
   "cell_type": "code",
   "execution_count": 12,
   "metadata": {},
   "outputs": [
    {
     "name": "stdout",
     "output_type": "stream",
     "text": [
      "[('name', 'S20'), ('age', 'i1'), ('marks', '<f4')]\n"
     ]
    }
   ],
   "source": [
    "# 以下示例定义名为 student 的结构化数据类型，其中包含字符串字段name，整数字段age和浮点字段marks。 此dtype应用于ndarray对象。\n",
    "\n",
    "student = np.dtype([('name','S20'),  ('age',  'i1'),  ('marks',  'f4')])  \n",
    "print (student)"
   ]
  },
  {
   "cell_type": "code",
   "execution_count": 14,
   "metadata": {},
   "outputs": [
    {
     "name": "stdout",
     "output_type": "stream",
     "text": [
      "[(b'abc', 21, 50.) (b'xyz', 18, 75.)]\n"
     ]
    }
   ],
   "source": [
    "student = np.dtype([('name','S20'),  ('age',  'i1'),  ('marks',  'f4')]) \n",
    "a = np.array([('abc',  21,  50),('xyz',  18,  75)], dtype = student)  \n",
    "print (a)"
   ]
  },
  {
   "cell_type": "code",
   "execution_count": null,
   "metadata": {},
   "outputs": [],
   "source": [
    "'b'：布尔值 \n",
    "'i'：符号整数 \n",
    "'u'：无符号整数 \n",
    "'f'：浮点 \n",
    "'c'：复数浮点 \n",
    "'m'：时间间隔 \n",
    "'M'：日期时间 \n",
    "'O'：Python 对象\n",
    "'S', 'a'：字节串 \n",
    "'U'：Unicode \n",
    "'V'：原始数据(void)\n"
   ]
  },
  {
   "cell_type": "code",
   "execution_count": null,
   "metadata": {},
   "outputs": [],
   "source": []
  },
  {
   "cell_type": "code",
   "execution_count": null,
   "metadata": {},
   "outputs": [],
   "source": []
  },
  {
   "cell_type": "code",
   "execution_count": null,
   "metadata": {},
   "outputs": [],
   "source": []
  },
  {
   "cell_type": "code",
   "execution_count": null,
   "metadata": {},
   "outputs": [],
   "source": []
  },
  {
   "cell_type": "code",
   "execution_count": null,
   "metadata": {},
   "outputs": [],
   "source": []
  },
  {
   "cell_type": "code",
   "execution_count": null,
   "metadata": {},
   "outputs": [],
   "source": []
  }
 ],
 "metadata": {
  "kernelspec": {
   "display_name": "Python 3",
   "language": "python",
   "name": "python3"
  },
  "language_info": {
   "codemirror_mode": {
    "name": "ipython",
    "version": 3
   },
   "file_extension": ".py",
   "mimetype": "text/x-python",
   "name": "python",
   "nbconvert_exporter": "python",
   "pygments_lexer": "ipython3",
   "version": "3.5.4rc1"
  }
 },
 "nbformat": 4,
 "nbformat_minor": 2
}
