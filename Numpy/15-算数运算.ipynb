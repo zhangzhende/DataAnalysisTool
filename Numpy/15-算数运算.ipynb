{
 "cells": [
  {
   "cell_type": "code",
   "execution_count": null,
   "metadata": {},
   "outputs": [],
   "source": [
    "用于执行算术运算(如add()，subtract()，multiply()和divide())的输入数组必须具有相同的形状或符合数组广播规则。"
   ]
  },
  {
   "cell_type": "code",
   "execution_count": 1,
   "metadata": {},
   "outputs": [
    {
     "name": "stdout",
     "output_type": "stream",
     "text": [
      "第一个数组：\n",
      "[[0. 1. 2.]\n",
      " [3. 4. 5.]\n",
      " [6. 7. 8.]]\n",
      "\n",
      "\n",
      "第二个数组：\n",
      "[10 10 10]\n",
      "\n",
      "\n",
      "两个数组相加：\n",
      "[[10. 11. 12.]\n",
      " [13. 14. 15.]\n",
      " [16. 17. 18.]]\n",
      "\n",
      "\n",
      "两个数组相减：\n",
      "[[-10.  -9.  -8.]\n",
      " [ -7.  -6.  -5.]\n",
      " [ -4.  -3.  -2.]]\n",
      "\n",
      "\n",
      "两个数组相乘：\n",
      "[[ 0. 10. 20.]\n",
      " [30. 40. 50.]\n",
      " [60. 70. 80.]]\n",
      "\n",
      "\n",
      "两个数组相除：\n",
      "[[0.  0.1 0.2]\n",
      " [0.3 0.4 0.5]\n",
      " [0.6 0.7 0.8]]\n"
     ]
    }
   ],
   "source": [
    "import numpy as np \n",
    "a = np.arange(9, dtype = np.float_).reshape(3,3)  \n",
    "print  ('第一个数组：'  )\n",
    "print (a )\n",
    "print  ('\\n'  )\n",
    "print  ('第二个数组：' )\n",
    "b = np.array([10,10,10])  \n",
    "print (b )\n",
    "print ( '\\n'  )\n",
    "print  ('两个数组相加：')  \n",
    "print (np.add(a,b)  )\n",
    "print  ('\\n'  )\n",
    "print ( '两个数组相减：'  )\n",
    "print (np.subtract(a,b)  )\n",
    "print  ('\\n' ) \n",
    "print  ('两个数组相乘：'  )\n",
    "print( np.multiply(a,b)  )\n",
    "print  ('\\n'  )\n",
    "print  ('两个数组相除：'  )\n",
    "print( np.divide(a,b))"
   ]
  },
  {
   "cell_type": "code",
   "execution_count": 2,
   "metadata": {},
   "outputs": [
    {
     "name": "stdout",
     "output_type": "stream",
     "text": [
      "我们的数组是：\n",
      "[  0.25   1.33   1.     0.   100.  ]\n",
      "\n",
      "\n",
      "调用 reciprocal 函数：\n",
      "[4.        0.7518797 1.              inf 0.01     ]\n",
      "\n",
      "\n",
      "第二个数组：\n",
      "[100]\n",
      "\n",
      "\n",
      "调用 reciprocal 函数：\n",
      "[0]\n"
     ]
    },
    {
     "name": "stderr",
     "output_type": "stream",
     "text": [
      "d:\\python3564\\lib\\site-packages\\ipykernel_launcher.py:11: RuntimeWarning: divide by zero encountered in reciprocal\n",
      "  # This is added back by InteractiveShellApp.init_path()\n"
     ]
    }
   ],
   "source": [
    "# numpy.reciprocal()\n",
    "# 此函数返回参数逐元素的倒数，。 \n",
    "# 由于 Python 处理整数除法的方式，对于绝对值大于 1 的整数元素，结果始终为 0， 对于整数 0，则发出溢出警告。\n",
    "\n",
    "import numpy as np \n",
    "a = np.array([0.25,  1.33,  1,  0,  100])  #这里不是整型，而是浮点型\n",
    "print  ('我们的数组是：'  )\n",
    "print (a) \n",
    "print  ('\\n' ) \n",
    "print ( '调用 reciprocal 函数：'  )\n",
    "print( np.reciprocal(a) ) \n",
    "print  ('\\n' )\n",
    "b = np.array([100], dtype =  int)  #这里是整型，故而Python取倒数会置0\n",
    "print ( '第二个数组：' ) \n",
    "print( b )\n",
    "print ( '\\n'  )\n",
    "print(  '调用 reciprocal 函数：'  )\n",
    "print( np.reciprocal(b))\n"
   ]
  },
  {
   "cell_type": "code",
   "execution_count": 3,
   "metadata": {},
   "outputs": [
    {
     "name": "stdout",
     "output_type": "stream",
     "text": [
      "我们的数组是；\n",
      "[  10  100 1000]\n",
      "\n",
      "\n",
      "调用 power 函数：\n",
      "[    100   10000 1000000]\n",
      "\n",
      "\n",
      "第二个数组：\n",
      "[1 2 3]\n",
      "\n",
      "\n",
      "再次调用 power 函数：\n",
      "[        10      10000 1000000000]\n"
     ]
    }
   ],
   "source": [
    "# numpy.power()\n",
    "# 此函数将第一个输入数组中的元素作为底数，计算它与第二个输入数组中相应元素的幂\n",
    "\n",
    "import numpy as np \n",
    "a = np.array([10,100,1000])  \n",
    "print  ('我们的数组是；'  )\n",
    "print (a )\n",
    "print ( '\\n'  )\n",
    "print  ('调用 power 函数：'  )\n",
    "print (np.power(a,2)  )\n",
    "print  ('\\n'  )\n",
    "print  ('第二个数组：' )\n",
    "b = np.array([1,2,3])  \n",
    "print (b )\n",
    "print  ('\\n'  )\n",
    "print  ('再次调用 power 函数：'  )\n",
    "print (np.power(a,b))"
   ]
  },
  {
   "cell_type": "code",
   "execution_count": 4,
   "metadata": {},
   "outputs": [
    {
     "name": "stdout",
     "output_type": "stream",
     "text": [
      "第一个数组：\n",
      "[10 20 30]\n",
      "\n",
      "\n",
      "第二个数组：\n",
      "[3 5 7]\n",
      "\n",
      "\n",
      "调用 mod() 函数：\n",
      "[1 0 2]\n",
      "\n",
      "\n",
      "调用 remainder() 函数：\n",
      "[1 0 2]\n"
     ]
    }
   ],
   "source": [
    "# numpy.mod()\n",
    "# 此函数返回输入数组中相应元素的除法余数。 函数numpy.remainder()也产生相同的结果。\n",
    "\n",
    "import numpy as np \n",
    "a = np.array([10,20,30]) \n",
    "b = np.array([3,5,7])  \n",
    "print  ('第一个数组：'  )\n",
    "print (a )\n",
    "print ( '\\n'  )\n",
    "print  ('第二个数组：'  )\n",
    "print (b )\n",
    "print  ('\\n' )\n",
    "print  ('调用 mod() 函数：')  \n",
    "print (np.mod(a,b)  )\n",
    "print  ('\\n'  )\n",
    "print  ('调用 remainder() 函数：'  )\n",
    "print (np.remainder(a,b))"
   ]
  },
  {
   "cell_type": "code",
   "execution_count": null,
   "metadata": {},
   "outputs": [],
   "source": [
    "以下函数用于对含有复数的数组执行操作\n",
    "\n",
    "numpy.real() 返回复数类型参数的实部。\n",
    "numpy.imag() 返回复数类型参数的虚部。\n",
    "numpy.conj() 返回通过改变虚部的符号而获得的共轭复数。\n",
    "numpy.angle() 返回复数参数的角度。 函数的参数是degree。 如果为true，返回的角度以角度制来表示，否则为以弧度制来表示。"
   ]
  },
  {
   "cell_type": "code",
   "execution_count": 5,
   "metadata": {},
   "outputs": [
    {
     "name": "stdout",
     "output_type": "stream",
     "text": [
      "我们的数组是：\n",
      "[-0.-5.6j  0.+0.2j 11.+0.j   1.+1.j ]\n",
      "\n",
      "\n",
      "调用 real() 函数：\n",
      "[-0.  0. 11.  1.]\n",
      "\n",
      "\n",
      "调用 imag() 函数：\n",
      "[-5.6  0.2  0.   1. ]\n",
      "\n",
      "\n",
      "调用 conj() 函数：\n",
      "[-0.+5.6j  0.-0.2j 11.-0.j   1.-1.j ]\n",
      "\n",
      "\n",
      "调用 angle() 函数：\n",
      "[-1.57079633  1.57079633  0.          0.78539816]\n",
      "\n",
      "\n",
      "再次调用 angle() 函数(以角度制返回)：\n",
      "[-90.  90.   0.  45.]\n"
     ]
    }
   ],
   "source": [
    "import numpy as np \n",
    "a = np.array([-5.6j,  0.2j,  11.  ,  1+1j])  \n",
    "print  ('我们的数组是：'  )\n",
    "print (a )\n",
    "print ( '\\n' ) \n",
    "print  ('调用 real() 函数：'  )\n",
    "print( np.real(a)  )\n",
    "print ( '\\n'  )\n",
    "print ( '调用 imag() 函数：'  )\n",
    "print (np.imag(a)  )\n",
    "print ( '\\n'  )\n",
    "print ( '调用 conj() 函数：'  )\n",
    "print (np.conj(a)  )\n",
    "print  ('\\n' ) \n",
    "print ( '调用 angle() 函数：'  )\n",
    "print (np.angle(a) ) \n",
    "print ( '\\n'  )\n",
    "print ( '再次调用 angle() 函数(以角度制返回)：'  )\n",
    "print (np.angle(a, deg =  True))"
   ]
  },
  {
   "cell_type": "code",
   "execution_count": null,
   "metadata": {},
   "outputs": [],
   "source": []
  },
  {
   "cell_type": "code",
   "execution_count": null,
   "metadata": {},
   "outputs": [],
   "source": []
  },
  {
   "cell_type": "code",
   "execution_count": null,
   "metadata": {},
   "outputs": [],
   "source": []
  },
  {
   "cell_type": "code",
   "execution_count": null,
   "metadata": {},
   "outputs": [],
   "source": []
  },
  {
   "cell_type": "code",
   "execution_count": null,
   "metadata": {},
   "outputs": [],
   "source": []
  },
  {
   "cell_type": "code",
   "execution_count": null,
   "metadata": {},
   "outputs": [],
   "source": []
  },
  {
   "cell_type": "code",
   "execution_count": null,
   "metadata": {},
   "outputs": [],
   "source": []
  },
  {
   "cell_type": "code",
   "execution_count": null,
   "metadata": {},
   "outputs": [],
   "source": []
  },
  {
   "cell_type": "code",
   "execution_count": null,
   "metadata": {},
   "outputs": [],
   "source": []
  },
  {
   "cell_type": "code",
   "execution_count": null,
   "metadata": {},
   "outputs": [],
   "source": []
  },
  {
   "cell_type": "code",
   "execution_count": null,
   "metadata": {},
   "outputs": [],
   "source": []
  }
 ],
 "metadata": {
  "kernelspec": {
   "display_name": "Python 3",
   "language": "python",
   "name": "python3"
  },
  "language_info": {
   "codemirror_mode": {
    "name": "ipython",
    "version": 3
   },
   "file_extension": ".py",
   "mimetype": "text/x-python",
   "name": "python",
   "nbconvert_exporter": "python",
   "pygments_lexer": "ipython3",
   "version": "3.5.4rc1"
  }
 },
 "nbformat": 4,
 "nbformat_minor": 2
}
