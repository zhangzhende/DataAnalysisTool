{
 "cells": [
  {
   "cell_type": "code",
   "execution_count": 5,
   "metadata": {},
   "outputs": [
    {
     "name": "stdout",
     "output_type": "stream",
     "text": [
      "   total_bill   tip     sex smoker  day    time  size\n",
      "0       16.99  1.01  Female     No  Sun  Dinner     2\n",
      "1       10.34  1.66    Male     No  Sun  Dinner     3\n",
      "2       21.01  3.50    Male     No  Sun  Dinner     3\n",
      "3       23.68  3.31    Male     No  Sun  Dinner     2\n",
      "4       24.59  3.61  Female     No  Sun  Dinner     4\n"
     ]
    }
   ],
   "source": [
    "import pandas as pd\n",
    "# \\t 是转移字符，注意一哈\n",
    "url = \"F:\\private\\mydemo\\data\\\\tips.csv\"\n",
    "tips=pd.read_csv(url)\n",
    "print (tips.head())"
   ]
  },
  {
   "cell_type": "code",
   "execution_count": 6,
   "metadata": {},
   "outputs": [
    {
     "name": "stdout",
     "output_type": "stream",
     "text": [
      "   total_bill   tip smoker    time\n",
      "0       16.99  1.01     No  Dinner\n",
      "1       10.34  1.66     No  Dinner\n",
      "2       21.01  3.50     No  Dinner\n",
      "3       23.68  3.31     No  Dinner\n",
      "4       24.59  3.61     No  Dinner\n"
     ]
    }
   ],
   "source": [
    "# 选择(Select)\n",
    "# 在SQL中，选择是使用逗号分隔的列列表(或选择所有列)来完成的\n",
    "# SELECT total_bill, tip, smoker, time\n",
    "# FROM tips\n",
    "# LIMIT 5;\n",
    "# 在Pandas中，列的选择是通过传递列名到DataFrame\n",
    "rs = tips[['total_bill', 'tip', 'smoker', 'time']].head(5)\n",
    "print(rs)\n",
    "# 调用没有列名称列表的DataFrame将显示所有列(类似于SQL的*)"
   ]
  },
  {
   "cell_type": "code",
   "execution_count": 8,
   "metadata": {},
   "outputs": [
    {
     "name": "stdout",
     "output_type": "stream",
     "text": [
      "   total_bill   tip smoker    time\n",
      "0       16.99  1.01     No  Dinner\n",
      "1       10.34  1.66     No  Dinner\n",
      "2       21.01  3.50     No  Dinner\n",
      "3       23.68  3.31     No  Dinner\n",
      "4       24.59  3.61     No  Dinner\n"
     ]
    }
   ],
   "source": [
    "# WHERE条件\n",
    "# SELECT * FROM tips WHERE time = 'Dinner' LIMIT 5;\n",
    "\n",
    "# 数据帧可以通过多种方式进行过滤; 最直观的是使用布尔索引\n",
    "tips[tips['time'] == 'Dinner'].head(5)\n",
    "print(rs)"
   ]
  },
  {
   "cell_type": "code",
   "execution_count": 11,
   "metadata": {},
   "outputs": [
    {
     "name": "stdout",
     "output_type": "stream",
     "text": [
      "sex\n",
      "Female    2\n",
      "Male      3\n",
      "dtype: int64\n"
     ]
    }
   ],
   "source": [
    "# 通过GroupBy分组\n",
    "# 此操作将获取整个数据集中每个组的记录数。 例如，一个查询提取性别的数量(即，按性别分组)\n",
    "# SELECT sex, count(*) FROM tips GROUP BY sex;\n",
    "rs = tips.groupby('sex').size()\n",
    "print(rs)"
   ]
  },
  {
   "cell_type": "code",
   "execution_count": 12,
   "metadata": {},
   "outputs": [
    {
     "name": "stdout",
     "output_type": "stream",
     "text": [
      "  smoker  day    time\n",
      "0     No  Sun  Dinner\n",
      "1     No  Sun  Dinner\n",
      "2     No  Sun  Dinner\n",
      "3     No  Sun  Dinner\n",
      "4     No  Sun  Dinner\n"
     ]
    }
   ],
   "source": [
    "# 前N行SQL(MySQL数据库)使用LIMIT返回前n行\n",
    "# SELECT * FROM tips LIMIT 5 ;\n",
    "# 在Pandas中的等值语句将是 \n",
    "rs = tips[['smoker', 'day', 'time']].head(5)\n",
    "print(rs)"
   ]
  },
  {
   "cell_type": "code",
   "execution_count": null,
   "metadata": {},
   "outputs": [],
   "source": []
  },
  {
   "cell_type": "code",
   "execution_count": null,
   "metadata": {},
   "outputs": [],
   "source": []
  },
  {
   "cell_type": "code",
   "execution_count": null,
   "metadata": {},
   "outputs": [],
   "source": []
  },
  {
   "cell_type": "code",
   "execution_count": null,
   "metadata": {},
   "outputs": [],
   "source": []
  },
  {
   "cell_type": "code",
   "execution_count": null,
   "metadata": {},
   "outputs": [],
   "source": []
  }
 ],
 "metadata": {
  "kernelspec": {
   "display_name": "Python 3",
   "language": "python",
   "name": "python3"
  },
  "language_info": {
   "codemirror_mode": {
    "name": "ipython",
    "version": 3
   },
   "file_extension": ".py",
   "mimetype": "text/x-python",
   "name": "python",
   "nbconvert_exporter": "python",
   "pygments_lexer": "ipython3",
   "version": "3.5.4rc1"
  }
 },
 "nbformat": 4,
 "nbformat_minor": 2
}
