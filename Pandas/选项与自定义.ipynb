{
 "cells": [
  {
   "cell_type": "code",
   "execution_count": null,
   "metadata": {},
   "outputs": [],
   "source": [
    "Pandas提供API来自定义其行为的某些方面，大多使用来显示。\n",
    "API由五个相关函数组成。\n",
    "它们分别是 \n",
    "-get_option()\n",
    "set_option()\n",
    "reset_option()\n",
    "describe_option()\n",
    "option_context()\n",
    "\n",
    "get_option(param)\n",
    "get_option(param)\n",
    "需要一个参数，\n",
    "并返回下面输出中给出的值 -get_option需要一个参数，并返回下面输出中给出的值"
   ]
  },
  {
   "cell_type": "code",
   "execution_count": 1,
   "metadata": {},
   "outputs": [
    {
     "name": "stdout",
     "output_type": "stream",
     "text": [
      "display.max_rows =  60\n"
     ]
    }
   ],
   "source": [
    "# display.max_rows显示默认值。\n",
    "# 解释器读取此值并显示此值作为显示上限的行。\n",
    "import pandas as pd\n",
    "print (\"display.max_rows = \", pd.get_option(\"display.max_rows\"))"
   ]
  },
  {
   "cell_type": "code",
   "execution_count": 2,
   "metadata": {},
   "outputs": [
    {
     "name": "stdout",
     "output_type": "stream",
     "text": [
      "display.max_columns =  20\n"
     ]
    }
   ],
   "source": [
    "# display.max_columns显示默认值，解释器读取此值并显示此值作为显示上限的行\n",
    "print (\"display.max_columns = \", pd.get_option(\"display.max_columns\"))"
   ]
  },
  {
   "cell_type": "code",
   "execution_count": 3,
   "metadata": {},
   "outputs": [
    {
     "name": "stdout",
     "output_type": "stream",
     "text": [
      "before set display.max_rows =  60\n",
      "after set display.max_rows =  80\n"
     ]
    }
   ],
   "source": [
    "# set_option(param,value)\n",
    "# set_option需要两个参数，并将该值设置为指定的参数值，如下所示：\n",
    "\n",
    "# display.max_rows\n",
    "# 使用set_option()，可以更改要显示的默认行数\n",
    "print (\"before set display.max_rows = \", pd.get_option(\"display.max_rows\")) \n",
    "\n",
    "pd.set_option(\"display.max_rows\",80)\n",
    "print (\"after set display.max_rows = \", pd.get_option(\"display.max_rows\"))"
   ]
  },
  {
   "cell_type": "code",
   "execution_count": 4,
   "metadata": {},
   "outputs": [
    {
     "name": "stdout",
     "output_type": "stream",
     "text": [
      "before set display.max_columns =  20\n",
      "after set display.max_columns =  32\n"
     ]
    }
   ],
   "source": [
    "# display.max_columns\n",
    "# 使用set_option()，可以更改要显示的默认列数。\n",
    "print (\"before set display.max_columns = \", pd.get_option(\"display.max_columns\")) \n",
    "pd.set_option(\"display.max_columns\",32)\n",
    "print (\"after set display.max_columns = \", pd.get_option(\"display.max_columns\"))"
   ]
  },
  {
   "cell_type": "code",
   "execution_count": null,
   "metadata": {},
   "outputs": [],
   "source": [
    "# reset_option(param)\n",
    "# reset_option接受一个参数，并将该值设置为默认值\n",
    "\n",
    "# display.max_rows\n",
    "# 使用reset_option()，可以将该值更改回显示的默认行数\n"
   ]
  },
  {
   "cell_type": "code",
   "execution_count": 5,
   "metadata": {},
   "outputs": [
    {
     "name": "stdout",
     "output_type": "stream",
     "text": [
      "after set display.max_rows =  32\n",
      "reset display.max_rows =  60\n"
     ]
    }
   ],
   "source": [
    "#先修改默认行数\n",
    "pd.set_option(\"display.max_rows\",32)\n",
    "print (\"after set display.max_rows = \", pd.get_option(\"display.max_rows\")) \n",
    "#再重置为原始默认行数\n",
    "pd.reset_option(\"display.max_rows\")\n",
    "print (\"reset display.max_rows = \", pd.get_option(\"display.max_rows\"))"
   ]
  },
  {
   "cell_type": "code",
   "execution_count": 6,
   "metadata": {},
   "outputs": [
    {
     "name": "stdout",
     "output_type": "stream",
     "text": [
      "display.max_rows : int\n",
      "    If max_rows is exceeded, switch to truncate view. Depending on\n",
      "    `large_repr`, objects are either centrally truncated or printed as\n",
      "    a summary view. 'None' value means unlimited.\n",
      "\n",
      "    In case python/IPython is running in a terminal and `large_repr`\n",
      "    equals 'truncate' this can be set to 0 and pandas will auto-detect\n",
      "    the height of the terminal and print a truncated object which fits\n",
      "    the screen height. The IPython notebook, IPython qtconsole, or\n",
      "    IDLE do not run in a terminal and hence it is not possible to do\n",
      "    correct auto-detection.\n",
      "    [default: 60] [currently: 60]\n",
      "\n",
      "\n"
     ]
    }
   ],
   "source": [
    "# describe_option(param)\n",
    "# describe_option打印参数的描述\n",
    "\n",
    "# display.max_rows\n",
    "pd.describe_option(\"display.max_rows\")"
   ]
  },
  {
   "cell_type": "code",
   "execution_count": 8,
   "metadata": {},
   "outputs": [
    {
     "name": "stdout",
     "output_type": "stream",
     "text": [
      "10\n",
      "60\n"
     ]
    }
   ],
   "source": [
    "# option_context()\n",
    "# option_context上下文管理器用于临时设置语句中的选项。当退出使用块时，选项值将自动恢复\n",
    "\n",
    "with pd.option_context(\"display.max_rows\",10):\n",
    "   print(pd.get_option(\"display.max_rows\"))\n",
    "print(pd.get_option(\"display.max_rows\"))"
   ]
  },
  {
   "cell_type": "code",
   "execution_count": null,
   "metadata": {},
   "outputs": [],
   "source": [
    "1\tdisplay.max_rows\t要显示的最大行数\n",
    "2\tdisplay.max_columns\t要显示的最大列数\n",
    "3\tdisplay.expand_frame_repr\t显示数据帧以拉伸页面\n",
    "4\tdisplay.max_colwidth\t显示最大列宽\n",
    "5\tdisplay.precision\t显示十进制数的精度"
   ]
  },
  {
   "cell_type": "code",
   "execution_count": null,
   "metadata": {},
   "outputs": [],
   "source": []
  },
  {
   "cell_type": "code",
   "execution_count": null,
   "metadata": {},
   "outputs": [],
   "source": []
  },
  {
   "cell_type": "code",
   "execution_count": null,
   "metadata": {},
   "outputs": [],
   "source": []
  },
  {
   "cell_type": "code",
   "execution_count": null,
   "metadata": {},
   "outputs": [],
   "source": []
  },
  {
   "cell_type": "code",
   "execution_count": null,
   "metadata": {},
   "outputs": [],
   "source": []
  },
  {
   "cell_type": "code",
   "execution_count": null,
   "metadata": {},
   "outputs": [],
   "source": []
  },
  {
   "cell_type": "code",
   "execution_count": null,
   "metadata": {},
   "outputs": [],
   "source": []
  },
  {
   "cell_type": "code",
   "execution_count": null,
   "metadata": {},
   "outputs": [],
   "source": []
  },
  {
   "cell_type": "code",
   "execution_count": null,
   "metadata": {},
   "outputs": [],
   "source": []
  },
  {
   "cell_type": "code",
   "execution_count": null,
   "metadata": {},
   "outputs": [],
   "source": []
  },
  {
   "cell_type": "code",
   "execution_count": null,
   "metadata": {},
   "outputs": [],
   "source": []
  },
  {
   "cell_type": "code",
   "execution_count": null,
   "metadata": {},
   "outputs": [],
   "source": []
  },
  {
   "cell_type": "code",
   "execution_count": null,
   "metadata": {},
   "outputs": [],
   "source": []
  }
 ],
 "metadata": {
  "kernelspec": {
   "display_name": "Python 3",
   "language": "python",
   "name": "python3"
  },
  "language_info": {
   "codemirror_mode": {
    "name": "ipython",
    "version": 3
   },
   "file_extension": ".py",
   "mimetype": "text/x-python",
   "name": "python",
   "nbconvert_exporter": "python",
   "pygments_lexer": "ipython3",
   "version": "3.5.4rc1"
  }
 },
 "nbformat": 4,
 "nbformat_minor": 2
}
