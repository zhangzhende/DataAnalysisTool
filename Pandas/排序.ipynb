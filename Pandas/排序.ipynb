{
 "cells": [
  {
   "cell_type": "code",
   "execution_count": null,
   "metadata": {},
   "outputs": [],
   "source": [
    "Pandas有两种排序方式，\n",
    "它们分别是 \n",
    "- 按标签\n",
    "按实际值"
   ]
  },
  {
   "cell_type": "code",
   "execution_count": 2,
   "metadata": {},
   "outputs": [
    {
     "name": "stdout",
     "output_type": "stream",
     "text": [
      "       col2      col1\n",
      "1 -0.775502 -1.308408\n",
      "4 -0.201362  0.323781\n",
      "6  0.469601 -1.231082\n",
      "2  1.401255 -0.053121\n",
      "3  0.334843  0.144775\n",
      "5 -1.810308  1.507264\n",
      "9 -0.084247  0.790123\n",
      "8  0.010172  0.059007\n",
      "0  1.101795 -0.761174\n",
      "7 -0.014677 -0.386447\n"
     ]
    }
   ],
   "source": [
    "import pandas as pd\n",
    "import numpy as np\n",
    "\n",
    "#默认给的是啥就是啥，并不排序\n",
    "unsorted_df=pd.DataFrame(np.random.randn(10,2),index=[1,4,6,2,3,5,9,8,0,7],columns=['col2','col1'])\n",
    "print (unsorted_df)"
   ]
  },
  {
   "cell_type": "code",
   "execution_count": 3,
   "metadata": {},
   "outputs": [
    {
     "name": "stdout",
     "output_type": "stream",
     "text": [
      "       col2      col1\n",
      "0  0.177755  0.588809\n",
      "1 -0.715091  0.069719\n",
      "2 -0.207927  0.817018\n",
      "3 -2.751595  0.297209\n",
      "4  0.752515  0.487545\n",
      "5  0.852608 -0.668493\n",
      "6  1.145230  0.176581\n",
      "7 -0.349631 -0.516432\n",
      "8 -2.593496 -0.654309\n",
      "9 -0.474818  0.131345\n"
     ]
    }
   ],
   "source": [
    "# 按标签排序-默认\n",
    "unsorted_df = pd.DataFrame(np.random.randn(10,2),index=[1,4,6,2,3,5,9,8,0,7],columns = ['col2','col1'])\n",
    "# 使用sort_index()方法，通过传递axis参数和排序顺序，可以对DataFrame进行排序。 默认情况下，按照升序对行标签进行排序\n",
    "sorted_df=unsorted_df.sort_index()\n",
    "print (sorted_df)"
   ]
  },
  {
   "cell_type": "code",
   "execution_count": 4,
   "metadata": {},
   "outputs": [
    {
     "name": "stdout",
     "output_type": "stream",
     "text": [
      "       col2      col1\n",
      "9 -0.826938 -0.860235\n",
      "8 -0.090626  2.196284\n",
      "7 -0.553489 -0.397915\n",
      "6 -1.196889 -0.751021\n",
      "5 -1.071284  0.064956\n",
      "4  0.435446  0.975276\n",
      "3 -0.665744 -0.567855\n",
      "2 -0.536826 -1.461114\n",
      "1 -0.890045  0.538578\n",
      "0  0.643179  0.108829\n"
     ]
    }
   ],
   "source": [
    "# 排序顺序-逆序\n",
    "unsorted_df = pd.DataFrame(np.random.randn(10,2),index=[1,4,6,2,3,5,9,8,0,7],columns = ['col2','col1'])\n",
    "\n",
    "sorted_df = unsorted_df.sort_index(ascending=False)\n",
    "print (sorted_df)"
   ]
  },
  {
   "cell_type": "code",
   "execution_count": 5,
   "metadata": {},
   "outputs": [
    {
     "name": "stdout",
     "output_type": "stream",
     "text": [
      "       col1      col2\n",
      "1  0.347602  1.873220\n",
      "4 -2.440049  0.185126\n",
      "6  0.186207 -0.443737\n",
      "2 -0.230966 -0.196110\n",
      "3  1.163484 -0.402754\n",
      "5  0.510281 -0.860475\n",
      "9 -0.762744 -0.143993\n",
      "8  0.788132  0.212994\n",
      "0  0.067319 -0.463830\n",
      "7  0.259601  0.285884\n"
     ]
    }
   ],
   "source": [
    "# 按列排列\n",
    "# 通过传递axis参数值为0或1，可以对列标签进行排序。 默认情况下，axis = 0，逐行排列，axis = 1，逐列排列，列标签升序（从左到右）\n",
    "unsorted_df = pd.DataFrame(np.random.randn(10,2),index=[1,4,6,2,3,5,9,8,0,7],columns = ['col2','col1'])\n",
    "sorted_df=unsorted_df.sort_index(axis=1)\n",
    "print (sorted_df)"
   ]
  },
  {
   "cell_type": "code",
   "execution_count": 6,
   "metadata": {},
   "outputs": [
    {
     "name": "stdout",
     "output_type": "stream",
     "text": [
      "   col1  col2\n",
      "1     1     3\n",
      "2     1     2\n",
      "3     1     4\n",
      "0     2     1\n"
     ]
    }
   ],
   "source": [
    "# 按值排序\n",
    "# 像索引排序一样，sort_values()是按值排序的方法。它接受一个by参数，它将使用要与其排序值的DataFrame的列名称\n",
    "\n",
    "unsorted_df = pd.DataFrame({'col1':[2,1,1,1],'col2':[1,3,2,4]})\n",
    "sorted_df = unsorted_df.sort_values(by='col1')\n",
    "\n",
    "print (sorted_df)"
   ]
  },
  {
   "cell_type": "code",
   "execution_count": 8,
   "metadata": {},
   "outputs": [
    {
     "name": "stdout",
     "output_type": "stream",
     "text": [
      "   col1  col2\n",
      "0     2     1\n",
      "3     1     4\n",
      "1     1     3\n",
      "2     1     2\n"
     ]
    }
   ],
   "source": [
    "# 通过by参数指定需要列值\n",
    "\n",
    "unsorted_df = pd.DataFrame({'col1':[2,1,1,1],'col2':[1,3,2,4]})\n",
    "sorted_df = unsorted_df.sort_values(by=['col1','col2'],ascending=False)\n",
    "# 先按照col1排序，相同的按照col2排序\n",
    "print (sorted_df)"
   ]
  },
  {
   "cell_type": "code",
   "execution_count": 10,
   "metadata": {},
   "outputs": [
    {
     "name": "stdout",
     "output_type": "stream",
     "text": [
      "   col1  col2\n",
      "3     1     4\n",
      "1     1     3\n",
      "2     1     2\n",
      "0     2     1\n"
     ]
    }
   ],
   "source": [
    "# 通过by参数指定需要列值，多列排序，一升一降\n",
    "\n",
    "unsorted_df = pd.DataFrame({'col1':[2,1,1,1],'col2':[1,3,2,4]})\n",
    "sorted_df = unsorted_df.sort_values(by=['col1','col2'],ascending=(True,False))\n",
    "# 先按照col1升序，相同的按照col2降序\n",
    "print (sorted_df)"
   ]
  },
  {
   "cell_type": "code",
   "execution_count": null,
   "metadata": {},
   "outputs": [],
   "source": []
  },
  {
   "cell_type": "code",
   "execution_count": null,
   "metadata": {},
   "outputs": [],
   "source": []
  },
  {
   "cell_type": "code",
   "execution_count": null,
   "metadata": {},
   "outputs": [],
   "source": []
  }
 ],
 "metadata": {
  "kernelspec": {
   "display_name": "Python 3",
   "language": "python",
   "name": "python3"
  },
  "language_info": {
   "codemirror_mode": {
    "name": "ipython",
    "version": 3
   },
   "file_extension": ".py",
   "mimetype": "text/x-python",
   "name": "python",
   "nbconvert_exporter": "python",
   "pygments_lexer": "ipython3",
   "version": "3.5.4rc1"
  }
 },
 "nbformat": 4,
 "nbformat_minor": 2
}
