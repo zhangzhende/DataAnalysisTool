{
 "cells": [
  {
   "cell_type": "code",
   "execution_count": null,
   "metadata": {},
   "outputs": [],
   "source": [
    "1\tlower()\t将Series/Index中的字符串转换为小写。\n",
    "2\tupper()\t将Series/Index中的字符串转换为大写。\n",
    "3\tlen()\t计算字符串长度。\n",
    "4\tstrip()\t帮助从两侧的系列/索引中的每个字符串中删除空格(包括换行符)。\n",
    "5\tsplit(' ')\t用给定的模式拆分每个字符串。\n",
    "6\tcat(sep=' ')\t使用给定的分隔符连接系列/索引元素。\n",
    "7\tget_dummies()\t返回具有单热编码值的数据帧(DataFrame)。\n",
    "8\tcontains(pattern)\t如果元素中包含子字符串，则返回每个元素的布尔值True，否则为False。\n",
    "9\treplace(a,b)\t将值a替换为值b。\n",
    "10\trepeat(value)\t重复每个元素指定的次数。\n",
    "11\tcount(pattern)\t返回模式中每个元素的出现总数。\n",
    "12\tstartswith(pattern)\t如果系列/索引中的元素以模式开始，则返回true。\n",
    "13\tendswith(pattern)\t如果系列/索引中的元素以模式结束，则返回true。\n",
    "14\tfind(pattern)\t返回模式第一次出现的位置。\n",
    "15\tfindall(pattern)\t返回模式的所有出现的列表。\n",
    "16\tswapcase\t变换字母大小写。\n",
    "17\tislower()\t检查系列/索引中每个字符串中的所有字符是否小写，返回布尔值\n",
    "18\tisupper()\t检查系列/索引中每个字符串中的所有字符是否大写，返回布尔值\n",
    "19\tisnumeric()\t检查系列/索引中每个字符串中的所有字符是否为数字，返回布尔值。"
   ]
  },
  {
   "cell_type": "code",
   "execution_count": 1,
   "metadata": {},
   "outputs": [
    {
     "name": "stdout",
     "output_type": "stream",
     "text": [
      "0             Tom\n",
      "1    William Rick\n",
      "2            John\n",
      "3         Alber@t\n",
      "4             NaN\n",
      "5            1234\n",
      "6      SteveMinsu\n",
      "dtype: object\n"
     ]
    }
   ],
   "source": [
    "import pandas as pd\n",
    "import numpy as np\n",
    "\n",
    "#创建测试数据\n",
    "s = pd.Series(['Tom', 'William Rick', 'John', 'Alber@t', np.nan, '1234','SteveMinsu'])\n",
    "print (s)"
   ]
  },
  {
   "cell_type": "code",
   "execution_count": 2,
   "metadata": {},
   "outputs": [
    {
     "name": "stdout",
     "output_type": "stream",
     "text": [
      "0             tom\n",
      "1    william rick\n",
      "2            john\n",
      "3         alber@t\n",
      "4             NaN\n",
      "5            1234\n",
      "6      steveminsu\n",
      "dtype: object\n"
     ]
    }
   ],
   "source": [
    "# 1. lower()函数示例\n",
    "print (s.str.lower())"
   ]
  },
  {
   "cell_type": "code",
   "execution_count": 3,
   "metadata": {},
   "outputs": [
    {
     "name": "stdout",
     "output_type": "stream",
     "text": [
      "0             TOM\n",
      "1    WILLIAM RICK\n",
      "2            JOHN\n",
      "3         ALBER@T\n",
      "4             NaN\n",
      "5            1234\n",
      "6      STEVEMINSU\n",
      "dtype: object\n"
     ]
    }
   ],
   "source": [
    "# 2. upper()函数示例\n",
    "print (s.str.upper())"
   ]
  },
  {
   "cell_type": "code",
   "execution_count": 4,
   "metadata": {},
   "outputs": [
    {
     "name": "stdout",
     "output_type": "stream",
     "text": [
      "0     3.0\n",
      "1    12.0\n",
      "2     4.0\n",
      "3     7.0\n",
      "4     NaN\n",
      "5     4.0\n",
      "6    10.0\n",
      "dtype: float64\n"
     ]
    }
   ],
   "source": [
    "# 3. len()函数示例，\n",
    "print (s.str.len())"
   ]
  },
  {
   "cell_type": "code",
   "execution_count": 5,
   "metadata": {},
   "outputs": [
    {
     "name": "stdout",
     "output_type": "stream",
     "text": [
      "0             Tom \n",
      "1     William Rick\n",
      "2             John\n",
      "3          Alber@t\n",
      "dtype: object\n",
      "=========== After Stripping ================\n",
      "0             Tom\n",
      "1    William Rick\n",
      "2            John\n",
      "3         Alber@t\n",
      "dtype: object\n"
     ]
    }
   ],
   "source": [
    "# 4. strip()函数示例\n",
    "s2 = pd.Series(['Tom ', ' William Rick', 'John', 'Alber@t'])\n",
    "print (s2)\n",
    "print (\"=========== After Stripping ================\")\n",
    "print (s2.str.strip())"
   ]
  },
  {
   "cell_type": "code",
   "execution_count": 6,
   "metadata": {},
   "outputs": [
    {
     "name": "stdout",
     "output_type": "stream",
     "text": [
      "0             Tom \n",
      "1     William Rick\n",
      "2             John\n",
      "3          Alber@t\n",
      "dtype: object\n",
      "================= Split Pattern: ==================\n",
      "0              [Tom, ]\n",
      "1    [, William, Rick]\n",
      "2               [John]\n",
      "3            [Alber@t]\n",
      "dtype: object\n"
     ]
    }
   ],
   "source": [
    "# 5. split(pattern)函数示例\n",
    "s2 = pd.Series(['Tom ', ' William Rick', 'John', 'Alber@t'])\n",
    "print (s2)\n",
    "print (\"================= Split Pattern: ==================\")\n",
    "print (s2.str.split(' '))"
   ]
  },
  {
   "cell_type": "code",
   "execution_count": 7,
   "metadata": {},
   "outputs": [
    {
     "name": "stdout",
     "output_type": "stream",
     "text": [
      "Tom  <=>  William Rick <=> John <=> Alber@t\n"
     ]
    }
   ],
   "source": [
    "# 6. cat(sep=pattern)函数示例\n",
    "s2 = pd.Series(['Tom ', ' William Rick', 'John', 'Alber@t'])\n",
    "print (s2.str.cat(sep=' <=> '))\n",
    "\n",
    "\n"
   ]
  },
  {
   "cell_type": "code",
   "execution_count": 8,
   "metadata": {},
   "outputs": [
    {
     "name": "stdout",
     "output_type": "stream",
     "text": [
      "    William Rick  Alber@t  John  Tom \n",
      "0              0        0     0     1\n",
      "1              1        0     0     0\n",
      "2              0        0     1     0\n",
      "3              0        1     0     0\n"
     ]
    }
   ],
   "source": [
    "# 7. get_dummies()函数示例，变成独热编码，one hot \n",
    "s = pd.Series(['Tom ', ' William Rick', 'John', 'Alber@t'])\n",
    "\n",
    "print (s.str.get_dummies())"
   ]
  },
  {
   "cell_type": "code",
   "execution_count": 9,
   "metadata": {},
   "outputs": [
    {
     "name": "stdout",
     "output_type": "stream",
     "text": [
      "0     True\n",
      "1     True\n",
      "2    False\n",
      "3    False\n",
      "dtype: bool\n"
     ]
    }
   ],
   "source": [
    "# 8. contains()函数示例\n",
    "s = pd.Series(['Tom ', ' William Rick', 'John', 'Alber@t'])\n",
    "print (s.str.contains(' '))"
   ]
  },
  {
   "cell_type": "code",
   "execution_count": 10,
   "metadata": {},
   "outputs": [
    {
     "name": "stdout",
     "output_type": "stream",
     "text": [
      "0             Tom \n",
      "1     William Rick\n",
      "2             John\n",
      "3          Alber@t\n",
      "dtype: object\n",
      "After replacing @ with $: ============== \n",
      "0             Tom \n",
      "1     William Rick\n",
      "2             John\n",
      "3          Alber$t\n",
      "dtype: object\n"
     ]
    }
   ],
   "source": [
    "# 9. replace(a,b)函数示例\n",
    "s = pd.Series(['Tom ', ' William Rick', 'John', 'Alber@t'])\n",
    "print (s)\n",
    "print (\"After replacing @ with $: ============== \")\n",
    "print (s.str.replace('@','$'))"
   ]
  },
  {
   "cell_type": "code",
   "execution_count": 11,
   "metadata": {},
   "outputs": [
    {
     "name": "stdout",
     "output_type": "stream",
     "text": [
      "0                      Tom Tom \n",
      "1     William Rick William Rick\n",
      "2                      JohnJohn\n",
      "3                Alber@tAlber@t\n",
      "dtype: object\n"
     ]
    }
   ],
   "source": [
    "# 10. repeat(value)函数示例\n",
    "s = pd.Series(['Tom ', ' William Rick', 'John', 'Alber@t'])\n",
    "print (s.str.repeat(2))\n"
   ]
  },
  {
   "cell_type": "code",
   "execution_count": 12,
   "metadata": {},
   "outputs": [
    {
     "name": "stdout",
     "output_type": "stream",
     "text": [
      "The number of 'm's in each string:\n",
      "0    1\n",
      "1    1\n",
      "2    0\n",
      "3    0\n",
      "dtype: int64\n"
     ]
    }
   ],
   "source": [
    "# 11. count(pattern)函数示例\n",
    "s = pd.Series(['Tom ', ' William Rick', 'John', 'Alber@t'])\n",
    "\n",
    "print (\"The number of 'm's in each string:\")\n",
    "print (s.str.count('m'))"
   ]
  },
  {
   "cell_type": "code",
   "execution_count": 13,
   "metadata": {},
   "outputs": [
    {
     "name": "stdout",
     "output_type": "stream",
     "text": [
      "Strings that start with 'T':\n",
      "0     True\n",
      "1    False\n",
      "2    False\n",
      "3    False\n",
      "dtype: bool\n"
     ]
    }
   ],
   "source": [
    "# 12. startswith(pattern)函数示例\n",
    "s = pd.Series(['Tom ', ' William Rick', 'John', 'Alber@t'])\n",
    "print (\"Strings that start with 'T':\")\n",
    "print (s.str. startswith ('T'))"
   ]
  },
  {
   "cell_type": "code",
   "execution_count": 14,
   "metadata": {},
   "outputs": [
    {
     "name": "stdout",
     "output_type": "stream",
     "text": [
      "Strings that end with 't':\n",
      "0    False\n",
      "1    False\n",
      "2    False\n",
      "3     True\n",
      "dtype: bool\n"
     ]
    }
   ],
   "source": [
    "# 13. endswith(pattern)函数示例\n",
    "s = pd.Series(['Tom ', ' William Rick', 'John', 'Alber@t'])\n",
    "print (\"Strings that end with 't':\")\n",
    "print (s.str.endswith('t'))"
   ]
  },
  {
   "cell_type": "code",
   "execution_count": 15,
   "metadata": {},
   "outputs": [
    {
     "name": "stdout",
     "output_type": "stream",
     "text": [
      "0   -1\n",
      "1   -1\n",
      "2   -1\n",
      "3    3\n",
      "dtype: int64\n"
     ]
    }
   ],
   "source": [
    "# 14. find(pattern)函数示例，没有就返回-1，索引从0开始\n",
    "s = pd.Series(['Tom ', ' William Rick', 'John', 'Alber@t'])\n",
    "print (s.str.find('e'))"
   ]
  },
  {
   "cell_type": "code",
   "execution_count": 19,
   "metadata": {},
   "outputs": [
    {
     "name": "stdout",
     "output_type": "stream",
     "text": [
      "0           []\n",
      "1    [i, i, i]\n",
      "2           []\n",
      "3           []\n",
      "dtype: object\n"
     ]
    }
   ],
   "source": [
    "# 15. findall(pattern)函数示例\n",
    "s = pd.Series(['Tom ', ' William Rick', 'John', 'Alber@t'])\n",
    "print (s.str.findall('i'))"
   ]
  },
  {
   "cell_type": "code",
   "execution_count": 20,
   "metadata": {},
   "outputs": [
    {
     "name": "stdout",
     "output_type": "stream",
     "text": [
      "0             tOM\n",
      "1    wILLIAM rICK\n",
      "2            jOHN\n",
      "3         aLBER@T\n",
      "dtype: object\n"
     ]
    }
   ],
   "source": [
    "# 16. swapcase()函数示例,大小写互换\n",
    "s = pd.Series(['Tom', 'William Rick', 'John', 'Alber@t'])\n",
    "print (s.str.swapcase())"
   ]
  },
  {
   "cell_type": "code",
   "execution_count": 22,
   "metadata": {},
   "outputs": [
    {
     "name": "stdout",
     "output_type": "stream",
     "text": [
      "0     True\n",
      "1    False\n",
      "2    False\n",
      "3    False\n",
      "dtype: bool\n"
     ]
    }
   ],
   "source": [
    "# 17. islower()函数示例\n",
    "s = pd.Series(['tom', 'William Rick', 'John', 'Alber@t'])\n",
    "print (s.str.islower())\n"
   ]
  },
  {
   "cell_type": "code",
   "execution_count": 23,
   "metadata": {},
   "outputs": [
    {
     "name": "stdout",
     "output_type": "stream",
     "text": [
      "0     True\n",
      "1    False\n",
      "2    False\n",
      "3    False\n",
      "dtype: bool\n"
     ]
    }
   ],
   "source": [
    "# 18. isupper()函数示例\n",
    "s = pd.Series(['TOM', 'William Rick', 'John', 'Alber@t'])\n",
    "print (s.str.isupper())\n"
   ]
  },
  {
   "cell_type": "code",
   "execution_count": 25,
   "metadata": {},
   "outputs": [
    {
     "name": "stdout",
     "output_type": "stream",
     "text": [
      "0    False\n",
      "1     True\n",
      "2    False\n",
      "3      NaN\n",
      "4    False\n",
      "dtype: object\n"
     ]
    }
   ],
   "source": [
    "# 19. isnumeric()函数示例\n",
    "s = pd.Series(['Tom', '1199','William Rick', 123, 'Alber@t'])\n",
    "print (s.str.isnumeric())"
   ]
  },
  {
   "cell_type": "code",
   "execution_count": null,
   "metadata": {},
   "outputs": [],
   "source": []
  }
 ],
 "metadata": {
  "kernelspec": {
   "display_name": "Python 3",
   "language": "python",
   "name": "python3"
  },
  "language_info": {
   "codemirror_mode": {
    "name": "ipython",
    "version": 3
   },
   "file_extension": ".py",
   "mimetype": "text/x-python",
   "name": "python",
   "nbconvert_exporter": "python",
   "pygments_lexer": "ipython3",
   "version": "3.5.4rc1"
  }
 },
 "nbformat": 4,
 "nbformat_minor": 2
}
