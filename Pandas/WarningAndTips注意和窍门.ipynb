{
 "cells": [
  {
   "cell_type": "code",
   "execution_count": null,
   "metadata": {},
   "outputs": [],
   "source": [
    "与Pandas一起使用If/Truth语句\n",
    "当尝试将某些东西转换成布尔值时，Pandas遵循了一个错误的惯例。 这种情况发生在使用布尔运算的。 目前还不清楚结果是什么。\n",
    "如果它是真的，因为它不是zerolength？ 错误，因为有错误的值？ 目前还不清楚，Pandas提出了一个ValueError"
   ]
  },
  {
   "cell_type": "code",
   "execution_count": 1,
   "metadata": {},
   "outputs": [
    {
     "ename": "ValueError",
     "evalue": "The truth value of a Series is ambiguous. Use a.empty, a.bool(), a.item(), a.any() or a.all().",
     "output_type": "error",
     "traceback": [
      "\u001b[1;31m---------------------------------------------------------------------------\u001b[0m",
      "\u001b[1;31mValueError\u001b[0m                                Traceback (most recent call last)",
      "\u001b[1;32m<ipython-input-1-8ce412419415>\u001b[0m in \u001b[0;36m<module>\u001b[1;34m()\u001b[0m\n\u001b[0;32m      1\u001b[0m \u001b[1;32mimport\u001b[0m \u001b[0mpandas\u001b[0m \u001b[1;32mas\u001b[0m \u001b[0mpd\u001b[0m\u001b[1;33m\u001b[0m\u001b[0m\n\u001b[0;32m      2\u001b[0m \u001b[1;33m\u001b[0m\u001b[0m\n\u001b[1;32m----> 3\u001b[1;33m \u001b[1;32mif\u001b[0m \u001b[0mpd\u001b[0m\u001b[1;33m.\u001b[0m\u001b[0mSeries\u001b[0m\u001b[1;33m(\u001b[0m\u001b[1;33m[\u001b[0m\u001b[1;32mFalse\u001b[0m\u001b[1;33m,\u001b[0m \u001b[1;32mTrue\u001b[0m\u001b[1;33m,\u001b[0m \u001b[1;32mFalse\u001b[0m\u001b[1;33m]\u001b[0m\u001b[1;33m)\u001b[0m\u001b[1;33m:\u001b[0m\u001b[1;33m\u001b[0m\u001b[0m\n\u001b[0m\u001b[0;32m      4\u001b[0m     \u001b[0mprint\u001b[0m \u001b[1;33m(\u001b[0m\u001b[1;34m'I am True'\u001b[0m\u001b[1;33m)\u001b[0m\u001b[1;33m\u001b[0m\u001b[0m\n",
      "\u001b[1;32md:\\python3564\\lib\\site-packages\\pandas\\core\\generic.py\u001b[0m in \u001b[0;36m__nonzero__\u001b[1;34m(self)\u001b[0m\n\u001b[0;32m   1571\u001b[0m         raise ValueError(\"The truth value of a {0} is ambiguous. \"\n\u001b[0;32m   1572\u001b[0m                          \u001b[1;34m\"Use a.empty, a.bool(), a.item(), a.any() or a.all().\"\u001b[0m\u001b[1;33m\u001b[0m\u001b[0m\n\u001b[1;32m-> 1573\u001b[1;33m                          .format(self.__class__.__name__))\n\u001b[0m\u001b[0;32m   1574\u001b[0m \u001b[1;33m\u001b[0m\u001b[0m\n\u001b[0;32m   1575\u001b[0m     \u001b[0m__bool__\u001b[0m \u001b[1;33m=\u001b[0m \u001b[0m__nonzero__\u001b[0m\u001b[1;33m\u001b[0m\u001b[0m\n",
      "\u001b[1;31mValueError\u001b[0m: The truth value of a Series is ambiguous. Use a.empty, a.bool(), a.item(), a.any() or a.all()."
     ]
    }
   ],
   "source": [
    "import pandas as pd\n",
    "\n",
    "if pd.Series([False, True, False]):\n",
    "    print ('I am True')"
   ]
  },
  {
   "cell_type": "code",
   "execution_count": 5,
   "metadata": {},
   "outputs": [
    {
     "name": "stdout",
     "output_type": "stream",
     "text": [
      "I am any\n"
     ]
    }
   ],
   "source": [
    "#当有一个为True就执行,类似OR\n",
    "if pd.Series([False, True, False,True]).any():\n",
    "    print(\"I am any\")"
   ]
  },
  {
   "cell_type": "code",
   "execution_count": 6,
   "metadata": {},
   "outputs": [
    {
     "name": "stdout",
     "output_type": "stream",
     "text": [
      "0    False\n",
      "1     True\n",
      "2    False\n",
      "3     True\n",
      "dtype: bool\n"
     ]
    }
   ],
   "source": [
    "# 要在布尔上下文中评估单元素Pandas对象，请使用方法.bool()\n",
    "print(pd.Series([False, True, False,True]))"
   ]
  },
  {
   "cell_type": "code",
   "execution_count": 7,
   "metadata": {},
   "outputs": [
    {
     "name": "stdout",
     "output_type": "stream",
     "text": [
      "0    False\n",
      "1    False\n",
      "2    False\n",
      "3    False\n",
      "4     True\n",
      "dtype: bool\n"
     ]
    }
   ],
   "source": [
    "# 按位布尔值\n",
    "# 按位布尔运算符(如==和!=)将返回一个布尔系列，这几乎总是需要的。\n",
    "s = pd.Series(range(5))\n",
    "print (s==4)"
   ]
  },
  {
   "cell_type": "code",
   "execution_count": 8,
   "metadata": {},
   "outputs": [
    {
     "name": "stdout",
     "output_type": "stream",
     "text": [
      "0     True\n",
      "1    False\n",
      "2     True\n",
      "dtype: bool\n"
     ]
    }
   ],
   "source": [
    "# isin操作符\n",
    "# 这将返回一个布尔序列，显示系列中的每个元素是否完全包含在传递的值序列中。\n",
    "s = pd.Series(list('abc'))\n",
    "s = s.isin(['a', 'c', 'e'])\n",
    "print (s)"
   ]
  },
  {
   "cell_type": "code",
   "execution_count": 10,
   "metadata": {},
   "outputs": [
    {
     "name": "stdout",
     "output_type": "stream",
     "text": [
      "        one       two     three      four\n",
      "a -0.197411  1.052333 -0.822011 -0.513418\n",
      "b -0.129203  0.989136 -0.914982 -0.366308\n",
      "c  1.436710  0.023309 -0.871855 -1.945070\n",
      "d -0.667649  1.010931 -0.376499  0.511763\n",
      "e  0.686425  1.224462  1.440651  0.604553\n",
      "f  1.407472  1.382493 -0.088008  0.362025\n",
      "=============================================\n",
      "        one       two     three      four\n",
      "b -0.129203  0.989136 -0.914982 -0.366308\n",
      "c  1.436710  0.023309 -0.871855 -1.945070\n",
      "e  0.686425  1.224462  1.440651  0.604553\n"
     ]
    },
    {
     "name": "stderr",
     "output_type": "stream",
     "text": [
      "d:\\python3564\\lib\\site-packages\\ipykernel_launcher.py:9: DeprecationWarning: \n",
      ".ix is deprecated. Please use\n",
      ".loc for label based indexing or\n",
      ".iloc for positional indexing\n",
      "\n",
      "See the documentation here:\n",
      "http://pandas.pydata.org/pandas-docs/stable/indexing.html#ix-indexer-is-deprecated\n",
      "  if __name__ == '__main__':\n"
     ]
    }
   ],
   "source": [
    "# 重构索引与ix陷阱\n",
    "# 许多用户会发现自己使用ix索引功能作为从Pandas对象中选择数据的简洁方法\n",
    "import numpy as np\n",
    "df = pd.DataFrame(np.random.randn(6, 4), columns=['one', 'two', 'three',\n",
    "'four'],index=list('abcdef'))\n",
    "\n",
    "print (df)\n",
    "print (\"=============================================\")\n",
    "print (df.ix[['b', 'c', 'e']])"
   ]
  },
  {
   "cell_type": "code",
   "execution_count": 11,
   "metadata": {},
   "outputs": [
    {
     "name": "stdout",
     "output_type": "stream",
     "text": [
      "        one       two     three      four\n",
      "a  0.173882 -1.064736 -0.828805  0.672900\n",
      "b -0.303134 -0.472367 -0.436861  0.152094\n",
      "c -0.458892  0.376824 -1.420921 -0.234774\n",
      "d  0.751581 -0.498977  0.966658  0.396972\n",
      "e  0.227959 -0.226522  0.017929  0.163902\n",
      "f  0.721258 -0.028470  0.775464 -0.211836\n",
      "=============================================\n",
      "        one       two     three      four\n",
      "b -0.303134 -0.472367 -0.436861  0.152094\n",
      "c -0.458892  0.376824 -1.420921 -0.234774\n",
      "e  0.227959 -0.226522  0.017929  0.163902\n"
     ]
    }
   ],
   "source": [
    "# 这当然在这种情况下完全等同于使用reindex方法\n",
    "\n",
    "df = pd.DataFrame(np.random.randn(6, 4), columns=['one', 'two', 'three',\n",
    "'four'],index=list('abcdef'))\n",
    "print (df)\n",
    "print(\"=============================================\")\n",
    "print (df.reindex(['b', 'c', 'e']))"
   ]
  },
  {
   "cell_type": "code",
   "execution_count": 12,
   "metadata": {},
   "outputs": [
    {
     "name": "stdout",
     "output_type": "stream",
     "text": [
      "        one       two     three      four\n",
      "a  0.009758 -0.363380  0.437158  0.261402\n",
      "b -0.856149 -0.571815  0.991788  1.349430\n",
      "c  1.002530  1.409019 -1.523340 -1.271673\n",
      "d -1.138615  0.683440  1.384523  0.836575\n",
      "e  1.636764  0.460612 -1.496034  2.315799\n",
      "f -0.655074  0.834432 -0.422168 -0.118160\n",
      "=====================================\n",
      "        one       two     three      four\n",
      "b -0.856149 -0.571815  0.991788  1.349430\n",
      "c  1.002530  1.409019 -1.523340 -1.271673\n",
      "e  1.636764  0.460612 -1.496034  2.315799\n",
      "=====================================\n",
      "   one  two  three  four\n",
      "1  NaN  NaN    NaN   NaN\n",
      "2  NaN  NaN    NaN   NaN\n",
      "4  NaN  NaN    NaN   NaN\n"
     ]
    },
    {
     "name": "stderr",
     "output_type": "stream",
     "text": [
      "d:\\python3564\\lib\\site-packages\\ipykernel_launcher.py:9: DeprecationWarning: \n",
      ".ix is deprecated. Please use\n",
      ".loc for label based indexing or\n",
      ".iloc for positional indexing\n",
      "\n",
      "See the documentation here:\n",
      "http://pandas.pydata.org/pandas-docs/stable/indexing.html#ix-indexer-is-deprecated\n",
      "  if __name__ == '__main__':\n"
     ]
    }
   ],
   "source": [
    "import pandas as pd\n",
    "import numpy as np\n",
    "\n",
    "df = pd.DataFrame(np.random.randn(6, 4), columns=['one', 'two', 'three',\n",
    "'four'],index=list('abcdef'))\n",
    "\n",
    "print (df)\n",
    "print(\"=====================================\")\n",
    "print (df.ix[[1, 2, 4]])#下标\n",
    "print(\"=====================================\")\n",
    "print (df.reindex([1, 2, 4]))#索引"
   ]
  },
  {
   "cell_type": "code",
   "execution_count": null,
   "metadata": {},
   "outputs": [],
   "source": []
  },
  {
   "cell_type": "code",
   "execution_count": null,
   "metadata": {},
   "outputs": [],
   "source": []
  },
  {
   "cell_type": "code",
   "execution_count": null,
   "metadata": {},
   "outputs": [],
   "source": []
  },
  {
   "cell_type": "code",
   "execution_count": null,
   "metadata": {},
   "outputs": [],
   "source": []
  },
  {
   "cell_type": "code",
   "execution_count": null,
   "metadata": {},
   "outputs": [],
   "source": []
  },
  {
   "cell_type": "code",
   "execution_count": null,
   "metadata": {},
   "outputs": [],
   "source": []
  },
  {
   "cell_type": "code",
   "execution_count": null,
   "metadata": {},
   "outputs": [],
   "source": []
  }
 ],
 "metadata": {
  "kernelspec": {
   "display_name": "Python 3",
   "language": "python",
   "name": "python3"
  },
  "language_info": {
   "codemirror_mode": {
    "name": "ipython",
    "version": 3
   },
   "file_extension": ".py",
   "mimetype": "text/x-python",
   "name": "python",
   "nbconvert_exporter": "python",
   "pygments_lexer": "ipython3",
   "version": "3.5.4rc1"
  }
 },
 "nbformat": 4,
 "nbformat_minor": 2
}
