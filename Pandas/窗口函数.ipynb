{
 "cells": [
  {
   "cell_type": "code",
   "execution_count": null,
   "metadata": {},
   "outputs": [],
   "source": [
    "为了处理数字数据，Pandas提供了几个变体，如滚动，展开和指数移动窗口统计的权重。 其中包括总和，均值，中位数，方差，协方差，相关性等"
   ]
  },
  {
   "cell_type": "code",
   "execution_count": null,
   "metadata": {},
   "outputs": [],
   "source": [
    ".rolling()函数，[某种意义上讲跟卷积有点像]\n",
    "这个函数可以应用于一系列数据。指定window=n参数并在其上应用适当的统计函数"
   ]
  },
  {
   "cell_type": "code",
   "execution_count": 3,
   "metadata": {},
   "outputs": [
    {
     "name": "stdout",
     "output_type": "stream",
     "text": [
      "                   A         B         C         D\n",
      "2020-01-01       NaN       NaN       NaN       NaN\n",
      "2020-01-02       NaN       NaN       NaN       NaN\n",
      "2020-01-03 -0.636246  0.515395 -0.129421 -0.901869\n",
      "2020-01-04 -0.166954  1.042858  0.761828  0.126141\n",
      "2020-01-05 -0.712186  0.370695 -0.114378  0.502206\n",
      "2020-01-06 -0.452444  0.567741 -0.850249  0.705189\n",
      "2020-01-07 -0.449084  0.017084 -1.577054  0.712811\n",
      "2020-01-08 -0.175464  0.474213 -0.911444  1.017550\n",
      "2020-01-09 -0.477864 -0.034583 -0.576601  0.695880\n",
      "2020-01-10 -0.450011 -0.063660  0.146866 -0.105277\n"
     ]
    }
   ],
   "source": [
    "import pandas as pd\n",
    "import numpy as np\n",
    "\n",
    "df = pd.DataFrame(np.random.randn(10, 4),index = pd.date_range('1/1/2020', periods=10),columns = ['A', 'B', 'C', 'D'])\n",
    "# 由于窗口大小为3(window)，前两个元素有空值，第三个元素的值将是n，n-1和n-2元素的平均值。这样也可以应用上面提到的各种函数了\n",
    "print (df.rolling(window=3).mean())"
   ]
  },
  {
   "cell_type": "code",
   "execution_count": null,
   "metadata": {},
   "outputs": [],
   "source": [
    ".expanding()函数\n",
    "这个函数可以应用于一系列数据。 指定min_periods = n参数并在其上应用适当的统计函数\n",
    "每个窗口最少包含的观测值数量，小于这个值的窗口结果为NA。值可以是int，默认None。offset情况下，默认为1"
   ]
  },
  {
   "cell_type": "code",
   "execution_count": 5,
   "metadata": {},
   "outputs": [
    {
     "name": "stdout",
     "output_type": "stream",
     "text": [
      "                   A         B         C         D\n",
      "2020-01-01       NaN       NaN       NaN       NaN\n",
      "2020-01-02       NaN       NaN       NaN       NaN\n",
      "2020-01-03 -1.908738  1.546185 -0.388264 -2.705606\n",
      "2020-01-04 -2.278099  2.879665  0.758970 -1.594788\n",
      "2020-01-05 -3.477708  2.894840 -1.940364 -1.229672\n",
      "2020-01-06 -3.266070  3.249408 -2.939010 -0.590040\n",
      "2020-01-07 -3.625352  2.930916 -3.972192  0.543644\n",
      "2020-01-08 -4.004099  4.317479 -4.674696  1.822979\n",
      "2020-01-09 -4.699660  3.145658 -4.668812  1.497600\n",
      "2020-01-10 -4.975384  2.739935 -3.531594  0.227813\n"
     ]
    }
   ],
   "source": [
    "df = pd.DataFrame(np.random.randn(10, 4),      index = pd.date_range('1/1/2018', periods=10),      columns = ['A', 'B', 'C', 'D'])\n",
    "print (df.expanding(min_periods=3).sum())#往下roll，3个以内nan,3个雨后，每个数相加，4时4个数相加，5时5个数相加"
   ]
  },
  {
   "cell_type": "code",
   "execution_count": null,
   "metadata": {},
   "outputs": [],
   "source": [
    ".ewm()函数\n",
    "ewm()可应用于系列数据。指定com，span，halflife参数，并在其上应用适当的统计函数。它以指数形式分配权重"
   ]
  },
  {
   "cell_type": "code",
   "execution_count": 9,
   "metadata": {},
   "outputs": [
    {
     "name": "stdout",
     "output_type": "stream",
     "text": [
      "                   A         B         C         D\n",
      "2019-01-01  0.420104  0.920246 -0.150274 -1.850893\n",
      "2019-01-02  1.041110  0.977568 -0.523336 -0.680699\n",
      "2019-01-03  0.354410 -0.152433 -1.150413  1.448562\n",
      "2019-01-04  0.752213  0.136620  1.192540 -1.756705\n",
      "2019-01-05  0.169606 -0.901203  0.274332 -0.681975\n",
      "2019-01-06  0.464363 -0.174938 -0.019446  1.480813\n",
      "2019-01-07  1.599353  1.545313  0.064479  0.650912\n",
      "2019-01-08  1.171496 -0.834122 -1.523663 -1.490188\n",
      "2019-01-09  0.803747  1.943527 -0.493568  0.335218\n",
      "2019-01-10 -1.111192 -0.452951 -0.198356 -0.124005\n",
      "                   A         B         C         D\n",
      "2019-01-01  0.420104  0.920246 -0.150274 -1.850893\n",
      "2019-01-02  0.885858  0.963238 -0.430070 -0.973248\n",
      "2019-01-03  0.517932  0.190850 -0.928769  0.703390\n",
      "2019-01-04  0.676072  0.154245  0.503115 -0.957174\n",
      "2019-01-05  0.337033 -0.552295  0.349963 -0.772950\n",
      "2019-01-06  0.422036 -0.300378  0.103352  0.731622\n",
      "2019-01-07  1.207273  0.930646  0.077425  0.677791\n",
      "2019-01-08  1.183418 -0.246045 -0.990130 -0.767749\n",
      "2019-01-09  0.930291  1.213744 -0.659071 -0.032400\n",
      "2019-01-10 -0.430721  0.102595 -0.351923 -0.093471\n"
     ]
    }
   ],
   "source": [
    "df = pd.DataFrame(np.random.randn(10, 4),   index = pd.date_range('1/1/2019', periods=10),   columns = ['A', 'B', 'C', 'D'])\n",
    "print(df)\n",
    "print (df.ewm(com=0.5).mean())"
   ]
  },
  {
   "cell_type": "code",
   "execution_count": null,
   "metadata": {},
   "outputs": [],
   "source": []
  },
  {
   "cell_type": "code",
   "execution_count": null,
   "metadata": {},
   "outputs": [],
   "source": []
  },
  {
   "cell_type": "code",
   "execution_count": null,
   "metadata": {},
   "outputs": [],
   "source": []
  },
  {
   "cell_type": "code",
   "execution_count": null,
   "metadata": {},
   "outputs": [],
   "source": []
  },
  {
   "cell_type": "code",
   "execution_count": null,
   "metadata": {},
   "outputs": [],
   "source": []
  },
  {
   "cell_type": "code",
   "execution_count": null,
   "metadata": {},
   "outputs": [],
   "source": []
  },
  {
   "cell_type": "code",
   "execution_count": null,
   "metadata": {},
   "outputs": [],
   "source": []
  },
  {
   "cell_type": "code",
   "execution_count": null,
   "metadata": {},
   "outputs": [],
   "source": []
  },
  {
   "cell_type": "code",
   "execution_count": null,
   "metadata": {},
   "outputs": [],
   "source": []
  },
  {
   "cell_type": "code",
   "execution_count": null,
   "metadata": {},
   "outputs": [],
   "source": []
  }
 ],
 "metadata": {
  "kernelspec": {
   "display_name": "Python 3",
   "language": "python",
   "name": "python3"
  },
  "language_info": {
   "codemirror_mode": {
    "name": "ipython",
    "version": 3
   },
   "file_extension": ".py",
   "mimetype": "text/x-python",
   "name": "python",
   "nbconvert_exporter": "python",
   "pygments_lexer": "ipython3",
   "version": "3.5.4rc1"
  }
 },
 "nbformat": 4,
 "nbformat_minor": 2
}
