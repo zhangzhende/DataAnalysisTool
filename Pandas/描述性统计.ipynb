{
 "cells": [
  {
   "cell_type": "code",
   "execution_count": 1,
   "metadata": {},
   "outputs": [
    {
     "name": "stdout",
     "output_type": "stream",
     "text": [
      "    Age    Name  Rating\n",
      "0    25     Tom    4.23\n",
      "1    26   James    3.24\n",
      "2    25   Ricky    3.98\n",
      "3    23     Vin    2.56\n",
      "4    30   Steve    3.20\n",
      "5    29   Minsu    4.60\n",
      "6    23    Jack    3.80\n",
      "7    34     Lee    3.78\n",
      "8    40   David    2.98\n",
      "9    30  Gasper    4.80\n",
      "10   51  Betina    4.10\n",
      "11   46  Andres    3.65\n"
     ]
    }
   ],
   "source": [
    "import pandas as pd\n",
    "import numpy as np\n",
    "#初始数据\n",
    "#Create a Dictionary of series\n",
    "d = {'Name':pd.Series(['Tom','James','Ricky','Vin','Steve','Minsu','Jack',\n",
    "   'Lee','David','Gasper','Betina','Andres']),\n",
    "   'Age':pd.Series([25,26,25,23,30,29,23,34,40,30,51,46]),\n",
    "   'Rating':pd.Series([4.23,3.24,3.98,2.56,3.20,4.6,3.8,3.78,2.98,4.80,4.10,3.65])}\n",
    "\n",
    "#Create a DataFrame\n",
    "df = pd.DataFrame(d)\n",
    "print (df)"
   ]
  },
  {
   "cell_type": "code",
   "execution_count": 2,
   "metadata": {},
   "outputs": [
    {
     "name": "stdout",
     "output_type": "stream",
     "text": [
      "Age                                                     382\n",
      "Name      TomJamesRickyVinSteveMinsuJackLeeDavidGasperBe...\n",
      "Rating                                                44.92\n",
      "dtype: object\n"
     ]
    }
   ],
   "source": [
    "# sum()方法返回所请求轴的值的总和。 默认情况下，轴为索引(axis=0)。字符串就变成拼接\n",
    "print (df.sum())"
   ]
  },
  {
   "cell_type": "code",
   "execution_count": 3,
   "metadata": {},
   "outputs": [
    {
     "name": "stdout",
     "output_type": "stream",
     "text": [
      "0     29.23\n",
      "1     29.24\n",
      "2     28.98\n",
      "3     25.56\n",
      "4     33.20\n",
      "5     33.60\n",
      "6     26.80\n",
      "7     37.78\n",
      "8     42.98\n",
      "9     34.80\n",
      "10    55.10\n",
      "11    49.65\n",
      "dtype: float64\n"
     ]
    }
   ],
   "source": [
    "# axis=1示例\n",
    "print (df.sum(1))"
   ]
  },
  {
   "cell_type": "code",
   "execution_count": 4,
   "metadata": {},
   "outputs": [
    {
     "name": "stdout",
     "output_type": "stream",
     "text": [
      "Age       31.833333\n",
      "Rating     3.743333\n",
      "dtype: float64\n"
     ]
    }
   ],
   "source": [
    "# mean()示例\n",
    "# 返回平均值,数值类型\n",
    "\n",
    "print (df.mean())"
   ]
  },
  {
   "cell_type": "code",
   "execution_count": 6,
   "metadata": {},
   "outputs": [
    {
     "name": "stdout",
     "output_type": "stream",
     "text": [
      "Age       9.232682\n",
      "Rating    0.661628\n",
      "dtype: float64\n"
     ]
    }
   ],
   "source": [
    "# std()示例 \n",
    "# 返回数字列的Bressel标准偏差,即标准差\n",
    "print (df.std())"
   ]
  },
  {
   "cell_type": "code",
   "execution_count": null,
   "metadata": {},
   "outputs": [],
   "source": [
    "1\tcount()\t非空观测数量\n",
    "2\tsum()\t所有值之和\n",
    "3\tmean()\t所有值的平均值\n",
    "4\tmedian()\t所有值的中位数\n",
    "5\tmode()\t值的模值\n",
    "6\tstd()\t值的标准偏差\n",
    "7\tmin()\t所有值中的最小值\n",
    "8\tmax()\t所有值中的最大值\n",
    "9\tabs()\t绝对值\n",
    "10\tprod()\t数组元素的乘积\n",
    "11\tcumsum()\t累计总和\n",
    "12\tcumprod()\t累计乘积\n",
    "\n",
    "类似于：sum()，cumsum()函数能与数字和字符(或)字符串数据元素一起工作，不会产生任何错误。\n",
    "字符聚合从来都比较少被使用，虽然这些函数不会引发任何异常。由于这样的操作无法执行，\n",
    "因此，当DataFrame包含字符或字符串数据时，像abs()，cumprod()这样的函数会抛出异常。"
   ]
  },
  {
   "cell_type": "code",
   "execution_count": 7,
   "metadata": {},
   "outputs": [
    {
     "name": "stdout",
     "output_type": "stream",
     "text": [
      "             Age     Rating\n",
      "count  12.000000  12.000000\n",
      "mean   31.833333   3.743333\n",
      "std     9.232682   0.661628\n",
      "min    23.000000   2.560000\n",
      "25%    25.000000   3.230000\n",
      "50%    29.500000   3.790000\n",
      "75%    35.500000   4.132500\n",
      "max    51.000000   4.800000\n"
     ]
    }
   ],
   "source": [
    "# 汇总数据describe()函数是用来计算有关DataFrame列的统计信息的摘要\n",
    "# 该函数给出了平均值，标准差和IQR值。 \n",
    "# 而且，函数排除字符列，并给出关于数字列的摘要。 \n",
    "# include是用于传递关于什么列需要考虑用于总结的必要信息的参数。获取值列表; 默认情况下是”数字值”。\n",
    "# object - 汇总字符串列\n",
    "# number - 汇总数字列\n",
    "# all - 将所有列汇总在一起(不应将其作为列表值传递)\n",
    "print (df.describe())"
   ]
  },
  {
   "cell_type": "code",
   "execution_count": 8,
   "metadata": {},
   "outputs": [
    {
     "name": "stdout",
     "output_type": "stream",
     "text": [
      "         Name\n",
      "count      12\n",
      "unique     12\n",
      "top     James\n",
      "freq        1\n"
     ]
    }
   ],
   "source": [
    "# object - 汇总字符串列\n",
    "print (df.describe(include=['object']))"
   ]
  },
  {
   "cell_type": "code",
   "execution_count": 9,
   "metadata": {},
   "outputs": [
    {
     "name": "stdout",
     "output_type": "stream",
     "text": [
      "              Age   Name     Rating\n",
      "count   12.000000     12  12.000000\n",
      "unique        NaN     12        NaN\n",
      "top           NaN  James        NaN\n",
      "freq          NaN      1        NaN\n",
      "mean    31.833333    NaN   3.743333\n",
      "std      9.232682    NaN   0.661628\n",
      "min     23.000000    NaN   2.560000\n",
      "25%     25.000000    NaN   3.230000\n",
      "50%     29.500000    NaN   3.790000\n",
      "75%     35.500000    NaN   4.132500\n",
      "max     51.000000    NaN   4.800000\n"
     ]
    }
   ],
   "source": [
    "# all - 将所有列汇总在一起\n",
    "print (df.describe(include='all'))"
   ]
  },
  {
   "cell_type": "code",
   "execution_count": null,
   "metadata": {},
   "outputs": [],
   "source": []
  }
 ],
 "metadata": {
  "kernelspec": {
   "display_name": "Python 3",
   "language": "python",
   "name": "python3"
  },
  "language_info": {
   "codemirror_mode": {
    "name": "ipython",
    "version": 3
   },
   "file_extension": ".py",
   "mimetype": "text/x-python",
   "name": "python",
   "nbconvert_exporter": "python",
   "pygments_lexer": "ipython3",
   "version": "3.5.4rc1"
  }
 },
 "nbformat": 4,
 "nbformat_minor": 2
}
