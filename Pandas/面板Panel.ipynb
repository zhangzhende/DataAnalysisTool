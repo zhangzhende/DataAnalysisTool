{
 "cells": [
  {
   "cell_type": "code",
   "execution_count": 1,
   "metadata": {},
   "outputs": [
    {
     "name": "stdout",
     "output_type": "stream",
     "text": [
      "<class 'pandas.core.panel.Panel'>\n",
      "Dimensions: 2 (items) x 4 (major_axis) x 5 (minor_axis)\n",
      "Items axis: 0 to 1\n",
      "Major_axis axis: 0 to 3\n",
      "Minor_axis axis: 0 to 4\n"
     ]
    },
    {
     "name": "stderr",
     "output_type": "stream",
     "text": [
      "d:\\python3564\\lib\\site-packages\\IPython\\core\\interactiveshell.py:2961: FutureWarning: \n",
      "Panel is deprecated and will be removed in a future version.\n",
      "The recommended way to represent these types of 3-dimensional data are with a MultiIndex on a DataFrame, via the Panel.to_frame() method\n",
      "Alternatively, you can use the xarray package http://xarray.pydata.org/en/stable/.\n",
      "Pandas provides a `.to_xarray()` method to help automate this conversion.\n",
      "\n",
      "  exec(code_obj, self.user_global_ns, self.user_ns)\n"
     ]
    }
   ],
   "source": [
    "# 面板(Panel)是3D容器的数据 【过时，可用3D的】\n",
    "\n",
    "# pandas.Panel(data, items, major_axis, minor_axis, dtype, copy)\n",
    "\n",
    "#  创建面板\n",
    "# 从ndarrays创建\n",
    "# 从DataFrames的dict创建\n",
    "\n",
    "# 从3D ndarray创建\n",
    "import pandas as pd\n",
    "import numpy as np\n",
    "\n",
    "data = np.random.rand(2,4,5)\n",
    "p = pd.Panel(data)\n",
    "print (p)"
   ]
  },
  {
   "cell_type": "code",
   "execution_count": 2,
   "metadata": {},
   "outputs": [
    {
     "name": "stdout",
     "output_type": "stream",
     "text": [
      "<class 'pandas.core.panel.Panel'>\n",
      "Dimensions: 2 (items) x 4 (major_axis) x 3 (minor_axis)\n",
      "Items axis: Item1 to Item2\n",
      "Major_axis axis: 0 to 3\n",
      "Minor_axis axis: 0 to 2\n"
     ]
    },
    {
     "name": "stderr",
     "output_type": "stream",
     "text": [
      "d:\\python3564\\lib\\site-packages\\IPython\\core\\interactiveshell.py:2961: FutureWarning: \n",
      "Panel is deprecated and will be removed in a future version.\n",
      "The recommended way to represent these types of 3-dimensional data are with a MultiIndex on a DataFrame, via the Panel.to_frame() method\n",
      "Alternatively, you can use the xarray package http://xarray.pydata.org/en/stable/.\n",
      "Pandas provides a `.to_xarray()` method to help automate this conversion.\n",
      "\n",
      "  exec(code_obj, self.user_global_ns, self.user_ns)\n"
     ]
    }
   ],
   "source": [
    "# 从DataFrame对象的dict创建面板\n",
    "data = {'Item1' : pd.DataFrame(np.random.randn(4, 3)), \n",
    "        'Item2' : pd.DataFrame(np.random.randn(4, 2))}\n",
    "p = pd.Panel(data)\n",
    "print (p)\n"
   ]
  },
  {
   "cell_type": "code",
   "execution_count": 3,
   "metadata": {},
   "outputs": [
    {
     "name": "stdout",
     "output_type": "stream",
     "text": [
      "<class 'pandas.core.panel.Panel'>\n",
      "Dimensions: 0 (items) x 0 (major_axis) x 0 (minor_axis)\n",
      "Items axis: None\n",
      "Major_axis axis: None\n",
      "Minor_axis axis: None\n"
     ]
    },
    {
     "name": "stderr",
     "output_type": "stream",
     "text": [
      "d:\\python3564\\lib\\site-packages\\IPython\\core\\interactiveshell.py:2961: FutureWarning: \n",
      "Panel is deprecated and will be removed in a future version.\n",
      "The recommended way to represent these types of 3-dimensional data are with a MultiIndex on a DataFrame, via the Panel.to_frame() method\n",
      "Alternatively, you can use the xarray package http://xarray.pydata.org/en/stable/.\n",
      "Pandas provides a `.to_xarray()` method to help automate this conversion.\n",
      "\n",
      "  exec(code_obj, self.user_global_ns, self.user_ns)\n"
     ]
    }
   ],
   "source": [
    "# 创建一个空面板\n",
    "p = pd.Panel()\n",
    "print (p)"
   ]
  },
  {
   "cell_type": "code",
   "execution_count": 4,
   "metadata": {},
   "outputs": [
    {
     "name": "stdout",
     "output_type": "stream",
     "text": [
      "          0         1         2\n",
      "0 -0.009857 -0.045692  0.698587\n",
      "1  0.274769  0.468178 -1.116310\n",
      "2  0.824321  0.182615 -0.394354\n",
      "3 -1.576496 -1.005971 -0.011744\n"
     ]
    },
    {
     "name": "stderr",
     "output_type": "stream",
     "text": [
      "d:\\python3564\\lib\\site-packages\\IPython\\core\\interactiveshell.py:2961: FutureWarning: \n",
      "Panel is deprecated and will be removed in a future version.\n",
      "The recommended way to represent these types of 3-dimensional data are with a MultiIndex on a DataFrame, via the Panel.to_frame() method\n",
      "Alternatively, you can use the xarray package http://xarray.pydata.org/en/stable/.\n",
      "Pandas provides a `.to_xarray()` method to help automate this conversion.\n",
      "\n",
      "  exec(code_obj, self.user_global_ns, self.user_ns)\n"
     ]
    }
   ],
   "source": [
    "# 从面板中选择数据\n",
    "# 要从面板中选择数据，可以使用以下方式 \n",
    "# -Items\n",
    "# Major_axis\n",
    "# Minor_axis\n",
    "\n",
    "# 使用Items\n",
    "data = {'Item1' : pd.DataFrame(np.random.randn(4, 3)), \n",
    "        'Item2' : pd.DataFrame(np.random.randn(4, 2))}\n",
    "p = pd.Panel(data)\n",
    "print (p['Item1'])"
   ]
  },
  {
   "cell_type": "code",
   "execution_count": 9,
   "metadata": {},
   "outputs": [
    {
     "name": "stdout",
     "output_type": "stream",
     "text": [
      "          0         1         2\n",
      "0 -1.097827 -0.387573  0.574070\n",
      "1 -2.395718  0.102233  0.268168\n",
      "2 -0.324288 -0.780056 -1.446848\n",
      "3  1.659135  0.430507 -2.122810\n",
      "----------------------------------------\n",
      "          0         1   2\n",
      "0  0.830325 -1.600748 NaN\n",
      "1  0.007959 -0.936461 NaN\n",
      "2  0.580620 -1.692232 NaN\n",
      "3  0.429767  0.311966 NaN\n",
      "----------------------------------------\n",
      "      Item1     Item2\n",
      "0 -2.395718  0.007959\n",
      "1  0.102233 -0.936461\n",
      "2  0.268168       NaN\n"
     ]
    },
    {
     "name": "stderr",
     "output_type": "stream",
     "text": [
      "d:\\python3564\\lib\\site-packages\\IPython\\core\\interactiveshell.py:2961: FutureWarning: \n",
      "Panel is deprecated and will be removed in a future version.\n",
      "The recommended way to represent these types of 3-dimensional data are with a MultiIndex on a DataFrame, via the Panel.to_frame() method\n",
      "Alternatively, you can use the xarray package http://xarray.pydata.org/en/stable/.\n",
      "Pandas provides a `.to_xarray()` method to help automate this conversion.\n",
      "\n",
      "  exec(code_obj, self.user_global_ns, self.user_ns)\n"
     ]
    }
   ],
   "source": [
    "# 使用major_axis,函数为major_xs\n",
    "data = {'Item1' : pd.DataFrame(np.random.randn(4, 3)), \n",
    "        'Item2' : pd.DataFrame(np.random.randn(4, 2))}\n",
    "p = pd.Panel(data)\n",
    "print (p['Item1'])\n",
    "print ('--'*20)\n",
    "print (p['Item2'])\n",
    "print ('--'*20)\n",
    "print (p.major_xs(1))"
   ]
  },
  {
   "cell_type": "code",
   "execution_count": 10,
   "metadata": {},
   "outputs": [
    {
     "name": "stdout",
     "output_type": "stream",
     "text": [
      "          0         1         2\n",
      "0  0.851045 -1.559492 -0.792502\n",
      "1 -0.331667 -0.093427 -1.775056\n",
      "2  1.557037  0.132849 -1.095943\n",
      "3 -0.088219 -0.299070 -0.496804\n",
      "----------------------------------------\n",
      "          0         1   2\n",
      "0 -2.155865 -0.543724 NaN\n",
      "1  0.729136 -0.399539 NaN\n",
      "2 -0.058988  1.465773 NaN\n",
      "3 -1.293438  0.192039 NaN\n",
      "----------------------------------------\n",
      "      Item1     Item2\n",
      "0 -1.559492 -0.543724\n",
      "1 -0.093427 -0.399539\n",
      "2  0.132849  1.465773\n",
      "3 -0.299070  0.192039\n"
     ]
    },
    {
     "name": "stderr",
     "output_type": "stream",
     "text": [
      "d:\\python3564\\lib\\site-packages\\IPython\\core\\interactiveshell.py:2961: FutureWarning: \n",
      "Panel is deprecated and will be removed in a future version.\n",
      "The recommended way to represent these types of 3-dimensional data are with a MultiIndex on a DataFrame, via the Panel.to_frame() method\n",
      "Alternatively, you can use the xarray package http://xarray.pydata.org/en/stable/.\n",
      "Pandas provides a `.to_xarray()` method to help automate this conversion.\n",
      "\n",
      "  exec(code_obj, self.user_global_ns, self.user_ns)\n"
     ]
    }
   ],
   "source": [
    "# 使用minor_axis\n",
    "data = {'Item1' : pd.DataFrame(np.random.randn(4, 3)), \n",
    "        'Item2' : pd.DataFrame(np.random.randn(4, 2))}\n",
    "p = pd.Panel(data)\n",
    "print (p['Item1'])\n",
    "print ('--'*20)\n",
    "print (p['Item2'])\n",
    "print ('--'*20)\n",
    "print (p.minor_xs(1))"
   ]
  },
  {
   "cell_type": "code",
   "execution_count": null,
   "metadata": {},
   "outputs": [],
   "source": []
  }
 ],
 "metadata": {
  "kernelspec": {
   "display_name": "Python 3",
   "language": "python",
   "name": "python3"
  },
  "language_info": {
   "codemirror_mode": {
    "name": "ipython",
    "version": 3
   },
   "file_extension": ".py",
   "mimetype": "text/x-python",
   "name": "python",
   "nbconvert_exporter": "python",
   "pygments_lexer": "ipython3",
   "version": "3.5.4rc1"
  }
 },
 "nbformat": 4,
 "nbformat_minor": 2
}
