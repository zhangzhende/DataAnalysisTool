{
 "cells": [
  {
   "cell_type": "code",
   "execution_count": null,
   "metadata": {},
   "outputs": [],
   "source": [
    "Pandas提供了各种工具(功能)，可以轻松地将Series，DataFrame和Panel对象组合在一起\n",
    "\n",
    "pd.concat(objs,axis=0,join='outer',join_axes=None,\n",
    "ignore_index=False)\n",
    "\n",
    "objs - 这是Series，DataFrame或Panel对象的序列或映射。\n",
    "axis - {0，1，...}，默认为0，这是连接的轴。\n",
    "join - {'inner', 'outer'}，默认inner。如何处理其他轴上的索引。联合的外部和交叉的内部。\n",
    "ignore_index − 布尔值，默认为False。如果指定为True，则不要使用连接轴上的索引值。结果轴将被标记为：0，...，n-1。\n",
    "join_axes - 这是Index对象的列表。用于其他(n-1)轴的特定索引，而不是执行内部/外部集逻辑。"
   ]
  },
  {
   "cell_type": "code",
   "execution_count": 2,
   "metadata": {},
   "outputs": [
    {
     "name": "stdout",
     "output_type": "stream",
     "text": [
      "   Marks_scored    Name subject_id\n",
      "1            98    Alex       sub1\n",
      "2            90     Amy       sub2\n",
      "3            87   Allen       sub4\n",
      "4            69   Alice       sub6\n",
      "5            78  Ayoung       sub5\n",
      "1            89   Billy       sub2\n",
      "2            80   Brian       sub4\n",
      "3            79    Bran       sub3\n",
      "4            97   Bryce       sub6\n",
      "5            88   Betty       sub5\n"
     ]
    }
   ],
   "source": [
    "# 连接对象\n",
    "import pandas as pd\n",
    "one = pd.DataFrame({\n",
    "         'Name': ['Alex', 'Amy', 'Allen', 'Alice', 'Ayoung'],\n",
    "         'subject_id':['sub1','sub2','sub4','sub6','sub5'],\n",
    "         'Marks_scored':[98,90,87,69,78]},\n",
    "         index=[1,2,3,4,5])\n",
    "two = pd.DataFrame({\n",
    "         'Name': ['Billy', 'Brian', 'Bran', 'Bryce', 'Betty'],\n",
    "         'subject_id':['sub2','sub4','sub3','sub6','sub5'],\n",
    "         'Marks_scored':[89,80,79,97,88]},\n",
    "         index=[1,2,3,4,5])\n",
    "rs = pd.concat([one,two])\n",
    "print(rs)"
   ]
  },
  {
   "cell_type": "code",
   "execution_count": 3,
   "metadata": {},
   "outputs": [
    {
     "name": "stdout",
     "output_type": "stream",
     "text": [
      "     Marks_scored    Name subject_id\n",
      "x 1            98    Alex       sub1\n",
      "  2            90     Amy       sub2\n",
      "  3            87   Allen       sub4\n",
      "  4            69   Alice       sub6\n",
      "  5            78  Ayoung       sub5\n",
      "y 1            89   Billy       sub2\n",
      "  2            80   Brian       sub4\n",
      "  3            79    Bran       sub3\n",
      "  4            97   Bryce       sub6\n",
      "  5            88   Betty       sub5\n"
     ]
    }
   ],
   "source": [
    "# 假设想把特定的键与每个碎片的DataFrame关联起来。可以通过使用键参数来实现这一点 \n",
    "one = pd.DataFrame({\n",
    "         'Name': ['Alex', 'Amy', 'Allen', 'Alice', 'Ayoung'],\n",
    "         'subject_id':['sub1','sub2','sub4','sub6','sub5'],\n",
    "         'Marks_scored':[98,90,87,69,78]},\n",
    "         index=[1,2,3,4,5])\n",
    "two = pd.DataFrame({\n",
    "         'Name': ['Billy', 'Brian', 'Bran', 'Bryce', 'Betty'],\n",
    "         'subject_id':['sub2','sub4','sub3','sub6','sub5'],\n",
    "         'Marks_scored':[89,80,79,97,88]},\n",
    "         index=[1,2,3,4,5])\n",
    "rs = pd.concat([one,two],keys=['x','y'])\n",
    "print(rs)"
   ]
  },
  {
   "cell_type": "code",
   "execution_count": 4,
   "metadata": {},
   "outputs": [
    {
     "name": "stdout",
     "output_type": "stream",
     "text": [
      "   Marks_scored    Name subject_id\n",
      "0            98    Alex       sub1\n",
      "1            90     Amy       sub2\n",
      "2            87   Allen       sub4\n",
      "3            69   Alice       sub6\n",
      "4            78  Ayoung       sub5\n",
      "5            89   Billy       sub2\n",
      "6            80   Brian       sub4\n",
      "7            79    Bran       sub3\n",
      "8            97   Bryce       sub6\n",
      "9            88   Betty       sub5\n"
     ]
    }
   ],
   "source": [
    "one = pd.DataFrame({\n",
    "         'Name': ['Alex', 'Amy', 'Allen', 'Alice', 'Ayoung'],\n",
    "         'subject_id':['sub1','sub2','sub4','sub6','sub5'],\n",
    "         'Marks_scored':[98,90,87,69,78]},\n",
    "         index=[1,2,3,4,5])\n",
    "two = pd.DataFrame({\n",
    "         'Name': ['Billy', 'Brian', 'Bran', 'Bryce', 'Betty'],\n",
    "         'subject_id':['sub2','sub4','sub3','sub6','sub5'],\n",
    "         'Marks_scored':[89,80,79,97,88]},\n",
    "         index=[1,2,3,4,5])\n",
    "rs = pd.concat([one,two],keys=['x','y'],ignore_index=True)\n",
    "\n",
    "print(rs)"
   ]
  },
  {
   "cell_type": "code",
   "execution_count": 5,
   "metadata": {},
   "outputs": [
    {
     "name": "stdout",
     "output_type": "stream",
     "text": [
      "   Marks_scored    Name subject_id  Marks_scored   Name subject_id\n",
      "1            98    Alex       sub1            89  Billy       sub2\n",
      "2            90     Amy       sub2            80  Brian       sub4\n",
      "3            87   Allen       sub4            79   Bran       sub3\n",
      "4            69   Alice       sub6            97  Bryce       sub6\n",
      "5            78  Ayoung       sub5            88  Betty       sub5\n"
     ]
    }
   ],
   "source": [
    "# 观察，索引完全改变，键也被覆盖。如果需要沿axis=1添加两个对象，则会添加新列\n",
    "one = pd.DataFrame({\n",
    "         'Name': ['Alex', 'Amy', 'Allen', 'Alice', 'Ayoung'],\n",
    "         'subject_id':['sub1','sub2','sub4','sub6','sub5'],\n",
    "         'Marks_scored':[98,90,87,69,78]},\n",
    "         index=[1,2,3,4,5])\n",
    "two = pd.DataFrame({\n",
    "         'Name': ['Billy', 'Brian', 'Bran', 'Bryce', 'Betty'],\n",
    "         'subject_id':['sub2','sub4','sub3','sub6','sub5'],\n",
    "         'Marks_scored':[89,80,79,97,88]},\n",
    "         index=[1,2,3,4,5])\n",
    "rs = pd.concat([one,two],axis=1)\n",
    "print(rs)"
   ]
  },
  {
   "cell_type": "code",
   "execution_count": 6,
   "metadata": {},
   "outputs": [
    {
     "name": "stdout",
     "output_type": "stream",
     "text": [
      "   Marks_scored    Name subject_id\n",
      "1            98    Alex       sub1\n",
      "2            90     Amy       sub2\n",
      "3            87   Allen       sub4\n",
      "4            69   Alice       sub6\n",
      "5            78  Ayoung       sub5\n",
      "1            89   Billy       sub2\n",
      "2            80   Brian       sub4\n",
      "3            79    Bran       sub3\n",
      "4            97   Bryce       sub6\n",
      "5            88   Betty       sub5\n"
     ]
    }
   ],
   "source": [
    "# 使用附加连接\n",
    "# 连接的一个有用的快捷方式是在Series和DataFrame实例的append方法。这些方法实际上早于concat()方法。 它们沿axis=0连接，即索引\n",
    "\n",
    "one = pd.DataFrame({\n",
    "         'Name': ['Alex', 'Amy', 'Allen', 'Alice', 'Ayoung'],\n",
    "         'subject_id':['sub1','sub2','sub4','sub6','sub5'],\n",
    "         'Marks_scored':[98,90,87,69,78]},\n",
    "         index=[1,2,3,4,5])\n",
    "two = pd.DataFrame({\n",
    "         'Name': ['Billy', 'Brian', 'Bran', 'Bryce', 'Betty'],\n",
    "         'subject_id':['sub2','sub4','sub3','sub6','sub5'],\n",
    "         'Marks_scored':[89,80,79,97,88]},\n",
    "         index=[1,2,3,4,5])\n",
    "rs = one.append(two)\n",
    "print(rs)"
   ]
  },
  {
   "cell_type": "code",
   "execution_count": 7,
   "metadata": {},
   "outputs": [
    {
     "name": "stdout",
     "output_type": "stream",
     "text": [
      "   Marks_scored    Name subject_id\n",
      "1            98    Alex       sub1\n",
      "2            90     Amy       sub2\n",
      "3            87   Allen       sub4\n",
      "4            69   Alice       sub6\n",
      "5            78  Ayoung       sub5\n",
      "1            89   Billy       sub2\n",
      "2            80   Brian       sub4\n",
      "3            79    Bran       sub3\n",
      "4            97   Bryce       sub6\n",
      "5            88   Betty       sub5\n",
      "1            98    Alex       sub1\n",
      "2            90     Amy       sub2\n",
      "3            87   Allen       sub4\n",
      "4            69   Alice       sub6\n",
      "5            78  Ayoung       sub5\n",
      "1            89   Billy       sub2\n",
      "2            80   Brian       sub4\n",
      "3            79    Bran       sub3\n",
      "4            97   Bryce       sub6\n",
      "5            88   Betty       sub5\n"
     ]
    }
   ],
   "source": [
    "# append()函数也可以带多个对象\n",
    "one = pd.DataFrame({\n",
    "         'Name': ['Alex', 'Amy', 'Allen', 'Alice', 'Ayoung'],\n",
    "         'subject_id':['sub1','sub2','sub4','sub6','sub5'],\n",
    "         'Marks_scored':[98,90,87,69,78]},\n",
    "         index=[1,2,3,4,5])\n",
    "\n",
    "two = pd.DataFrame({\n",
    "         'Name': ['Billy', 'Brian', 'Bran', 'Bryce', 'Betty'],\n",
    "         'subject_id':['sub2','sub4','sub3','sub6','sub5'],\n",
    "         'Marks_scored':[89,80,79,97,88]},\n",
    "         index=[1,2,3,4,5])\n",
    "rs = one.append([two,one,two])\n",
    "print(rs)"
   ]
  },
  {
   "cell_type": "code",
   "execution_count": null,
   "metadata": {},
   "outputs": [],
   "source": [
    "# 时间序列\n",
    "Pandas为时间序列数据的工作时间提供了一个强大的工具，尤其是在金融领域。在处理时间序列数据时，我们经常遇到以下情况 \n",
    "-生成时间序列\n",
    "将时间序列转换为不同的频率\n",
    "Pandas提供了一个相对紧凑和自包含的工具来执行上述任务。\n",
    "\n",
    "获取当前时间\n",
    "datetime.now()用于获取当前的日期和时间"
   ]
  },
  {
   "cell_type": "code",
   "execution_count": 8,
   "metadata": {},
   "outputs": [
    {
     "name": "stdout",
     "output_type": "stream",
     "text": [
      "2019-02-18 09:56:41.088039\n"
     ]
    }
   ],
   "source": [
    "print (pd.datetime.now())"
   ]
  },
  {
   "cell_type": "code",
   "execution_count": 9,
   "metadata": {},
   "outputs": [
    {
     "name": "stdout",
     "output_type": "stream",
     "text": [
      "2020-05-05 13:54:40\n"
     ]
    }
   ],
   "source": [
    "time = pd.Timestamp(1588686880,unit='s')\n",
    "print(time)"
   ]
  },
  {
   "cell_type": "code",
   "execution_count": 10,
   "metadata": {},
   "outputs": [
    {
     "name": "stdout",
     "output_type": "stream",
     "text": [
      "[datetime.time(12, 0) datetime.time(12, 30) datetime.time(13, 0)\n",
      " datetime.time(13, 30) datetime.time(14, 0) datetime.time(14, 30)\n",
      " datetime.time(15, 0) datetime.time(15, 30) datetime.time(16, 0)\n",
      " datetime.time(16, 30) datetime.time(17, 0) datetime.time(17, 30)\n",
      " datetime.time(18, 0) datetime.time(18, 30) datetime.time(19, 0)\n",
      " datetime.time(19, 30) datetime.time(20, 0) datetime.time(20, 30)\n",
      " datetime.time(21, 0) datetime.time(21, 30) datetime.time(22, 0)\n",
      " datetime.time(22, 30) datetime.time(23, 0) datetime.time(23, 30)]\n"
     ]
    }
   ],
   "source": [
    "# 创建一个时间范围\n",
    "time = pd.date_range(\"12:00\", \"23:59\", freq=\"30min\").time\n",
    "print(time)"
   ]
  },
  {
   "cell_type": "code",
   "execution_count": 11,
   "metadata": {},
   "outputs": [
    {
     "name": "stdout",
     "output_type": "stream",
     "text": [
      "[datetime.time(12, 0) datetime.time(13, 0) datetime.time(14, 0)\n",
      " datetime.time(15, 0) datetime.time(16, 0) datetime.time(17, 0)\n",
      " datetime.time(18, 0) datetime.time(19, 0) datetime.time(20, 0)\n",
      " datetime.time(21, 0) datetime.time(22, 0) datetime.time(23, 0)]\n"
     ]
    }
   ],
   "source": [
    "# 改变时间的频率,一小时一个\n",
    "time = pd.date_range(\"12:00\", \"23:59\", freq=\"H\").time\n",
    "print(time)"
   ]
  },
  {
   "cell_type": "code",
   "execution_count": 12,
   "metadata": {},
   "outputs": [
    {
     "name": "stdout",
     "output_type": "stream",
     "text": [
      "0   2009-07-31\n",
      "1   2019-10-10\n",
      "2          NaT\n",
      "dtype: datetime64[ns]\n"
     ]
    }
   ],
   "source": [
    "# 转换为时间戳\n",
    "# 要转换类似日期的对象(例如字符串，时代或混合)的序列或类似列表的对象，可以使用to_datetime函数。\n",
    "# 当传递时将返回一个Series(具有相同的索引)，而类似列表被转换为DatetimeIndex\n",
    "time = pd.to_datetime(pd.Series(['Jul 31, 2009','2019-10-10', None]))\n",
    "print(time)"
   ]
  },
  {
   "cell_type": "code",
   "execution_count": 13,
   "metadata": {},
   "outputs": [
    {
     "name": "stdout",
     "output_type": "stream",
     "text": [
      "DatetimeIndex(['2009-11-23', '2019-12-31', 'NaT'], dtype='datetime64[ns]', freq=None)\n"
     ]
    }
   ],
   "source": [
    "time = pd.to_datetime(['2009/11/23', '2019.12.31', None])\n",
    "print(time)"
   ]
  },
  {
   "cell_type": "code",
   "execution_count": null,
   "metadata": {},
   "outputs": [],
   "source": []
  },
  {
   "cell_type": "code",
   "execution_count": null,
   "metadata": {},
   "outputs": [],
   "source": []
  }
 ],
 "metadata": {
  "kernelspec": {
   "display_name": "Python 3",
   "language": "python",
   "name": "python3"
  },
  "language_info": {
   "codemirror_mode": {
    "name": "ipython",
    "version": 3
   },
   "file_extension": ".py",
   "mimetype": "text/x-python",
   "name": "python",
   "nbconvert_exporter": "python",
   "pygments_lexer": "ipython3",
   "version": "3.5.4rc1"
  }
 },
 "nbformat": 4,
 "nbformat_minor": 2
}
