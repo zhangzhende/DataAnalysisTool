{
 "cells": [
  {
   "cell_type": "code",
   "execution_count": null,
   "metadata": {},
   "outputs": [],
   "source": [
    "Pandas I/O API是一套像pd.read_csv()一样返回Pandas对象的顶级读取器函数。\n",
    "读取文本文件(或平面文件)的两个主要功能是read_csv()和read_table()。\n",
    "它们都使用相同的解析代码来智能地将表格数据转换为DataFrame对象\n",
    "\n",
    "pandas.read_csv(filepath_or_buffer, sep=',', delimiter=None, header='infer',names=None, index_col=None, usecols=None)\n",
    "\n",
    "pandas.read_csv(filepath_or_buffer, sep='\\t', delimiter=None, header='infer',names=None, index_col=None, usecols=None)"
   ]
  },
  {
   "cell_type": "code",
   "execution_count": 9,
   "metadata": {},
   "outputs": [
    {
     "name": "stdout",
     "output_type": "stream",
     "text": [
      "   S.No    Name  Age       City  Salary\n",
      "0     1     Tom   28    Toronto   20000\n",
      "1     2     Lee   32   HongKong    3000\n",
      "2     3  Steven   43   Bay Area    8300\n",
      "3     4     Ram   38  Hyderabad    3900\n"
     ]
    }
   ],
   "source": [
    "# read.csv\n",
    "# read.csv从csv文件中读取数据并创建一个DataFrame对象。\n",
    "import pandas as pd\n",
    "path=\"F:\\private\\mydemo\\data\\data.csv\"\n",
    "df=pd.read_csv(path)\n",
    "print (df)"
   ]
  },
  {
   "cell_type": "code",
   "execution_count": 3,
   "metadata": {},
   "outputs": [
    {
     "name": "stdout",
     "output_type": "stream",
     "text": [
      "        Name  Age       City  Salary\n",
      "S.No                                \n",
      "1        Tom   28    Toronto   20000\n",
      "2        Lee   32   HongKong    3000\n",
      "3     Steven   43   Bay Area    8300\n",
      "4        Ram   38  Hyderabad    3900\n"
     ]
    }
   ],
   "source": [
    "# 自定义索引\n",
    "# 可以指定csv文件中的一列来使用index_col定制索引。\n",
    "df=pd.read_csv(path,index_col=['S.No'])\n",
    "print (df)"
   ]
  },
  {
   "cell_type": "code",
   "execution_count": 4,
   "metadata": {},
   "outputs": [
    {
     "name": "stdout",
     "output_type": "stream",
     "text": [
      "S.No        int64\n",
      "Name       object\n",
      "Age         int64\n",
      "City       object\n",
      "Salary    float64\n",
      "dtype: object\n"
     ]
    }
   ],
   "source": [
    "# 转换器\n",
    "# dtype的列可以作为字典传递。\n",
    "import pandas as pd\n",
    "import numpy as np\n",
    "# 默认情况下，Salary列的dtype是int，但结果显示为float，因为我们明确地转换了类型\n",
    "df = pd.read_csv(path, dtype={'Salary': np.float64})\n",
    "print (df.dtypes)"
   ]
  },
  {
   "cell_type": "code",
   "execution_count": 5,
   "metadata": {},
   "outputs": [
    {
     "name": "stdout",
     "output_type": "stream",
     "text": [
      "      a       b    c          d       e\n",
      "0  S.No    Name  Age       City  Salary\n",
      "1     1     Tom   28    Toronto   20000\n",
      "2     2     Lee   32   HongKong    3000\n",
      "3     3  Steven   43   Bay Area    8300\n",
      "4     4     Ram   38  Hyderabad    3900\n"
     ]
    }
   ],
   "source": [
    "# header_names\n",
    "# 使用names参数指定标题的名称。\n",
    "df=pd.read_csv(path, names=['a', 'b', 'c','d','e'])\n",
    "print (df)\n"
   ]
  },
  {
   "cell_type": "code",
   "execution_count": 7,
   "metadata": {},
   "outputs": [
    {
     "name": "stdout",
     "output_type": "stream",
     "text": [
      "   a       b   c          d      e\n",
      "0  1     Tom  28    Toronto  20000\n",
      "1  2     Lee  32   HongKong   3000\n",
      "2  3  Steven  43   Bay Area   8300\n",
      "3  4     Ram  38  Hyderabad   3900\n"
     ]
    }
   ],
   "source": [
    "# 观察可以看到，标题名称附加了自定义名称，但文件中的标题还没有被消除。 \n",
    "# 现在，使用header参数来删除它。如果标题不是第一行，则将行号传递给标题。这将跳过前面的行。\n",
    "\n",
    "df=pd.read_csv(path,names=['a','b','c','d','e'],header=0)\n",
    "print (df)"
   ]
  },
  {
   "cell_type": "code",
   "execution_count": 8,
   "metadata": {},
   "outputs": [
    {
     "name": "stdout",
     "output_type": "stream",
     "text": [
      "   2     Lee  32   HongKong  3000\n",
      "0  3  Steven  43   Bay Area  8300\n",
      "1  4     Ram  38  Hyderabad  3900\n"
     ]
    }
   ],
   "source": [
    "# skiprows\n",
    "# skiprows跳过指定的行数\n",
    "\n",
    "df=pd.read_csv(path, skiprows=2)\n",
    "print (df)"
   ]
  },
  {
   "cell_type": "code",
   "execution_count": null,
   "metadata": {},
   "outputs": [],
   "source": []
  },
  {
   "cell_type": "code",
   "execution_count": null,
   "metadata": {},
   "outputs": [],
   "source": []
  },
  {
   "cell_type": "code",
   "execution_count": null,
   "metadata": {},
   "outputs": [],
   "source": []
  },
  {
   "cell_type": "code",
   "execution_count": null,
   "metadata": {},
   "outputs": [],
   "source": []
  },
  {
   "cell_type": "code",
   "execution_count": null,
   "metadata": {},
   "outputs": [],
   "source": []
  },
  {
   "cell_type": "code",
   "execution_count": null,
   "metadata": {},
   "outputs": [],
   "source": []
  }
 ],
 "metadata": {
  "kernelspec": {
   "display_name": "Python 3",
   "language": "python",
   "name": "python3"
  },
  "language_info": {
   "codemirror_mode": {
    "name": "ipython",
    "version": 3
   },
   "file_extension": ".py",
   "mimetype": "text/x-python",
   "name": "python",
   "nbconvert_exporter": "python",
   "pygments_lexer": "ipython3",
   "version": "3.5.4rc1"
  }
 },
 "nbformat": 4,
 "nbformat_minor": 2
}
