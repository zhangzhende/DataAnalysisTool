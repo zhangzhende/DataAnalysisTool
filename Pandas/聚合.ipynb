{
 "cells": [
  {
   "cell_type": "code",
   "execution_count": null,
   "metadata": {},
   "outputs": [],
   "source": [
    "当有了滚动，扩展和ewm对象创建了以后，就有几种方法可以对数据执行聚合"
   ]
  },
  {
   "cell_type": "code",
   "execution_count": 1,
   "metadata": {},
   "outputs": [
    {
     "name": "stdout",
     "output_type": "stream",
     "text": [
      "                   A         B         C         D\n",
      "2019-01-01  0.562340  1.814550  0.391074  3.477442\n",
      "2019-01-02  0.188297  0.693812 -1.267150  0.822259\n",
      "2019-01-03 -1.780321  0.274891 -0.969148 -1.301653\n",
      "2019-01-04  0.848006  0.129290 -0.830427 -2.175697\n",
      "2019-01-05  1.030134 -2.359660  0.838836  0.821870\n",
      "2019-01-06 -0.638078  0.651995 -0.132176 -0.517264\n",
      "2019-01-07  0.322390 -1.025631  0.574967  1.136138\n",
      "2019-01-08 -0.739936  1.311503  0.489090  0.485557\n",
      "2019-01-09 -0.261899  1.672222  1.402339 -0.888828\n",
      "2019-01-10  1.991226 -1.048967  0.311868  0.023620\n",
      "=======================================\n",
      "Rolling [window=3,min_periods=1,center=False,axis=0]\n"
     ]
    }
   ],
   "source": [
    "import pandas as pd\n",
    "import numpy as np\n",
    "#造数\n",
    "df = pd.DataFrame(np.random.randn(10, 4),\n",
    "      index = pd.date_range('1/1/2019', periods=10),\n",
    "      columns = ['A', 'B', 'C', 'D'])\n",
    "\n",
    "print (df)\n",
    "print(\"=======================================\")\n",
    "r = df.rolling(window=3,min_periods=1)\n",
    "print (r)"
   ]
  },
  {
   "cell_type": "code",
   "execution_count": 2,
   "metadata": {},
   "outputs": [
    {
     "name": "stdout",
     "output_type": "stream",
     "text": [
      "                   A         B         C         D\n",
      "2019-01-01  0.562340  1.814550  0.391074  3.477442\n",
      "2019-01-02  0.750636  2.508363 -0.876076  4.299701\n",
      "2019-01-03 -1.029684  2.783253 -1.845224  2.998048\n",
      "2019-01-04 -0.744018  1.097993 -3.066725 -2.655091\n",
      "2019-01-05  0.097820 -1.955479 -0.960739 -2.655479\n",
      "2019-01-06  1.240062 -1.578375 -0.123767 -1.871091\n",
      "2019-01-07  0.714446 -2.733296  1.281626  1.440744\n",
      "2019-01-08 -1.055624  0.937867  0.931881  1.104431\n",
      "2019-01-09 -0.679445  1.958094  2.466396  0.732867\n",
      "2019-01-10  0.989391  1.934758  2.203297 -0.379651\n"
     ]
    }
   ],
   "source": [
    "# 在整个数据框上应用聚合\n",
    "r = df.rolling(window=3,min_periods=1)\n",
    "print (r.aggregate(np.sum))#3格求和，并滚动窗口"
   ]
  },
  {
   "cell_type": "code",
   "execution_count": 3,
   "metadata": {},
   "outputs": [
    {
     "name": "stdout",
     "output_type": "stream",
     "text": [
      "2019-01-01    0.562340\n",
      "2019-01-02    0.750636\n",
      "2019-01-03   -1.029684\n",
      "2019-01-04   -0.744018\n",
      "2019-01-05    0.097820\n",
      "2019-01-06    1.240062\n",
      "2019-01-07    0.714446\n",
      "2019-01-08   -1.055624\n",
      "2019-01-09   -0.679445\n",
      "2019-01-10    0.989391\n",
      "Freq: D, Name: A, dtype: float64\n"
     ]
    }
   ],
   "source": [
    "# 在数据框的单个列上应用聚合\n",
    "r = df.rolling(window=3,min_periods=1)\n",
    "print (r['A'].aggregate(np.sum))"
   ]
  },
  {
   "cell_type": "code",
   "execution_count": 4,
   "metadata": {},
   "outputs": [
    {
     "name": "stdout",
     "output_type": "stream",
     "text": [
      "                   A         B\n",
      "2019-01-01  0.562340  1.814550\n",
      "2019-01-02  0.750636  2.508363\n",
      "2019-01-03 -1.029684  2.783253\n",
      "2019-01-04 -0.744018  1.097993\n",
      "2019-01-05  0.097820 -1.955479\n",
      "2019-01-06  1.240062 -1.578375\n",
      "2019-01-07  0.714446 -2.733296\n",
      "2019-01-08 -1.055624  0.937867\n",
      "2019-01-09 -0.679445  1.958094\n",
      "2019-01-10  0.989391  1.934758\n"
     ]
    }
   ],
   "source": [
    "# 在DataFrame的多列上应用聚合\n",
    "r = df.rolling(window=3,min_periods=1)\n",
    "print (r[['A','B']].aggregate(np.sum))"
   ]
  },
  {
   "cell_type": "code",
   "execution_count": 5,
   "metadata": {},
   "outputs": [
    {
     "name": "stdout",
     "output_type": "stream",
     "text": [
      "                 sum      mean\n",
      "2019-01-01  0.562340  0.562340\n",
      "2019-01-02  0.750636  0.375318\n",
      "2019-01-03 -1.029684 -0.343228\n",
      "2019-01-04 -0.744018 -0.248006\n",
      "2019-01-05  0.097820  0.032607\n",
      "2019-01-06  1.240062  0.413354\n",
      "2019-01-07  0.714446  0.238149\n",
      "2019-01-08 -1.055624 -0.351875\n",
      "2019-01-09 -0.679445 -0.226482\n",
      "2019-01-10  0.989391  0.329797\n"
     ]
    }
   ],
   "source": [
    "# 在DataFrame的单个列上应用多个函数\n",
    "r = df.rolling(window=3,min_periods=1)\n",
    "print (r['A'].aggregate([np.sum,np.mean]))"
   ]
  },
  {
   "cell_type": "code",
   "execution_count": 6,
   "metadata": {},
   "outputs": [
    {
     "name": "stdout",
     "output_type": "stream",
     "text": [
      "                   A                   B          \n",
      "                 sum      mean       sum      mean\n",
      "2019-01-01  0.562340  0.562340  1.814550  1.814550\n",
      "2019-01-02  0.750636  0.375318  2.508363  1.254181\n",
      "2019-01-03 -1.029684 -0.343228  2.783253  0.927751\n",
      "2019-01-04 -0.744018 -0.248006  1.097993  0.365998\n",
      "2019-01-05  0.097820  0.032607 -1.955479 -0.651826\n",
      "2019-01-06  1.240062  0.413354 -1.578375 -0.526125\n",
      "2019-01-07  0.714446  0.238149 -2.733296 -0.911099\n",
      "2019-01-08 -1.055624 -0.351875  0.937867  0.312622\n",
      "2019-01-09 -0.679445 -0.226482  1.958094  0.652698\n",
      "2019-01-10  0.989391  0.329797  1.934758  0.644919\n"
     ]
    }
   ],
   "source": [
    "# 在DataFrame的多列上应用多个函数\n",
    "r = df.rolling(window=3,min_periods=1)\n",
    "print (r[['A','B']].aggregate([np.sum,np.mean]))"
   ]
  },
  {
   "cell_type": "code",
   "execution_count": 7,
   "metadata": {},
   "outputs": [
    {
     "name": "stdout",
     "output_type": "stream",
     "text": [
      "                   A         B\n",
      "2019-01-01  0.562340  1.814550\n",
      "2019-01-02  0.750636  1.254181\n",
      "2019-01-03 -1.029684  0.927751\n",
      "2019-01-04 -0.744018  0.365998\n",
      "2019-01-05  0.097820 -0.651826\n",
      "2019-01-06  1.240062 -0.526125\n",
      "2019-01-07  0.714446 -0.911099\n",
      "2019-01-08 -1.055624  0.312622\n",
      "2019-01-09 -0.679445  0.652698\n",
      "2019-01-10  0.989391  0.644919\n"
     ]
    }
   ],
   "source": [
    "# 将不同的函数应用于DataFrame的不同列\n",
    "r = df.rolling(window=3,min_periods=1)\n",
    "print (r.aggregate({'A' : np.sum,'B' : np.mean}))"
   ]
  },
  {
   "cell_type": "code",
   "execution_count": null,
   "metadata": {},
   "outputs": [],
   "source": []
  },
  {
   "cell_type": "code",
   "execution_count": null,
   "metadata": {},
   "outputs": [],
   "source": []
  },
  {
   "cell_type": "code",
   "execution_count": null,
   "metadata": {},
   "outputs": [],
   "source": []
  },
  {
   "cell_type": "code",
   "execution_count": null,
   "metadata": {},
   "outputs": [],
   "source": []
  },
  {
   "cell_type": "code",
   "execution_count": null,
   "metadata": {},
   "outputs": [],
   "source": []
  },
  {
   "cell_type": "code",
   "execution_count": null,
   "metadata": {},
   "outputs": [],
   "source": []
  },
  {
   "cell_type": "code",
   "execution_count": null,
   "metadata": {},
   "outputs": [],
   "source": []
  }
 ],
 "metadata": {
  "kernelspec": {
   "display_name": "Python 3",
   "language": "python",
   "name": "python3"
  },
  "language_info": {
   "codemirror_mode": {
    "name": "ipython",
    "version": 3
   },
   "file_extension": ".py",
   "mimetype": "text/x-python",
   "name": "python",
   "nbconvert_exporter": "python",
   "pygments_lexer": "ipython3",
   "version": "3.5.4rc1"
  }
 },
 "nbformat": 4,
 "nbformat_minor": 2
}
