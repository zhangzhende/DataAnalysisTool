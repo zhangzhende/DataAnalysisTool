{
 "cells": [
  {
   "cell_type": "code",
   "execution_count": null,
   "metadata": {},
   "outputs": [],
   "source": [
    "pct_change()函数\n",
    "系列，DatFrames和Panel都有pct_change()函数。此函数将每个元素与其前一个元素进行比较，并计算变化百分比"
   ]
  },
  {
   "cell_type": "code",
   "execution_count": 1,
   "metadata": {},
   "outputs": [
    {
     "name": "stdout",
     "output_type": "stream",
     "text": [
      "0    1\n",
      "1    2\n",
      "2    3\n",
      "3    4\n",
      "4    5\n",
      "5    4\n",
      "dtype: int64\n",
      "- - - - - - - - - - - - - - - - - - - - - - - - - - - - - - - - - - - - - - - - \n",
      "0         NaN\n",
      "1    1.000000\n",
      "2    0.500000\n",
      "3    0.333333\n",
      "4    0.250000\n",
      "5   -0.200000\n",
      "dtype: float64\n",
      "= = = = = = = = = = = = = = = = = = = = = = = = = = = = = = = = = = = = = = = = \n",
      "          0         1\n",
      "0  0.300129  0.725076\n",
      "1 -0.703129 -0.551116\n",
      "2  1.767934 -1.255726\n",
      "3  1.417106  0.824423\n",
      "4  0.269065 -0.127286\n",
      "- - - - - - - - - - - - - - - - - - - - - - - - - - - - - - - - - - - - - - - - \n",
      "          0         1\n",
      "0       NaN       NaN\n",
      "1 -3.342757 -1.760081\n",
      "2 -3.514383  1.278514\n",
      "3 -0.198440 -1.656531\n",
      "4 -0.810130 -1.154395\n"
     ]
    }
   ],
   "source": [
    "import pandas as pd\n",
    "import numpy as np\n",
    "s = pd.Series([1,2,3,4,5,4])\n",
    "print (s)\n",
    "print (\"- - \"*20)\n",
    "print (s.pct_change())\n",
    "\n",
    "print (\"= = \"*20)\n",
    "df = pd.DataFrame(np.random.randn(5, 2))\n",
    "print (df)\n",
    "print (\"- - \"*20)\n",
    "print (df.pct_change())"
   ]
  },
  {
   "cell_type": "code",
   "execution_count": null,
   "metadata": {},
   "outputs": [],
   "source": [
    "协方差\n",
    "协方差适用于系列数据。Series对象有一个方法cov用来计算序列对象之间的协方差。NA将被自动排除"
   ]
  },
  {
   "cell_type": "code",
   "execution_count": 2,
   "metadata": {},
   "outputs": [
    {
     "name": "stdout",
     "output_type": "stream",
     "text": [
      "0.19597121289877967\n"
     ]
    }
   ],
   "source": [
    "# Cov系列示例 E[(X-E(X))(Y-E(Y))]=E(XY)-E(X)E(Y)\n",
    "\n",
    "s1 = pd.Series(np.random.randn(10))\n",
    "s2 = pd.Series(np.random.randn(10))\n",
    "print (s1.cov(s2))"
   ]
  },
  {
   "cell_type": "code",
   "execution_count": 3,
   "metadata": {},
   "outputs": [
    {
     "name": "stdout",
     "output_type": "stream",
     "text": [
      "0.5926037411225605\n",
      "          a         b         c         d         e\n",
      "a  0.817276  0.592604 -0.072607  0.036502  0.145125\n",
      "b  0.592604  1.950587 -0.129284  0.410303  0.217880\n",
      "c -0.072607 -0.129284  0.493779 -0.080498 -0.352270\n",
      "d  0.036502  0.410303 -0.080498  0.611198 -0.138175\n",
      "e  0.145125  0.217880 -0.352270 -0.138175  1.106734\n"
     ]
    }
   ],
   "source": [
    "# 当应用于DataFrame时，协方差方法计算所有列之间的协方差(cov)值\n",
    "frame = pd.DataFrame(np.random.randn(10, 5), columns=['a', 'b', 'c', 'd', 'e'])\n",
    "print (frame['a'].cov(frame['b']))\n",
    "print (frame.cov())"
   ]
  },
  {
   "cell_type": "code",
   "execution_count": null,
   "metadata": {},
   "outputs": [],
   "source": [
    "相关性\n",
    "相关性显示了任何两个数值(系列)之间的线性关系。\n",
    "有多种方法来计算\n",
    "https://blog.csdn.net/sinat_24143931/article/details/78798630\n",
    "pearson(默认)，皮尔森相关系数，皮尔森相关性系数(ρX,Y)等于它们之间的协方差cov(X,Y)除以它们各自标准差的乘积(σX, σY)\n",
    "spearman，斯皮尔曼相关性系数\n",
    "kendall ，肯德尔相关性系数\n"
   ]
  },
  {
   "cell_type": "code",
   "execution_count": 4,
   "metadata": {},
   "outputs": [
    {
     "name": "stdout",
     "output_type": "stream",
     "text": [
      "-0.011808044358580894\n",
      "          a         b         c         d         e\n",
      "a  1.000000 -0.011808 -0.349250 -0.212939 -0.523712\n",
      "b -0.011808  1.000000 -0.514592  0.075049 -0.166750\n",
      "c -0.349250 -0.514592  1.000000 -0.040862  0.081849\n",
      "d -0.212939  0.075049 -0.040862  1.000000  0.052491\n",
      "e -0.523712 -0.166750  0.081849  0.052491  1.000000\n"
     ]
    }
   ],
   "source": [
    "# 皮尔森相关系数（默认）\n",
    "frame = pd.DataFrame(np.random.randn(10, 5), columns=['a', 'b', 'c', 'd', 'e'])\n",
    "print (frame['a'].corr(frame['b']))\n",
    "print (frame.corr())"
   ]
  },
  {
   "cell_type": "code",
   "execution_count": null,
   "metadata": {},
   "outputs": [],
   "source": [
    "数据排名\n",
    "数据排名为元素数组中的每个元素生成排名。在关系的情况下，分配平均等级"
   ]
  },
  {
   "cell_type": "code",
   "execution_count": 7,
   "metadata": {},
   "outputs": [
    {
     "name": "stdout",
     "output_type": "stream",
     "text": [
      "a   -0.038051\n",
      "b    0.296198\n",
      "c   -0.148049\n",
      "d   -1.675388\n",
      "e    0.951462\n",
      "dtype: float64\n",
      "a    2.0\n",
      "b    3.5\n",
      "c    1.0\n",
      "d    3.5\n",
      "e    5.0\n",
      "dtype: float64\n"
     ]
    }
   ],
   "source": [
    "s = pd.Series(np.random.randn(5), index=list('abcde'))\n",
    "print(s)\n",
    "s['d'] = s['b'] # so there's a tie\n",
    "print (s.rank())"
   ]
  },
  {
   "cell_type": "code",
   "execution_count": null,
   "metadata": {},
   "outputs": [],
   "source": [
    "Rank可选地使用一个默认为true的升序参数; 当false时，数据被反向排序，也就是较大的值被分配较小的排序。\n",
    "Rank支持不同的tie-breaking方法，用方法参数指定 \n",
    "-average - 并列组平均排序等级\n",
    "min - 组中最低的排序等级\n",
    "max - 组中最高的排序等级\n",
    "first - 按照它们出现在数组中的顺序分配队列"
   ]
  },
  {
   "cell_type": "code",
   "execution_count": null,
   "metadata": {},
   "outputs": [],
   "source": []
  },
  {
   "cell_type": "code",
   "execution_count": null,
   "metadata": {},
   "outputs": [],
   "source": []
  },
  {
   "cell_type": "code",
   "execution_count": null,
   "metadata": {},
   "outputs": [],
   "source": []
  },
  {
   "cell_type": "code",
   "execution_count": null,
   "metadata": {},
   "outputs": [],
   "source": []
  },
  {
   "cell_type": "code",
   "execution_count": null,
   "metadata": {},
   "outputs": [],
   "source": []
  },
  {
   "cell_type": "code",
   "execution_count": null,
   "metadata": {},
   "outputs": [],
   "source": []
  },
  {
   "cell_type": "code",
   "execution_count": null,
   "metadata": {},
   "outputs": [],
   "source": []
  },
  {
   "cell_type": "code",
   "execution_count": null,
   "metadata": {},
   "outputs": [],
   "source": []
  },
  {
   "cell_type": "code",
   "execution_count": null,
   "metadata": {},
   "outputs": [],
   "source": []
  },
  {
   "cell_type": "code",
   "execution_count": null,
   "metadata": {},
   "outputs": [],
   "source": []
  },
  {
   "cell_type": "code",
   "execution_count": null,
   "metadata": {},
   "outputs": [],
   "source": []
  },
  {
   "cell_type": "code",
   "execution_count": null,
   "metadata": {},
   "outputs": [],
   "source": []
  },
  {
   "cell_type": "code",
   "execution_count": null,
   "metadata": {},
   "outputs": [],
   "source": []
  },
  {
   "cell_type": "code",
   "execution_count": null,
   "metadata": {},
   "outputs": [],
   "source": []
  }
 ],
 "metadata": {
  "kernelspec": {
   "display_name": "Python 3",
   "language": "python",
   "name": "python3"
  },
  "language_info": {
   "codemirror_mode": {
    "name": "ipython",
    "version": 3
   },
   "file_extension": ".py",
   "mimetype": "text/x-python",
   "name": "python",
   "nbconvert_exporter": "python",
   "pygments_lexer": "ipython3",
   "version": "3.5.4rc1"
  }
 },
 "nbformat": 4,
 "nbformat_minor": 2
}
