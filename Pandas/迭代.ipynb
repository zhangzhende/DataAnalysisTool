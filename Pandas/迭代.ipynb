{
 "cells": [
  {
   "cell_type": "code",
   "execution_count": null,
   "metadata": {},
   "outputs": [],
   "source": [
    "Pandas对象之间的基本迭代的行为取决于类型。当迭代一个系列时，它被视为数组式，基本迭代产生这些值。\n",
    "其他数据结构，如：DataFrame和Panel，遵循类似惯例迭代对象的键。\n",
    "简而言之，基本迭代(对于i在对象中)产生 \n",
    "-Series - 值\n",
    "DataFrame - 列标签\n",
    "Pannel - 项目标签"
   ]
  },
  {
   "cell_type": "code",
   "execution_count": 1,
   "metadata": {},
   "outputs": [
    {
     "name": "stdout",
     "output_type": "stream",
     "text": [
      "A\n",
      "C\n",
      "D\n",
      "x\n",
      "y\n"
     ]
    }
   ],
   "source": [
    "# 迭代DataFrame\n",
    "# 迭代DataFrame提供列名\n",
    "\n",
    "import pandas as pd\n",
    "import numpy as np\n",
    "\n",
    "N=20\n",
    "df = pd.DataFrame({\n",
    "    'A': pd.date_range(start='2016-01-01',periods=N,freq='D'),\n",
    "    'x': np.linspace(0,stop=N-1,num=N),\n",
    "    'y': np.random.rand(N),\n",
    "    'C': np.random.choice(['Low','Medium','High'],N).tolist(),\n",
    "    'D': np.random.normal(100, 10, size=(N)).tolist()\n",
    "    })\n",
    "for col in df:\n",
    "   print (col)"
   ]
  },
  {
   "cell_type": "code",
   "execution_count": null,
   "metadata": {},
   "outputs": [],
   "source": [
    "要遍历数据帧(DataFrame)中的行，可以使用以下函数 \n",
    "-iteritems() - 迭代(key，value)对\n",
    "iterrows() - 将行迭代为(索引，系列)对\n",
    "itertuples() - 以namedtuples的形式迭代行"
   ]
  },
  {
   "cell_type": "code",
   "execution_count": 2,
   "metadata": {},
   "outputs": [
    {
     "name": "stdout",
     "output_type": "stream",
     "text": [
      "col1 0   -0.674228\n",
      "1   -0.689093\n",
      "2   -0.692102\n",
      "3    0.725333\n",
      "Name: col1, dtype: float64\n",
      "col2 0    1.469080\n",
      "1    0.825243\n",
      "2    1.016573\n",
      "3   -2.677256\n",
      "Name: col2, dtype: float64\n",
      "col3 0   -2.433107\n",
      "1    0.663770\n",
      "2   -0.398667\n",
      "3    0.404864\n",
      "Name: col3, dtype: float64\n"
     ]
    }
   ],
   "source": [
    "# 单独迭代每个列作为系列中的键值对\n",
    "# iteritems()示例将每个列作为键，列值迭代为Series对象\n",
    "df = pd.DataFrame(np.random.randn(4,3),columns=['col1','col2','col3'])\n",
    "for key,value in df.iteritems():\n",
    "   print(key,value)"
   ]
  },
  {
   "cell_type": "code",
   "execution_count": 3,
   "metadata": {},
   "outputs": [
    {
     "name": "stdout",
     "output_type": "stream",
     "text": [
      "0 col1    0.449279\n",
      "col2   -0.499450\n",
      "col3    0.698757\n",
      "Name: 0, dtype: float64\n",
      "1 col1    0.197101\n",
      "col2    0.358917\n",
      "col3   -0.624421\n",
      "Name: 1, dtype: float64\n",
      "2 col1    0.658998\n",
      "col2   -0.953178\n",
      "col3    0.210710\n",
      "Name: 2, dtype: float64\n",
      "3 col1    0.943549\n",
      "col2    0.121796\n",
      "col3    0.579267\n",
      "Name: 3, dtype: float64\n"
     ]
    }
   ],
   "source": [
    "# iterrows()示例\n",
    "# iterrows()返回迭代器，产生每个索引值以及包含每行数据的序列，行索引为key，行数据为value\n",
    "df = pd.DataFrame(np.random.randn(4,3),columns = ['col1','col2','col3'])\n",
    "for row_index,row in df.iterrows():\n",
    "   print (row_index,row)"
   ]
  },
  {
   "cell_type": "code",
   "execution_count": 4,
   "metadata": {},
   "outputs": [
    {
     "name": "stdout",
     "output_type": "stream",
     "text": [
      "Pandas(Index=0, col1=-0.4157112585632035, col2=0.4068930326207375, col3=-0.09450423724717129)\n",
      "Pandas(Index=1, col1=-0.14573065782671513, col2=0.7324778965064704, col3=-0.8651520950868062)\n",
      "Pandas(Index=2, col1=0.912112421185598, col2=-1.4599440867285958, col3=-1.324568925771006)\n",
      "Pandas(Index=3, col1=0.30099876200348685, col2=0.6224608450978246, col3=-0.130762942031719)\n"
     ]
    }
   ],
   "source": [
    "# itertuples()示例\n",
    "df = pd.DataFrame(np.random.randn(4,3),columns = ['col1','col2','col3'])\n",
    "for row in df.itertuples():\n",
    "    print (row)\n",
    "# 注意 - 不要尝试在迭代时修改任何对象。迭代是用于读取，迭代器返回原始对象(视图)的副本，因此更改将不会反映在原始对象上"
   ]
  },
  {
   "cell_type": "code",
   "execution_count": null,
   "metadata": {},
   "outputs": [],
   "source": []
  },
  {
   "cell_type": "code",
   "execution_count": null,
   "metadata": {},
   "outputs": [],
   "source": []
  },
  {
   "cell_type": "code",
   "execution_count": null,
   "metadata": {},
   "outputs": [],
   "source": []
  },
  {
   "cell_type": "code",
   "execution_count": null,
   "metadata": {},
   "outputs": [],
   "source": []
  },
  {
   "cell_type": "code",
   "execution_count": null,
   "metadata": {},
   "outputs": [],
   "source": []
  }
 ],
 "metadata": {
  "kernelspec": {
   "display_name": "Python 3",
   "language": "python",
   "name": "python3"
  },
  "language_info": {
   "codemirror_mode": {
    "name": "ipython",
    "version": 3
   },
   "file_extension": ".py",
   "mimetype": "text/x-python",
   "name": "python",
   "nbconvert_exporter": "python",
   "pygments_lexer": "ipython3",
   "version": "3.5.4rc1"
  }
 },
 "nbformat": 4,
 "nbformat_minor": 2
}
