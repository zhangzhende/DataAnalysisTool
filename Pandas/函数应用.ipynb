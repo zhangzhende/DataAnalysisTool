{
 "cells": [
  {
   "cell_type": "code",
   "execution_count": null,
   "metadata": {},
   "outputs": [],
   "source": [
    "要将自定义或其他库的函数应用于Pandas对象，有三个重要的方法，下面来讨论如何使用这些方法。\n",
    "使用适当的方法取决于函数是否期望在整个DataFrame，行或列或元素上进行操作。\n",
    "传入函数处理后返回数据\n",
    "表合理函数应用：pipe()\n",
    "行或列函数应用：apply()\n",
    "元素函数应用：applymap()"
   ]
  },
  {
   "cell_type": "code",
   "execution_count": 1,
   "metadata": {},
   "outputs": [],
   "source": [
    "# 可以通过将函数和适当数量的参数作为管道参数来执行自定义操作。 因此，对整个DataFrame执行操作。例如，为DataFrame中的所有元素相加一个值2。\n",
    "# adder 函数adder函数将两个数值作为参数相加并返回总和\n",
    "\n",
    "def adder(ele1,ele2):\n",
    "    return ele1+ele2"
   ]
  },
  {
   "cell_type": "code",
   "execution_count": 3,
   "metadata": {},
   "outputs": [
    {
     "name": "stdout",
     "output_type": "stream",
     "text": [
      "[[-0.88521742  0.49028872 -1.73064895]\n",
      " [-0.11750282 -1.10440407  0.31324162]\n",
      " [ 0.53784698  0.90655147 -0.47676151]\n",
      " [ 2.07698141  0.19253091 -1.72025064]\n",
      " [ 0.03781816  0.12695403  0.70172131]]\n",
      "----------------------------------------\n",
      "       col1      col2      col3\n",
      "0  1.114783  2.490289  0.269351\n",
      "1  1.882497  0.895596  2.313242\n",
      "2  2.537847  2.906551  1.523238\n",
      "3  4.076981  2.192531  0.279749\n",
      "4  2.037818  2.126954  2.701721\n"
     ]
    }
   ],
   "source": [
    "import pandas as pd\n",
    "import numpy as np\n",
    "\n",
    "data=np.random.randn(5,3)\n",
    "print(data)\n",
    "df = pd.DataFrame(data,columns=['col1','col2','col3'])\n",
    "df2=df.pipe(adder,2)\n",
    "print(\"--\"*20)\n",
    "print (df2)"
   ]
  },
  {
   "cell_type": "code",
   "execution_count": 6,
   "metadata": {},
   "outputs": [
    {
     "name": "stdout",
     "output_type": "stream",
     "text": [
      "       col1      col2      col3\n",
      "0 -0.396028  0.682507 -1.323349\n",
      "1  1.207071  2.145393 -0.107642\n",
      "2  0.016730  1.741586  0.084807\n",
      "3 -0.202657  0.048548  2.242552\n",
      "4  1.624050  0.557457 -0.406287\n",
      "----------------------------------------\n",
      "col1    0.449833\n",
      "col2    1.035098\n",
      "col3    0.098016\n",
      "dtype: float64\n"
     ]
    }
   ],
   "source": [
    "# 行或列合理函数应用\n",
    "# 可以使用apply()方法沿DataFrame或Panel的轴应用任意函数，它与描述性统计方法一样，采用可选的axis参数。 默认情况下，操作按列执行，将每列列为数组\n",
    "data=np.random.randn(5,3)\n",
    "df = pd.DataFrame(data,columns=['col1','col2','col3'])\n",
    "print(df)\n",
    "df2=df.apply(np.mean)\n",
    "print(\"--\"*20)\n",
    "print (df2)"
   ]
  },
  {
   "cell_type": "code",
   "execution_count": 9,
   "metadata": {},
   "outputs": [
    {
     "name": "stdout",
     "output_type": "stream",
     "text": [
      "       col1      col2      col3\n",
      "0 -1.001014 -0.663454 -0.594659\n",
      "1 -0.731854 -0.816772 -0.299864\n",
      "2  1.266118  0.152142  1.654420\n",
      "3 -0.150445  0.438168 -0.041052\n",
      "4  0.714969  0.802632 -1.196776\n",
      "----------------------------------------\n",
      "0   -0.753043\n",
      "1   -0.616164\n",
      "2    1.024227\n",
      "3    0.082224\n",
      "4    0.106941\n",
      "dtype: float64\n"
     ]
    }
   ],
   "source": [
    "# 通过传递axis参数，可以在行上执行操作,axis=0标识列，axis=1标识行，所以默认axis=0标识列\n",
    "data=np.random.randn(5,3)\n",
    "df = pd.DataFrame(data,columns=['col1','col2','col3'])\n",
    "print(df)\n",
    "df2=df.apply(np.mean,axis=1)\n",
    "print(\"--\"*20)\n",
    "print (df2)"
   ]
  },
  {
   "cell_type": "code",
   "execution_count": 10,
   "metadata": {},
   "outputs": [
    {
     "name": "stdout",
     "output_type": "stream",
     "text": [
      "       col1      col2      col3\n",
      "0  1.357382  0.885026 -2.191586\n",
      "1 -0.617792 -1.735068  0.441471\n",
      "2  0.668986  0.778220 -0.590537\n",
      "3  1.125607  1.411040 -0.460517\n",
      "4 -0.054461  0.738104  0.182680\n",
      "----------------------------------------\n",
      "col1    1.975174\n",
      "col2    3.146108\n",
      "col3    2.633057\n",
      "dtype: float64\n"
     ]
    }
   ],
   "source": [
    "# lambda 隐函数\n",
    "data=np.random.randn(5,3)\n",
    "df = pd.DataFrame(data,columns=['col1','col2','col3'])\n",
    "print(df)\n",
    "df2=df.apply(lambda x: x.max() - x.min())\n",
    "print(\"--\"*20)\n",
    "print (df2)"
   ]
  },
  {
   "cell_type": "code",
   "execution_count": 11,
   "metadata": {},
   "outputs": [
    {
     "name": "stdout",
     "output_type": "stream",
     "text": [
      "       col1      col2      col3\n",
      "0  1.545851 -0.493677 -1.312202\n",
      "1  0.548773  1.273381 -1.830074\n",
      "2 -0.371057  0.679567 -0.755208\n",
      "3 -1.775825 -0.104072 -0.053875\n",
      "4 -0.188482 -0.424229  0.911531\n",
      "----------------------------------------\n",
      "0    2.858053\n",
      "1    3.103455\n",
      "2    1.434775\n",
      "3    1.721950\n",
      "4    1.335760\n",
      "dtype: float64\n"
     ]
    }
   ],
   "source": [
    "# lambda 隐函数,按照行来\n",
    "data=np.random.randn(5,3)\n",
    "df = pd.DataFrame(data,columns=['col1','col2','col3'])\n",
    "print(df)\n",
    "df2=df.apply(lambda x: x.max() - x.min(),axis=1)\n",
    "print(\"--\"*20)\n",
    "print (df2)"
   ]
  },
  {
   "cell_type": "code",
   "execution_count": 12,
   "metadata": {},
   "outputs": [
    {
     "name": "stdout",
     "output_type": "stream",
     "text": [
      "       col1      col2      col3\n",
      "0 -0.838294  0.338567  0.342483\n",
      "1  1.736157  0.449844  0.667342\n",
      "2 -0.739330 -1.236561  0.293641\n",
      "3  0.988290  1.560681 -1.513793\n",
      "4  1.563385  0.098136 -1.113449\n",
      "----------------------------------------\n",
      "0    -83.829407\n",
      "1    173.615702\n",
      "2    -73.932966\n",
      "3     98.829048\n",
      "4    156.338450\n",
      "Name: col1, dtype: float64\n"
     ]
    }
   ],
   "source": [
    "# 元素合理函数应用\n",
    "\n",
    "# 并不是所有的函数都可以向量化(也不是返回另一个数组的NumPy数组，也不是任何值)，\n",
    "# 在DataFrame上的方法applymap()和类似于在Series上的map()接受任何Python函数，并且返回单个值\n",
    "#\n",
    "#Series上的map()\n",
    "data=np.random.randn(5,3)\n",
    "df = pd.DataFrame(data,columns=['col1','col2','col3'])\n",
    "print(df)\n",
    "df2=df['col1'].map(lambda x:x*100)\n",
    "print(\"--\"*20)\n",
    "print (df2)\n"
   ]
  },
  {
   "cell_type": "code",
   "execution_count": 13,
   "metadata": {},
   "outputs": [
    {
     "name": "stdout",
     "output_type": "stream",
     "text": [
      "       col1      col2      col3\n",
      "0 -0.362698 -0.815205 -0.398869\n",
      "1 -0.456235  1.848873  1.521743\n",
      "2  0.576829  1.144775 -0.927329\n",
      "3 -1.294185 -0.772501  1.622700\n",
      "4  0.748238 -1.121951  1.252740\n",
      "         col1        col2        col3\n",
      "0  -36.269831  -81.520496  -39.886880\n",
      "1  -45.623506  184.887344  152.174334\n",
      "2   57.682861  114.477536  -92.732858\n",
      "3 -129.418472  -77.250112  162.269992\n",
      "4   74.823773 -112.195130  125.273996\n"
     ]
    }
   ],
   "source": [
    "#applymap\n",
    "data=np.random.randn(5,3)\n",
    "df = pd.DataFrame(data,columns=['col1','col2','col3'])\n",
    "print(df)\n",
    "df2=df.applymap(lambda x:x*100)\n",
    "print (df2)"
   ]
  },
  {
   "cell_type": "code",
   "execution_count": null,
   "metadata": {},
   "outputs": [],
   "source": []
  }
 ],
 "metadata": {
  "kernelspec": {
   "display_name": "Python 3",
   "language": "python",
   "name": "python3"
  },
  "language_info": {
   "codemirror_mode": {
    "name": "ipython",
    "version": 3
   },
   "file_extension": ".py",
   "mimetype": "text/x-python",
   "name": "python",
   "nbconvert_exporter": "python",
   "pygments_lexer": "ipython3",
   "version": "3.5.4rc1"
  }
 },
 "nbformat": 4,
 "nbformat_minor": 2
}
