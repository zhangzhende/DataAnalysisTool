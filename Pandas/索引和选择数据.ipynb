{
 "cells": [
  {
   "cell_type": "code",
   "execution_count": null,
   "metadata": {},
   "outputs": [],
   "source": [
    "Pandas现在支持三种类型的多轴索引; 这三种类型在下表中提到\n",
    "1\t.loc()\t基于标签\n",
    "2\t.iloc()\t基于整数\n",
    "3\t.ix()\t基于标签和整数"
   ]
  },
  {
   "cell_type": "code",
   "execution_count": null,
   "metadata": {},
   "outputs": [],
   "source": [
    ".loc()\n",
    "Pandas提供了各种方法来完成基于标签的索引。 \n",
    "切片时，也包括起始边界。整数是有效的标签，但它们是指标签而不是位置。\n",
    ".loc()具有多种访问方式，如 -\n",
    "单个标量标签\n",
    "标签列表\n",
    "切片对象\n",
    "一个布尔数组\n",
    "loc需要两个单/列表/范围运算符，用\",\"分隔。第一个表示行，第二个表示列"
   ]
  },
  {
   "cell_type": "code",
   "execution_count": 1,
   "metadata": {},
   "outputs": [
    {
     "name": "stdout",
     "output_type": "stream",
     "text": [
      "a   -0.959055\n",
      "b   -0.914118\n",
      "c   -0.413916\n",
      "d   -0.538164\n",
      "e   -0.674414\n",
      "f    0.295386\n",
      "g    1.160489\n",
      "h    0.262770\n",
      "Name: A, dtype: float64\n"
     ]
    }
   ],
   "source": [
    "import pandas as pd\n",
    "import numpy as np\n",
    "\n",
    "df = pd.DataFrame(np.random.randn(8, 4),index = ['a','b','c','d','e','f','g','h'], columns = ['A', 'B', 'C', 'D'])\n",
    "#select all rows for a specific column\n",
    "print (df.loc[:,'A'])#第一个是行，第二个是列，这里表示行全选，列选A"
   ]
  },
  {
   "cell_type": "code",
   "execution_count": 2,
   "metadata": {},
   "outputs": [
    {
     "name": "stdout",
     "output_type": "stream",
     "text": [
      "          A         C\n",
      "a -1.061814 -0.200882\n",
      "b  0.370024 -0.993596\n",
      "c -0.794705  0.158808\n",
      "d -0.914362  1.070520\n",
      "e  0.339793  0.034569\n",
      "f  0.577941 -0.350181\n",
      "g -1.901468 -1.316223\n",
      "h  0.334689  0.413091\n"
     ]
    }
   ],
   "source": [
    "#选两列\n",
    "df = pd.DataFrame(np.random.randn(8, 4),\n",
    "index = ['a','b','c','d','e','f','g','h'], columns = ['A', 'B', 'C', 'D'])\n",
    "# Select all rows for multiple columns, say list[]\n",
    "print (df.loc[:,['A','C']])"
   ]
  },
  {
   "cell_type": "code",
   "execution_count": 3,
   "metadata": {},
   "outputs": [
    {
     "name": "stdout",
     "output_type": "stream",
     "text": [
      "          A         C\n",
      "a -1.060725 -0.724403\n",
      "b  0.615388  0.352651\n",
      "f -0.906624  0.042035\n",
      "h  0.462221 -1.587617\n",
      "          A         C\n",
      "a -1.060725 -0.724403\n",
      "b  0.615388  0.352651\n",
      "c  1.210129  1.317061\n",
      "d -0.301622  0.735726\n",
      "e -1.699164  0.903502\n",
      "f -0.906624  0.042035\n",
      "g -1.115572 -0.678887\n",
      "h  0.462221 -1.587617\n"
     ]
    }
   ],
   "source": [
    "#行选择部分，列选择部分\n",
    "df = pd.DataFrame(np.random.randn(8, 4),\n",
    "index = ['a','b','c','d','e','f','g','h'], columns = ['A', 'B', 'C', 'D'])\n",
    "# Select few rows for multiple columns, say list[]\n",
    "print (df.loc[['a','b','f','h'],['A','C']])\n",
    "# Select all rows for multiple columns, say list[]\n",
    "print (df.loc[:,['A','C']])"
   ]
  },
  {
   "cell_type": "code",
   "execution_count": 4,
   "metadata": {},
   "outputs": [
    {
     "name": "stdout",
     "output_type": "stream",
     "text": [
      "          A         B         C         D\n",
      "a  0.375174  0.248012 -0.754768 -1.225489\n",
      "b  0.230165  0.294888 -0.614589  0.044941\n",
      "c -0.765520  0.743635 -1.255705 -1.350143\n",
      "d -0.973589  0.224452 -1.669258  0.980170\n",
      "e  0.597777  0.229937 -2.469487  0.909325\n",
      "f  0.088471  0.750394 -1.456415  0.518565\n",
      "g  0.653714  0.917205  0.866188  1.612476\n",
      "h -1.526983 -1.323940  0.193278 -2.358223\n"
     ]
    }
   ],
   "source": [
    "#列全选，行选择部分，:表示a到h\n",
    "df = pd.DataFrame(np.random.randn(8, 4),\n",
    "index = ['a','b','c','d','e','f','g','h'], columns = ['A', 'B', 'C', 'D'])\n",
    "# Select range of rows for all columns\n",
    "print (df.loc['a':'h'])"
   ]
  },
  {
   "cell_type": "code",
   "execution_count": 5,
   "metadata": {},
   "outputs": [
    {
     "name": "stdout",
     "output_type": "stream",
     "text": [
      "          A         B         C         D\n",
      "a  0.785094  0.218601  0.986924  0.541946\n",
      "b  0.148320  0.359010  1.538581  0.051305\n",
      "c -0.697187 -0.623252 -1.360215 -0.705421\n",
      "d -1.736142 -1.186108  0.814499  0.759108\n",
      "e  0.207655 -1.446009  0.353477  0.689418\n",
      "f  0.134425  0.275920 -0.749245  0.195801\n",
      "g  0.612344  0.670750 -1.364428 -0.185835\n",
      "h  0.490232  0.714309  1.136457  0.989146\n",
      "A    True\n",
      "B    True\n",
      "C    True\n",
      "D    True\n",
      "Name: a, dtype: bool\n"
     ]
    }
   ],
   "source": [
    "# 带判断，返回布尔\n",
    "df = pd.DataFrame(np.random.randn(8, 4),\n",
    "index = ['a','b','c','d','e','f','g','h'], columns = ['A', 'B', 'C', 'D'])\n",
    "print(df)\n",
    "# for getting values with a boolean array\n",
    "print (df.loc['a']>0)#判断a行中数据是、否大于0"
   ]
  },
  {
   "cell_type": "code",
   "execution_count": null,
   "metadata": {},
   "outputs": [],
   "source": [
    ".iloc() ，可以理解为按照下标来获取，注意跟index和column的区别\n",
    "各种访问方式如下 \n",
    "-整数\n",
    "整数列表\n",
    "系列值"
   ]
  },
  {
   "cell_type": "code",
   "execution_count": 7,
   "metadata": {},
   "outputs": [
    {
     "name": "stdout",
     "output_type": "stream",
     "text": [
      "          A         B         C         D\n",
      "a  0.044734  0.405307 -1.198522 -0.274997\n",
      "b -0.263117 -1.909874  1.183358  0.929606\n",
      "c  1.448445 -0.349302  0.796660 -1.036758\n",
      "d  0.939048  1.362322 -0.466028  0.823142\n",
      "          C         D\n",
      "b  1.183358  0.929606\n",
      "c  0.796660 -1.036758\n",
      "d -0.466028  0.823142\n",
      "e  0.768429 -0.240659\n"
     ]
    }
   ],
   "source": [
    "df = pd.DataFrame(np.random.randn(8, 4), index = ['a','b','c','d','e','f','g','h'],columns = ['A', 'B', 'C', 'D'])\n",
    "\n",
    "# Integer slicing\n",
    "print (df.iloc[:4])\n",
    "print (df.iloc[1:5, 2:4])"
   ]
  },
  {
   "cell_type": "code",
   "execution_count": 8,
   "metadata": {},
   "outputs": [
    {
     "name": "stdout",
     "output_type": "stream",
     "text": [
      "          B         D\n",
      "b  0.130099  0.180441\n",
      "d  0.654091 -1.685451\n",
      "f  1.716282  0.189785\n",
      "          A         B         C         D\n",
      "b -0.221637  0.130099  0.557028  0.180441\n",
      "c -0.370626 -1.107598  0.733034  1.271430\n",
      "          B         C\n",
      "a -0.663108  0.543284\n",
      "b  0.130099  0.557028\n",
      "c -1.107598  0.733034\n",
      "d  0.654091  0.803026\n",
      "e  0.120889  1.470512\n",
      "f  1.716282 -0.308721\n",
      "g -1.057796 -0.140165\n",
      "h  0.325595  0.905734\n"
     ]
    }
   ],
   "source": [
    "df = pd.DataFrame(np.random.randn(8, 4), index = ['a','b','c','d','e','f','g','h'],columns = ['A', 'B', 'C', 'D'])\n",
    "\n",
    "# Slicing through list of values\n",
    "print (df.iloc[[1, 3, 5], [1, 3]])\n",
    "print (df.iloc[1:3, :])\n",
    "print (df.iloc[:,1:3])"
   ]
  },
  {
   "cell_type": "code",
   "execution_count": 9,
   "metadata": {},
   "outputs": [
    {
     "name": "stdout",
     "output_type": "stream",
     "text": [
      "          A         B         C         D\n",
      "a -0.557341 -0.014055  0.146176  2.908315\n",
      "b  0.575983 -1.515001 -2.541141  0.167851\n",
      "c  1.849543  0.833612  1.150906  0.030313\n",
      "d -0.436389 -0.056509 -2.280657 -0.179686\n"
     ]
    },
    {
     "name": "stderr",
     "output_type": "stream",
     "text": [
      "d:\\python3564\\lib\\site-packages\\ipykernel_launcher.py:6: DeprecationWarning: \n",
      ".ix is deprecated. Please use\n",
      ".loc for label based indexing or\n",
      ".iloc for positional indexing\n",
      "\n",
      "See the documentation here:\n",
      "http://pandas.pydata.org/pandas-docs/stable/indexing.html#ix-indexer-is-deprecated\n",
      "  \n"
     ]
    }
   ],
   "source": [
    "# .ix() deprecated\n",
    "# 除了基于纯标签和整数之外，Pandas还提供了一种使用.ix()运算符进行选择和子集化对象的混合方法\n",
    "\n",
    "df = pd.DataFrame(np.random.randn(8, 4), index = ['a','b','c','d','e','f','g','h'],columns = ['A', 'B', 'C', 'D'])\n",
    "# Integer slicing\n",
    "print (df.ix[:4])"
   ]
  },
  {
   "cell_type": "code",
   "execution_count": 10,
   "metadata": {},
   "outputs": [
    {
     "name": "stdout",
     "output_type": "stream",
     "text": [
      "a   -0.930412\n",
      "b    0.922797\n",
      "c    0.924287\n",
      "d    0.016624\n",
      "e   -0.534515\n",
      "f   -0.701064\n",
      "g   -0.580362\n",
      "h   -0.101359\n",
      "Name: A, dtype: float64\n"
     ]
    },
    {
     "name": "stderr",
     "output_type": "stream",
     "text": [
      "d:\\python3564\\lib\\site-packages\\ipykernel_launcher.py:3: DeprecationWarning: \n",
      ".ix is deprecated. Please use\n",
      ".loc for label based indexing or\n",
      ".iloc for positional indexing\n",
      "\n",
      "See the documentation here:\n",
      "http://pandas.pydata.org/pandas-docs/stable/indexing.html#ix-indexer-is-deprecated\n",
      "  This is separate from the ipykernel package so we can avoid doing imports until\n"
     ]
    }
   ],
   "source": [
    "df = pd.DataFrame(np.random.randn(8, 4), index = ['a','b','c','d','e','f','g','h'],columns = ['A', 'B', 'C', 'D'])\n",
    "# Index slicing\n",
    "print (df.ix[:,'A'])"
   ]
  },
  {
   "cell_type": "code",
   "execution_count": null,
   "metadata": {},
   "outputs": [],
   "source": [
    "使用符号\n",
    "使用多轴索引从Pandas对象获取值可使用以下符号 -\n",
    "对象\t索引\t描述\n",
    "Series\ts.loc[indexer]\t标量值\n",
    "DataFrame\tdf.loc[row_index,col_index]\t标量对象\n",
    "Panel\tp.loc[item_index,major_index, minor_index]\tp.loc[item_index,major_index, minor_index]"
   ]
  },
  {
   "cell_type": "code",
   "execution_count": 11,
   "metadata": {},
   "outputs": [
    {
     "name": "stdout",
     "output_type": "stream",
     "text": [
      "a   -1.997855\n",
      "b    0.652939\n",
      "c   -1.376996\n",
      "d    0.371094\n",
      "e    0.092023\n",
      "f    1.381647\n",
      "g    1.029501\n",
      "h    0.808718\n",
      "Name: A, dtype: float64\n"
     ]
    }
   ],
   "source": [
    "df = pd.DataFrame(np.random.randn(8, 4), index = ['a','b','c','d','e','f','g','h'],columns = ['A', 'B', 'C', 'D'])\n",
    "print (df['A'])"
   ]
  },
  {
   "cell_type": "code",
   "execution_count": 24,
   "metadata": {},
   "outputs": [
    {
     "name": "stdout",
     "output_type": "stream",
     "text": [
      "          A         B\n",
      "a -2.308127 -0.171215\n",
      "b  1.453635 -1.227069\n",
      "c  0.986535  1.415162\n",
      "d  2.649664 -0.439462\n",
      "e  0.266894 -0.138153\n",
      "f -1.099397  0.097608\n",
      "g  1.280351  0.005388\n",
      "h -0.510855 -0.877880\n"
     ]
    }
   ],
   "source": [
    "df = pd.DataFrame(np.random.randn(8, 4), index = ['a','b','c','d','e','f','g','h'],columns = ['A', 'B', 'C', 'D'])\n",
    "print (df[['A','B']])#列选择"
   ]
  },
  {
   "cell_type": "code",
   "execution_count": 25,
   "metadata": {},
   "outputs": [
    {
     "name": "stdout",
     "output_type": "stream",
     "text": [
      "Empty DataFrame\n",
      "Columns: [A, B, C, D]\n",
      "Index: []\n"
     ]
    }
   ],
   "source": [
    "df = pd.DataFrame(np.random.randn(8, 4), index = ['a','b','c','d','e','f','g','h'],columns = ['A', 'B', 'C', 'D'])\n",
    "print (df[2:2])"
   ]
  },
  {
   "cell_type": "code",
   "execution_count": 26,
   "metadata": {},
   "outputs": [
    {
     "name": "stdout",
     "output_type": "stream",
     "text": [
      "a   -0.998440\n",
      "b   -0.958403\n",
      "c    0.021143\n",
      "d    0.471925\n",
      "e    0.551972\n",
      "f   -0.376400\n",
      "g    0.826678\n",
      "h    0.522056\n",
      "Name: A, dtype: float64\n"
     ]
    }
   ],
   "source": [
    "# 属性访问\n",
    "# 可以使用属性运算符.来选择【列】\n",
    "\n",
    "df = pd.DataFrame(np.random.randn(8, 4), index = ['a','b','c','d','e','f','g','h'],columns = ['A', 'B', 'C', 'D'])\n",
    "print (df.A)"
   ]
  },
  {
   "cell_type": "code",
   "execution_count": null,
   "metadata": {},
   "outputs": [],
   "source": []
  }
 ],
 "metadata": {
  "kernelspec": {
   "display_name": "Python 3",
   "language": "python",
   "name": "python3"
  },
  "language_info": {
   "codemirror_mode": {
    "name": "ipython",
    "version": 3
   },
   "file_extension": ".py",
   "mimetype": "text/x-python",
   "name": "python",
   "nbconvert_exporter": "python",
   "pygments_lexer": "ipython3",
   "version": "3.5.4rc1"
  }
 },
 "nbformat": 4,
 "nbformat_minor": 2
}
