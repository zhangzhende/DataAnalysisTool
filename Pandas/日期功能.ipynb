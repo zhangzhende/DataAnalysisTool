{
 "cells": [
  {
   "cell_type": "code",
   "execution_count": null,
   "metadata": {},
   "outputs": [],
   "source": [
    "日期功能扩展了时间序列，在财务数据分析中起主要作用。在处理日期数据的同时，我们经常会遇到以下情况 \n",
    "生成日期序列\n",
    "将日期序列转换为不同的频率"
   ]
  },
  {
   "cell_type": "code",
   "execution_count": 1,
   "metadata": {},
   "outputs": [
    {
     "name": "stdout",
     "output_type": "stream",
     "text": [
      "DatetimeIndex(['2020-11-21', '2020-11-22', '2020-11-23', '2020-11-24',\n",
      "               '2020-11-25'],\n",
      "              dtype='datetime64[ns]', freq='D')\n"
     ]
    }
   ],
   "source": [
    "# 创建一个日期范围\n",
    "# 通过指定周期和频率，使用date.range()函数就可以创建日期序列。 默认情况下，范围的频率是天\n",
    "import pandas as pd\n",
    "datelist = pd.date_range('2020/11/21', periods=5)\n",
    "print(datelist)"
   ]
  },
  {
   "cell_type": "code",
   "execution_count": 2,
   "metadata": {},
   "outputs": [
    {
     "name": "stdout",
     "output_type": "stream",
     "text": [
      "DatetimeIndex(['2020-11-30', '2020-12-31', '2021-01-31', '2021-02-28',\n",
      "               '2021-03-31'],\n",
      "              dtype='datetime64[ns]', freq='M')\n"
     ]
    }
   ],
   "source": [
    "# 更改日期频率\n",
    "\n",
    "datelist = pd.date_range('2020/11/21', periods=5,freq='M')\n",
    "print(datelist)"
   ]
  },
  {
   "cell_type": "code",
   "execution_count": 3,
   "metadata": {},
   "outputs": [
    {
     "name": "stdout",
     "output_type": "stream",
     "text": [
      "DatetimeIndex(['2011-11-03', '2011-11-04', '2011-11-05', '2011-11-06',\n",
      "               '2011-11-07'],\n",
      "              dtype='datetime64[ns]', freq='D')\n"
     ]
    }
   ],
   "source": [
    "# bdate_range()函数\n",
    "# bdate_range()用来表示商业日期范围，不同于date_range()，它不包括星期六和星期天\n",
    "datelist = pd.date_range('2011/11/03', periods=5)\n",
    "print(datelist)"
   ]
  },
  {
   "cell_type": "code",
   "execution_count": 4,
   "metadata": {},
   "outputs": [
    {
     "name": "stdout",
     "output_type": "stream",
     "text": [
      "DatetimeIndex(['2017-11-01', '2017-11-02', '2017-11-03', '2017-11-04',\n",
      "               '2017-11-05'],\n",
      "              dtype='datetime64[ns]', freq='D')\n"
     ]
    }
   ],
   "source": [
    "# 观察到11月3日以后，日期跳至11月6日，不包括4日和5日(因为它们是周六和周日)。\n",
    "# 像date_range和bdate_range这样的便利函数利用了各种频率别名。\n",
    "# date_range的默认频率是日历中的自然日，而bdate_range的默认频率是工作日\n",
    "start = pd.datetime(2017, 11, 1)\n",
    "end = pd.datetime(2017, 11, 5)\n",
    "dates = pd.date_range(start, end)\n",
    "print(dates)"
   ]
  },
  {
   "cell_type": "code",
   "execution_count": null,
   "metadata": {},
   "outputs": [],
   "source": [
    "# 偏移别名\n",
    "大量的字符串别名被赋予常用的时间序列频率。我们把这些别名称为偏移别名\n",
    "别名\t描述说明\n",
    "B\t工作日频率\n",
    "BQS\t商务季度开始频率\n",
    "D\t日历/自然日频率\n",
    "A\t年度(年)结束频率\n",
    "W\t每周频率\n",
    "BA\t商务年底结束\n",
    "M\t月结束频率\n",
    "BAS\t商务年度开始频率\n",
    "SM\t半月结束频率\n",
    "BH\t商务时间频率\n",
    "SM\t半月结束频率\n",
    "BH\t商务时间频率\n",
    "BM\t商务月结束频率\n",
    "H\t小时频率\n",
    "MS\t月起始频率\n",
    "T, min\t分钟的频率\n",
    "SMS\tSMS半开始频率\n",
    "S\t秒频率\n",
    "BMS\t商务月开始频率\n",
    "L, ms\t毫秒\n",
    "Q\t季度结束频率\n",
    "U, us\t微秒\n",
    "BQ\t商务季度结束频率\n",
    "N\t纳秒\n",
    "BQ\t商务季度结束频率\n",
    "QS\t季度开始频率"
   ]
  },
  {
   "cell_type": "code",
   "execution_count": null,
   "metadata": {},
   "outputs": [],
   "source": []
  },
  {
   "cell_type": "code",
   "execution_count": null,
   "metadata": {},
   "outputs": [],
   "source": []
  },
  {
   "cell_type": "code",
   "execution_count": null,
   "metadata": {},
   "outputs": [],
   "source": []
  },
  {
   "cell_type": "code",
   "execution_count": null,
   "metadata": {},
   "outputs": [],
   "source": []
  },
  {
   "cell_type": "code",
   "execution_count": null,
   "metadata": {},
   "outputs": [],
   "source": []
  },
  {
   "cell_type": "code",
   "execution_count": null,
   "metadata": {},
   "outputs": [],
   "source": []
  },
  {
   "cell_type": "code",
   "execution_count": null,
   "metadata": {},
   "outputs": [],
   "source": []
  },
  {
   "cell_type": "code",
   "execution_count": null,
   "metadata": {},
   "outputs": [],
   "source": []
  },
  {
   "cell_type": "code",
   "execution_count": null,
   "metadata": {},
   "outputs": [],
   "source": []
  },
  {
   "cell_type": "code",
   "execution_count": null,
   "metadata": {},
   "outputs": [],
   "source": []
  },
  {
   "cell_type": "code",
   "execution_count": null,
   "metadata": {},
   "outputs": [],
   "source": []
  },
  {
   "cell_type": "code",
   "execution_count": null,
   "metadata": {},
   "outputs": [],
   "source": []
  },
  {
   "cell_type": "code",
   "execution_count": null,
   "metadata": {},
   "outputs": [],
   "source": []
  },
  {
   "cell_type": "code",
   "execution_count": null,
   "metadata": {},
   "outputs": [],
   "source": []
  }
 ],
 "metadata": {
  "kernelspec": {
   "display_name": "Python 3",
   "language": "python",
   "name": "python3"
  },
  "language_info": {
   "codemirror_mode": {
    "name": "ipython",
    "version": 3
   },
   "file_extension": ".py",
   "mimetype": "text/x-python",
   "name": "python",
   "nbconvert_exporter": "python",
   "pygments_lexer": "ipython3",
   "version": "3.5.4rc1"
  }
 },
 "nbformat": 4,
 "nbformat_minor": 2
}
