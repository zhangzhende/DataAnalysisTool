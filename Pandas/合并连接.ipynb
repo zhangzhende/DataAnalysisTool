{
 "cells": [
  {
   "cell_type": "code",
   "execution_count": null,
   "metadata": {},
   "outputs": [],
   "source": [
    "Pandas具有功能全面的高性能内存中连接操作，与SQL等关系数据库非常相似。\n",
    "Pandas提供了一个单独的merge()函数，作为DataFrame对象之间所有标准数据库连接操作的入口\n",
    "\n",
    "pd.merge(left, right, how='inner', on=None, left_on=None, right_on=None,\n",
    "left_index=False, right_index=False, sort=True)\n",
    "\n",
    "left - 一个DataFrame对象。\n",
    "right - 另一个DataFrame对象。\n",
    "on - 列(名称)连接，必须在左和右DataFrame对象中存在(找到)。\n",
    "left_on - 左侧DataFrame中的列用作键，可以是列名或长度等于DataFrame长度的数组。\n",
    "right_on - 来自右的DataFrame的列作为键，可以是列名或长度等于DataFrame长度的数组。\n",
    "left_index - 如果为True，则使用左侧DataFrame中的索引(行标签)作为其连接键。 在具有MultiIndex(分层)的DataFrame的情况下，级别的数量必须与来自右DataFrame的连接键的数量相匹配。\n",
    "right_index - 与右DataFrame的left_index具有相同的用法。\n",
    "how - 它是left, right, outer以及inner之中的一个，默认为内inner。 下面将介绍每种方法的用法。\n",
    "sort - 按照字典顺序通过连接键对结果DataFrame进行排序。默认为True，设置为False时，在很多情况下大大提高性能。"
   ]
  },
  {
   "cell_type": "code",
   "execution_count": 1,
   "metadata": {},
   "outputs": [
    {
     "name": "stdout",
     "output_type": "stream",
     "text": [
      "     Name  id subject_id\n",
      "0    Alex   1       sub1\n",
      "1     Amy   2       sub2\n",
      "2   Allen   3       sub4\n",
      "3   Alice   4       sub6\n",
      "4  Ayoung   5       sub5\n",
      "========================================\n",
      "    Name  id subject_id\n",
      "0  Billy   1       sub2\n",
      "1  Brian   2       sub4\n",
      "2   Bran   3       sub3\n",
      "3  Bryce   4       sub6\n",
      "4  Betty   5       sub5\n"
     ]
    }
   ],
   "source": [
    "import pandas as pd\n",
    "\n",
    "#造数\n",
    "left = pd.DataFrame({\n",
    "         'id':[1,2,3,4,5],\n",
    "         'Name': ['Alex', 'Amy', 'Allen', 'Alice', 'Ayoung'],\n",
    "         'subject_id':['sub1','sub2','sub4','sub6','sub5']})\n",
    "right = pd.DataFrame(\n",
    "         {'id':[1,2,3,4,5],\n",
    "         'Name': ['Billy', 'Brian', 'Bran', 'Bryce', 'Betty'],\n",
    "         'subject_id':['sub2','sub4','sub3','sub6','sub5']})\n",
    "print (left)\n",
    "print(\"========================================\")\n",
    "print (right)"
   ]
  },
  {
   "cell_type": "code",
   "execution_count": 2,
   "metadata": {},
   "outputs": [
    {
     "name": "stdout",
     "output_type": "stream",
     "text": [
      "   Name_x  id subject_id_x Name_y subject_id_y\n",
      "0    Alex   1         sub1  Billy         sub2\n",
      "1     Amy   2         sub2  Brian         sub4\n",
      "2   Allen   3         sub4   Bran         sub3\n",
      "3   Alice   4         sub6  Bryce         sub6\n",
      "4  Ayoung   5         sub5  Betty         sub5\n"
     ]
    }
   ],
   "source": [
    "# 在一个键上合并两个数据帧，键相同合并\n",
    "left = pd.DataFrame({\n",
    "         'id':[1,2,3,4,5],\n",
    "         'Name': ['Alex', 'Amy', 'Allen', 'Alice', 'Ayoung'],\n",
    "         'subject_id':['sub1','sub2','sub4','sub6','sub5']})\n",
    "right = pd.DataFrame(\n",
    "         {'id':[1,2,3,4,5],\n",
    "         'Name': ['Billy', 'Brian', 'Bran', 'Bryce', 'Betty'],\n",
    "         'subject_id':['sub2','sub4','sub3','sub6','sub5']})\n",
    "rs = pd.merge(left,right,on='id')\n",
    "print(rs)"
   ]
  },
  {
   "cell_type": "code",
   "execution_count": 3,
   "metadata": {},
   "outputs": [
    {
     "name": "stdout",
     "output_type": "stream",
     "text": [
      "   Name_x  id subject_id Name_y\n",
      "0   Alice   4       sub6  Bryce\n",
      "1  Ayoung   5       sub5  Betty\n"
     ]
    }
   ],
   "source": [
    "# 合并多个键上的两个数据框，键相同合并\n",
    "\n",
    "left = pd.DataFrame({\n",
    "         'id':[1,2,3,4,5],\n",
    "         'Name': ['Alex', 'Amy', 'Allen', 'Alice', 'Ayoung'],\n",
    "         'subject_id':['sub1','sub2','sub4','sub6','sub5']})\n",
    "right = pd.DataFrame(\n",
    "         {'id':[1,2,3,4,5],\n",
    "         'Name': ['Billy', 'Brian', 'Bran', 'Bryce', 'Betty'],\n",
    "         'subject_id':['sub2','sub4','sub3','sub6','sub5']})\n",
    "rs = pd.merge(left,right,on=['id','subject_id'])\n",
    "print(rs)"
   ]
  },
  {
   "cell_type": "code",
   "execution_count": null,
   "metadata": {},
   "outputs": [],
   "source": [
    "合并使用“how”的参数\n",
    "如何合并参数指定如何确定哪些键将被包含在结果表中。如果组合键没有出现在左侧或右侧表中，则连接表中的值将为NA\n",
    "这里是how选项和SQL等效名称的总结 -\n",
    "合并方法\tSQL等效\t描述\n",
    "left\tLEFT OUTER JOIN\t使用左侧对象的键\n",
    "right\tRIGHT OUTER JOIN\t使用右侧对象的键\n",
    "outer\tFULL OUTER JOIN\t使用键的联合\n",
    "inner\tINNER JOIN\t使用键的交集\n"
   ]
  },
  {
   "cell_type": "code",
   "execution_count": 4,
   "metadata": {},
   "outputs": [
    {
     "name": "stdout",
     "output_type": "stream",
     "text": [
      "   Name_x  id_x subject_id Name_y  id_y\n",
      "0    Alex     1       sub1    NaN   NaN\n",
      "1     Amy     2       sub2  Billy   1.0\n",
      "2   Allen     3       sub4  Brian   2.0\n",
      "3   Alice     4       sub6  Bryce   4.0\n",
      "4  Ayoung     5       sub5  Betty   5.0\n"
     ]
    }
   ],
   "source": [
    "# Left Join示例\n",
    "\n",
    "left = pd.DataFrame({\n",
    "         'id':[1,2,3,4,5],\n",
    "         'Name': ['Alex', 'Amy', 'Allen', 'Alice', 'Ayoung'],\n",
    "         'subject_id':['sub1','sub2','sub4','sub6','sub5']})\n",
    "right = pd.DataFrame(\n",
    "         {'id':[1,2,3,4,5],\n",
    "         'Name': ['Billy', 'Brian', 'Bran', 'Bryce', 'Betty'],\n",
    "         'subject_id':['sub2','sub4','sub3','sub6','sub5']})\n",
    "rs = pd.merge(left, right, on='subject_id', how='left')\n",
    "print (rs)"
   ]
  },
  {
   "cell_type": "code",
   "execution_count": 5,
   "metadata": {},
   "outputs": [
    {
     "name": "stdout",
     "output_type": "stream",
     "text": [
      "   Name_x  id_x subject_id Name_y  id_y\n",
      "0     Amy   2.0       sub2  Billy     1\n",
      "1   Allen   3.0       sub4  Brian     2\n",
      "2   Alice   4.0       sub6  Bryce     4\n",
      "3  Ayoung   5.0       sub5  Betty     5\n",
      "4     NaN   NaN       sub3   Bran     3\n"
     ]
    }
   ],
   "source": [
    "# Right Join示例\n",
    "\n",
    "left = pd.DataFrame({\n",
    "         'id':[1,2,3,4,5],\n",
    "         'Name': ['Alex', 'Amy', 'Allen', 'Alice', 'Ayoung'],\n",
    "         'subject_id':['sub1','sub2','sub4','sub6','sub5']})\n",
    "right = pd.DataFrame(\n",
    "         {'id':[1,2,3,4,5],\n",
    "         'Name': ['Billy', 'Brian', 'Bran', 'Bryce', 'Betty'],\n",
    "         'subject_id':['sub2','sub4','sub3','sub6','sub5']})\n",
    "rs = pd.merge(left, right, on='subject_id', how='right')\n",
    "print (rs)"
   ]
  },
  {
   "cell_type": "code",
   "execution_count": 6,
   "metadata": {},
   "outputs": [
    {
     "name": "stdout",
     "output_type": "stream",
     "text": [
      "   Name_x  id_x subject_id Name_y  id_y\n",
      "0    Alex   1.0       sub1    NaN   NaN\n",
      "1     Amy   2.0       sub2  Billy   1.0\n",
      "2   Allen   3.0       sub4  Brian   2.0\n",
      "3   Alice   4.0       sub6  Bryce   4.0\n",
      "4  Ayoung   5.0       sub5  Betty   5.0\n",
      "5     NaN   NaN       sub3   Bran   3.0\n"
     ]
    }
   ],
   "source": [
    "# Outer Join示例 键并集\n",
    "\n",
    "left = pd.DataFrame({\n",
    "         'id':[1,2,3,4,5],\n",
    "         'Name': ['Alex', 'Amy', 'Allen', 'Alice', 'Ayoung'],\n",
    "         'subject_id':['sub1','sub2','sub4','sub6','sub5']})\n",
    "right = pd.DataFrame(\n",
    "         {'id':[1,2,3,4,5],\n",
    "         'Name': ['Billy', 'Brian', 'Bran', 'Bryce', 'Betty'],\n",
    "         'subject_id':['sub2','sub4','sub3','sub6','sub5']})\n",
    "rs = pd.merge(left, right, how='outer', on='subject_id')\n",
    "print (rs)"
   ]
  },
  {
   "cell_type": "code",
   "execution_count": 7,
   "metadata": {},
   "outputs": [
    {
     "name": "stdout",
     "output_type": "stream",
     "text": [
      "   Name_x  id_x subject_id Name_y  id_y\n",
      "0     Amy     2       sub2  Billy     1\n",
      "1   Allen     3       sub4  Brian     2\n",
      "2   Alice     4       sub6  Bryce     4\n",
      "3  Ayoung     5       sub5  Betty     5\n"
     ]
    }
   ],
   "source": [
    "# Inner Join示例 键交集\n",
    "# 连接将在索引上进行。连接(Join)操作将授予它所调用的对象。所以，a.join(b)不等于b.join(a)。\n",
    "\n",
    "left = pd.DataFrame({\n",
    "         'id':[1,2,3,4,5],\n",
    "         'Name': ['Alex', 'Amy', 'Allen', 'Alice', 'Ayoung'],\n",
    "         'subject_id':['sub1','sub2','sub4','sub6','sub5']})\n",
    "right = pd.DataFrame(\n",
    "         {'id':[1,2,3,4,5],\n",
    "         'Name': ['Billy', 'Brian', 'Bran', 'Bryce', 'Betty'],\n",
    "         'subject_id':['sub2','sub4','sub3','sub6','sub5']})\n",
    "rs = pd.merge(left, right, on='subject_id', how='inner')\n",
    "print (rs)"
   ]
  },
  {
   "cell_type": "code",
   "execution_count": null,
   "metadata": {},
   "outputs": [],
   "source": []
  },
  {
   "cell_type": "code",
   "execution_count": null,
   "metadata": {},
   "outputs": [],
   "source": []
  },
  {
   "cell_type": "code",
   "execution_count": null,
   "metadata": {},
   "outputs": [],
   "source": []
  },
  {
   "cell_type": "code",
   "execution_count": null,
   "metadata": {},
   "outputs": [],
   "source": []
  },
  {
   "cell_type": "code",
   "execution_count": null,
   "metadata": {},
   "outputs": [],
   "source": []
  },
  {
   "cell_type": "code",
   "execution_count": null,
   "metadata": {},
   "outputs": [],
   "source": []
  },
  {
   "cell_type": "code",
   "execution_count": null,
   "metadata": {},
   "outputs": [],
   "source": []
  },
  {
   "cell_type": "code",
   "execution_count": null,
   "metadata": {},
   "outputs": [],
   "source": []
  },
  {
   "cell_type": "code",
   "execution_count": null,
   "metadata": {},
   "outputs": [],
   "source": []
  }
 ],
 "metadata": {
  "kernelspec": {
   "display_name": "Python 3",
   "language": "python",
   "name": "python3"
  },
  "language_info": {
   "codemirror_mode": {
    "name": "ipython",
    "version": 3
   },
   "file_extension": ".py",
   "mimetype": "text/x-python",
   "name": "python",
   "nbconvert_exporter": "python",
   "pygments_lexer": "ipython3",
   "version": "3.5.4rc1"
  }
 },
 "nbformat": 4,
 "nbformat_minor": 2
}
