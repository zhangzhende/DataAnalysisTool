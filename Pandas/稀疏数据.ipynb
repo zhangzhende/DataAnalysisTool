{
 "cells": [
  {
   "cell_type": "code",
   "execution_count": null,
   "metadata": {},
   "outputs": [],
   "source": [
    "当任何匹配特定值的数据(NaN/缺失值，尽管可以选择任何值)被省略时，稀疏对象被“压缩”。\n",
    "一个特殊的SparseIndex对象跟踪数据被“稀疏”的地方。 这将在一个例子中更有意义。 \n",
    "所有的标准Pandas数据结构都应用了to_sparse方法"
   ]
  },
  {
   "cell_type": "code",
   "execution_count": 2,
   "metadata": {},
   "outputs": [
    {
     "name": "stdout",
     "output_type": "stream",
     "text": [
      "0   -0.573960\n",
      "1    0.832346\n",
      "2         NaN\n",
      "3         NaN\n",
      "4         NaN\n",
      "5         NaN\n",
      "6         NaN\n",
      "7         NaN\n",
      "8   -1.245244\n",
      "9    1.758868\n",
      "dtype: float64\n",
      "after to parse:\n",
      "0   -0.573960\n",
      "1    0.832346\n",
      "2         NaN\n",
      "3         NaN\n",
      "4         NaN\n",
      "5         NaN\n",
      "6         NaN\n",
      "7         NaN\n",
      "8   -1.245244\n",
      "9    1.758868\n",
      "dtype: float64\n",
      "BlockIndex\n",
      "Block locations: array([0, 8])\n",
      "Block lengths: array([2, 2])\n"
     ]
    }
   ],
   "source": [
    "import pandas as pd\n",
    "import numpy as np\n",
    "\n",
    "ts = pd.Series(np.random.randn(10))\n",
    "ts[2:-2] = np.nan\n",
    "print (ts)\n",
    "print (\"after to parse:\")\n",
    "sts = ts.to_sparse()\n",
    "print (sts)"
   ]
  },
  {
   "cell_type": "code",
   "execution_count": 4,
   "metadata": {},
   "outputs": [
    {
     "name": "stdout",
     "output_type": "stream",
     "text": [
      "0.0001\n"
     ]
    }
   ],
   "source": [
    "# 为了内存效率的原因，所以需要稀疏对象的存在。\n",
    "# 现在假设有一个大的NA DataFrame\n",
    "\n",
    "df = pd.DataFrame(np.random.randn(10000, 4))\n",
    "df.loc[:9998] = np.nan\n",
    "sdf = df.to_sparse()\n",
    "\n",
    "print (sdf.density)"
   ]
  },
  {
   "cell_type": "code",
   "execution_count": 5,
   "metadata": {},
   "outputs": [
    {
     "name": "stdout",
     "output_type": "stream",
     "text": [
      "0    0.648481\n",
      "1    0.144823\n",
      "2         NaN\n",
      "3         NaN\n",
      "4         NaN\n",
      "5         NaN\n",
      "6         NaN\n",
      "7         NaN\n",
      "8   -0.004226\n",
      "9   -1.436371\n",
      "dtype: float64\n"
     ]
    }
   ],
   "source": [
    "# 通过调用to_dense可以将任何稀疏对象转换回标准密集形式\n",
    "\n",
    "ts = pd.Series(np.random.randn(10))\n",
    "ts[2:-2] = np.nan\n",
    "sts = ts.to_sparse()\n",
    "print (sts.to_dense())\n"
   ]
  },
  {
   "cell_type": "code",
   "execution_count": null,
   "metadata": {},
   "outputs": [],
   "source": [
    "稀疏Dtypes\n",
    "稀疏数据应该具有与其密集表示相同的dtype。 \n",
    "目前，支持float64，int64和booldtypes。 \n",
    "取决于原始的dtype，fill_value默认值的更改 \n",
    "-float64 − np.nan\n",
    "int64 − 0\n",
    "bool − False"
   ]
  },
  {
   "cell_type": "code",
   "execution_count": 6,
   "metadata": {},
   "outputs": [
    {
     "name": "stdout",
     "output_type": "stream",
     "text": [
      "0    1.0\n",
      "1    NaN\n",
      "2    NaN\n",
      "dtype: float64\n",
      "=============================\n",
      "0    1.0\n",
      "1    NaN\n",
      "2    NaN\n",
      "dtype: float64\n"
     ]
    }
   ],
   "source": [
    "s = pd.Series([1, np.nan, np.nan])\n",
    "print (s)\n",
    "print (\"=============================\")\n",
    "s.to_sparse()\n",
    "print (s)"
   ]
  },
  {
   "cell_type": "code",
   "execution_count": null,
   "metadata": {},
   "outputs": [],
   "source": []
  },
  {
   "cell_type": "code",
   "execution_count": null,
   "metadata": {},
   "outputs": [],
   "source": []
  },
  {
   "cell_type": "code",
   "execution_count": null,
   "metadata": {},
   "outputs": [],
   "source": []
  },
  {
   "cell_type": "code",
   "execution_count": null,
   "metadata": {},
   "outputs": [],
   "source": []
  },
  {
   "cell_type": "code",
   "execution_count": null,
   "metadata": {},
   "outputs": [],
   "source": []
  },
  {
   "cell_type": "code",
   "execution_count": null,
   "metadata": {},
   "outputs": [],
   "source": []
  },
  {
   "cell_type": "code",
   "execution_count": null,
   "metadata": {},
   "outputs": [],
   "source": []
  },
  {
   "cell_type": "code",
   "execution_count": null,
   "metadata": {},
   "outputs": [],
   "source": []
  }
 ],
 "metadata": {
  "kernelspec": {
   "display_name": "Python 3",
   "language": "python",
   "name": "python3"
  },
  "language_info": {
   "codemirror_mode": {
    "name": "ipython",
    "version": 3
   },
   "file_extension": ".py",
   "mimetype": "text/x-python",
   "name": "python",
   "nbconvert_exporter": "python",
   "pygments_lexer": "ipython3",
   "version": "3.5.4rc1"
  }
 },
 "nbformat": 4,
 "nbformat_minor": 2
}
