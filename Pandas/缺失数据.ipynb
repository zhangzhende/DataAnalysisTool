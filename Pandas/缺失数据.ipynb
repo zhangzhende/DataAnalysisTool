{
 "cells": [
  {
   "cell_type": "code",
   "execution_count": null,
   "metadata": {},
   "outputs": [],
   "source": [
    "数据丢失(缺失)在现实生活中总是一个问题。 机器学习和数据挖掘等领域由于数据缺失导致的数据质量差，在模型预测的准确性上面临着严重的问题。 \n",
    "在这些领域，缺失值处理是使模型更加准确和有效的重点"
   ]
  },
  {
   "cell_type": "code",
   "execution_count": 1,
   "metadata": {},
   "outputs": [
    {
     "name": "stdout",
     "output_type": "stream",
     "text": [
      "        one       two     three\n",
      "a  1.144877 -0.096378  1.483815\n",
      "b       NaN       NaN       NaN\n",
      "c  0.198337  0.604799  1.331770\n",
      "d       NaN       NaN       NaN\n",
      "e  0.860224 -0.346386 -0.320155\n",
      "f  0.930779 -1.438121 -0.496648\n",
      "g       NaN       NaN       NaN\n",
      "h  1.162851 -0.212522 -1.444556\n"
     ]
    }
   ],
   "source": [
    "import pandas as pd\n",
    "import numpy as np\n",
    "\n",
    "df = pd.DataFrame(np.random.randn(5, 3), index=['a', 'c', 'e', 'f',\n",
    "'h'],columns=['one', 'two', 'three'])\n",
    "# 使用重构索引(reindexing)，创建了一个缺少值的DataFrame。 在输出中，NaN表示不是数字的值\n",
    "df = df.reindex(['a', 'b', 'c', 'd', 'e', 'f', 'g', 'h'])\n",
    "print (df)"
   ]
  },
  {
   "cell_type": "code",
   "execution_count": 2,
   "metadata": {},
   "outputs": [
    {
     "name": "stdout",
     "output_type": "stream",
     "text": [
      "a    False\n",
      "b     True\n",
      "c    False\n",
      "d     True\n",
      "e    False\n",
      "f    False\n",
      "g     True\n",
      "h    False\n",
      "Name: one, dtype: bool\n"
     ]
    }
   ],
   "source": [
    "# 检查缺失值\n",
    "# 为了更容易地检测缺失值(以及跨越不同的数组dtype)，Pandas提供了isnull()和notnull()函数，它们也是Series和DataFrame对象的方法\n",
    "print (df['one'].isnull())"
   ]
  },
  {
   "cell_type": "code",
   "execution_count": 3,
   "metadata": {},
   "outputs": [
    {
     "name": "stdout",
     "output_type": "stream",
     "text": [
      "a     True\n",
      "b    False\n",
      "c     True\n",
      "d    False\n",
      "e     True\n",
      "f     True\n",
      "g    False\n",
      "h     True\n",
      "Name: one, dtype: bool\n"
     ]
    }
   ],
   "source": [
    "print (df['one'].notnull())"
   ]
  },
  {
   "cell_type": "code",
   "execution_count": null,
   "metadata": {},
   "outputs": [],
   "source": [
    "缺少数据的计算\n",
    "在求和数据时，NA将被视为0\n",
    "如果数据全部是NA，那么结果将是NA"
   ]
  },
  {
   "cell_type": "code",
   "execution_count": 4,
   "metadata": {},
   "outputs": [
    {
     "name": "stdout",
     "output_type": "stream",
     "text": [
      "-1.2753455881076319\n"
     ]
    }
   ],
   "source": [
    "df = pd.DataFrame(np.random.randn(5, 3), index=['a', 'c', 'e', 'f','h'],columns=['one', 'two', 'three'])\n",
    "df = df.reindex(['a', 'b', 'c', 'd', 'e', 'f', 'g', 'h'])\n",
    "\n",
    "print (df['one'].sum())"
   ]
  },
  {
   "cell_type": "code",
   "execution_count": 6,
   "metadata": {},
   "outputs": [
    {
     "name": "stdout",
     "output_type": "stream",
     "text": [
      "   one  two\n",
      "0  NaN  NaN\n",
      "1  NaN  NaN\n",
      "2  NaN  NaN\n",
      "3  NaN  NaN\n",
      "4  NaN  NaN\n",
      "5  NaN  NaN\n",
      "- - - - - - - - - - - - - - - - - - - - - - - - - - - - - - - - - - - - - - - - \n",
      "0\n"
     ]
    }
   ],
   "source": [
    "df = pd.DataFrame(index=[0,1,2,3,4,5],columns=['one','two'])\n",
    "print(df)\n",
    "print(\"- - \"*20)\n",
    "print (df['one'].sum())"
   ]
  },
  {
   "cell_type": "code",
   "execution_count": null,
   "metadata": {},
   "outputs": [],
   "source": [
    "清理/填充缺少数据\n",
    "Pandas提供了各种方法来清除缺失的值。fillna()函数可以通过几种方法用非空数据“填充”NA值，在下面的章节中将学习和使用。"
   ]
  },
  {
   "cell_type": "code",
   "execution_count": 7,
   "metadata": {},
   "outputs": [
    {
     "name": "stdout",
     "output_type": "stream",
     "text": [
      "        one       two     three\n",
      "a  0.293443 -1.846638  1.791501\n",
      "b       NaN       NaN       NaN\n",
      "c  1.273973  0.798645  0.531183\n",
      "NaN replaced with '0':\n",
      "        one       two     three\n",
      "a  0.293443 -1.846638  1.791501\n",
      "b  0.000000  0.000000  0.000000\n",
      "c  1.273973  0.798645  0.531183\n"
     ]
    }
   ],
   "source": [
    "# 用标量值替换NaN\n",
    "df = pd.DataFrame(np.random.randn(3, 3), index=['a', 'c', 'e'],columns=['one','two', 'three'])\n",
    "df = df.reindex(['a', 'b', 'c'])\n",
    "print (df)\n",
    "print (\"NaN replaced with '0':\")\n",
    "print (df.fillna(0))"
   ]
  },
  {
   "cell_type": "code",
   "execution_count": null,
   "metadata": {},
   "outputs": [],
   "source": [
    "# 填写NA前进和后退\n",
    "pad/fill\t填充方法向前\n",
    "bfill/backfill\t填充方法向后"
   ]
  },
  {
   "cell_type": "code",
   "execution_count": 8,
   "metadata": {},
   "outputs": [
    {
     "name": "stdout",
     "output_type": "stream",
     "text": [
      "        one       two     three\n",
      "a -0.435165  0.493630  0.224600\n",
      "b       NaN       NaN       NaN\n",
      "c  0.421836 -1.796354  2.137437\n",
      "d       NaN       NaN       NaN\n",
      "e  0.142817 -0.398086  1.022160\n",
      "f -0.216732  0.841063  0.642964\n",
      "g       NaN       NaN       NaN\n",
      "h  0.171353 -0.050271  0.707130\n",
      "NaN replaced with pad:\n",
      "        one       two     three\n",
      "a -0.435165  0.493630  0.224600\n",
      "b -0.435165  0.493630  0.224600\n",
      "c  0.421836 -1.796354  2.137437\n",
      "d  0.421836 -1.796354  2.137437\n",
      "e  0.142817 -0.398086  1.022160\n",
      "f -0.216732  0.841063  0.642964\n",
      "g -0.216732  0.841063  0.642964\n",
      "h  0.171353 -0.050271  0.707130\n"
     ]
    }
   ],
   "source": [
    "df = pd.DataFrame(np.random.randn(5, 3), index=['a', 'c', 'e', 'f','h'],columns=['one', 'two', 'three'])\n",
    "df = df.reindex(['a', 'b', 'c', 'd', 'e', 'f', 'g', 'h'])\n",
    "print (df)\n",
    "print (\"NaN replaced with pad:\")\n",
    "print (df.fillna(method='pad'))#顺序填充"
   ]
  },
  {
   "cell_type": "code",
   "execution_count": 9,
   "metadata": {},
   "outputs": [
    {
     "name": "stdout",
     "output_type": "stream",
     "text": [
      "        one       two     three\n",
      "a -0.997189  1.762771  0.192622\n",
      "b       NaN       NaN       NaN\n",
      "c  0.038656  0.298035 -0.014401\n",
      "d       NaN       NaN       NaN\n",
      "e -0.738791  0.159976 -1.143514\n",
      "f  0.714268  1.646240  1.030287\n",
      "g       NaN       NaN       NaN\n",
      "h  0.830273 -1.091621 -4.446499\n",
      "NaN replaced with backfill:\n",
      "        one       two     three\n",
      "a -0.997189  1.762771  0.192622\n",
      "b  0.038656  0.298035 -0.014401\n",
      "c  0.038656  0.298035 -0.014401\n",
      "d -0.738791  0.159976 -1.143514\n",
      "e -0.738791  0.159976 -1.143514\n",
      "f  0.714268  1.646240  1.030287\n",
      "g  0.830273 -1.091621 -4.446499\n",
      "h  0.830273 -1.091621 -4.446499\n"
     ]
    }
   ],
   "source": [
    "df = pd.DataFrame(np.random.randn(5, 3), index=['a', 'c', 'e', 'f','h'],columns=['one', 'two', 'three'])\n",
    "df = df.reindex(['a', 'b', 'c', 'd', 'e', 'f', 'g', 'h'])\n",
    "print (df)\n",
    "print (\"NaN replaced with backfill:\")\n",
    "print (df.fillna(method='backfill'))#逆序填充"
   ]
  },
  {
   "cell_type": "code",
   "execution_count": 12,
   "metadata": {},
   "outputs": [
    {
     "name": "stdout",
     "output_type": "stream",
     "text": [
      "        one       two     three\n",
      "a  0.323854  0.629644 -0.349675\n",
      "b       NaN       NaN       NaN\n",
      "c  1.052026  0.692980 -0.718505\n",
      "d       NaN       NaN       NaN\n",
      "e  2.215052 -0.721451 -0.398081\n",
      "f -0.133987  0.549419 -1.165157\n",
      "g       NaN       NaN       NaN\n",
      "h -0.338614  0.138883  0.513057\n",
      "=====NaN drop=====\n",
      "        one       two     three\n",
      "a  0.323854  0.629644 -0.349675\n",
      "c  1.052026  0.692980 -0.718505\n",
      "e  2.215052 -0.721451 -0.398081\n",
      "f -0.133987  0.549419 -1.165157\n",
      "h -0.338614  0.138883  0.513057\n"
     ]
    }
   ],
   "source": [
    "# 丢弃缺少的值\n",
    "# 如果只想排除缺少的值，则使用dropna函数和axis参数。 默认情况下，axis = 0，即在行上应用，这意味着如果行内的任何值是NA，那么整个行被排除\n",
    "\n",
    "df = pd.DataFrame(np.random.randn(5, 3), index=['a', 'c', 'e', 'f','h'],columns=['one', 'two', 'three'])\n",
    "df = df.reindex(['a', 'b', 'c', 'd', 'e', 'f', 'g', 'h'])\n",
    "print (df)\n",
    "print (\"=====NaN drop=====\")\n",
    "print (df.dropna())"
   ]
  },
  {
   "cell_type": "code",
   "execution_count": 13,
   "metadata": {},
   "outputs": [
    {
     "name": "stdout",
     "output_type": "stream",
     "text": [
      "Empty DataFrame\n",
      "Columns: []\n",
      "Index: [a, b, c, d, e, f, g, h]\n"
     ]
    }
   ],
   "source": [
    "\n",
    "df = pd.DataFrame(np.random.randn(5, 3), index=['a', 'c', 'e', 'f','h'],columns=['one', 'two', 'three'])\n",
    "\n",
    "df = df.reindex(['a', 'b', 'c', 'd', 'e', 'f', 'g', 'h'])\n",
    "# axis=1 标识列丢弃\n",
    "print (df.dropna(axis=1))"
   ]
  },
  {
   "cell_type": "code",
   "execution_count": null,
   "metadata": {},
   "outputs": [],
   "source": [
    "# 替换丢失(或)通用值， 使用其他值替换缺失值\n",
    "很多时候，必须用一些具体的值取代一个通用的值。可以通过应用替换方法来实现这一点。用标量值替换NA是fillna()函数的等效行为。"
   ]
  },
  {
   "cell_type": "code",
   "execution_count": 15,
   "metadata": {},
   "outputs": [
    {
     "name": "stdout",
     "output_type": "stream",
     "text": [
      "      one     two\n",
      "0    10.0  1000.0\n",
      "1    20.0     0.0\n",
      "2    30.0     0.0\n",
      "3    40.0    40.0\n",
      "4     0.0    50.0\n",
      "5  2000.0    60.0\n"
     ]
    }
   ],
   "source": [
    "df = pd.DataFrame({'one':[10,20,30,40,np.nan,2000],'two':[1000,0,np.nan,40,50,60]})\n",
    "print (df.fillna(0))"
   ]
  },
  {
   "cell_type": "code",
   "execution_count": null,
   "metadata": {},
   "outputs": [],
   "source": []
  },
  {
   "cell_type": "code",
   "execution_count": null,
   "metadata": {},
   "outputs": [],
   "source": []
  },
  {
   "cell_type": "code",
   "execution_count": null,
   "metadata": {},
   "outputs": [],
   "source": []
  }
 ],
 "metadata": {
  "kernelspec": {
   "display_name": "Python 3",
   "language": "python",
   "name": "python3"
  },
  "language_info": {
   "codemirror_mode": {
    "name": "ipython",
    "version": 3
   },
   "file_extension": ".py",
   "mimetype": "text/x-python",
   "name": "python",
   "nbconvert_exporter": "python",
   "pygments_lexer": "ipython3",
   "version": "3.5.4rc1"
  }
 },
 "nbformat": 4,
 "nbformat_minor": 2
}
