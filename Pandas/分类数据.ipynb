{
 "cells": [
  {
   "cell_type": "code",
   "execution_count": null,
   "metadata": {},
   "outputs": [],
   "source": [
    "通常实时的数据包括重复的文本列。例如：性别，国家和代码等特征总是重复的。这些是分类数据的例子。\n",
    "分类变量只能采用有限的数量，而且通常是固定的数量。除了固定长度，分类数据可能有顺序，但不能执行数字操作。 分类是Pandas数据类型\n",
    "分类数据类型在以下情况下非常有用：\n",
    "一个字符串变量，只包含几个不同的值。将这样的字符串变量转换为分类变量将会节省一些内存。\n",
    "变量的词汇顺序与逻辑顺序(\"one\"，\"two\"，\"three\")不同。 通过转换为分类并指定类别上的顺序，排序和最小/最大将使用逻辑顺序，而不是词法顺序。\n",
    "作为其他python库的一个信号，这个列应该被当作一个分类变量(例如，使用合适的统计方法或plot类型)"
   ]
  },
  {
   "cell_type": "code",
   "execution_count": 1,
   "metadata": {},
   "outputs": [
    {
     "name": "stdout",
     "output_type": "stream",
     "text": [
      "0    a\n",
      "1    b\n",
      "2    c\n",
      "3    a\n",
      "dtype: category\n",
      "Categories (3, object): [a, b, c]\n"
     ]
    }
   ],
   "source": [
    "# 对象创建，分类对象可以通过多种方式创建\n",
    "\n",
    "# 类别/分类通过在pandas对象创建中将dtype指定为“category”\n",
    "# 传递给系列对象的元素数量是四个，但类别只有三个\n",
    "import pandas as pd\n",
    "s = pd.Series([\"a\",\"b\",\"c\",\"a\"], dtype=\"category\")\n",
    "print (s)"
   ]
  },
  {
   "cell_type": "code",
   "execution_count": 2,
   "metadata": {},
   "outputs": [
    {
     "name": "stdout",
     "output_type": "stream",
     "text": [
      "[a, b, c, a, b, c]\n",
      "Categories (3, object): [a, b, c]\n"
     ]
    }
   ],
   "source": [
    "# pd.Categorical\n",
    "# 使用标准Pandas分类构造函数，我们可以创建一个类别对象\n",
    "\n",
    "cat = pd.Categorical(['a', 'b', 'c', 'a', 'b', 'c'])\n",
    "print (cat)"
   ]
  },
  {
   "cell_type": "code",
   "execution_count": 3,
   "metadata": {},
   "outputs": [
    {
     "name": "stdout",
     "output_type": "stream",
     "text": [
      "[a, b, c, a, b, c, NaN]\n",
      "Categories (3, object): [c, b, a]\n"
     ]
    }
   ],
   "source": [
    "cat = cat=pd.Categorical(['a','b','c','a','b','c','d'], ['c', 'b', 'a'])\n",
    "#这里，第二个参数表示类别。因此，在类别中不存在的任何值将被视为NaN，所以D变成NAN了\n",
    "print (cat)"
   ]
  },
  {
   "cell_type": "code",
   "execution_count": 5,
   "metadata": {},
   "outputs": [
    {
     "name": "stdout",
     "output_type": "stream",
     "text": [
      "[a, b, c, c, b, a, NaN]\n",
      "Categories (3, object): [c < b < a]\n"
     ]
    }
   ],
   "source": [
    "# 从逻辑上讲，排序(ordered)意味着，a大于b，b大于c。\n",
    "cat = pd.Categorical(['a','b','c','c','b','a','d'], ['c', 'b', 'a'],ordered=True)\n",
    "print (cat)"
   ]
  },
  {
   "cell_type": "code",
   "execution_count": 7,
   "metadata": {},
   "outputs": [
    {
     "name": "stdout",
     "output_type": "stream",
     "text": [
      "       cat  s\n",
      "count    3  3\n",
      "unique   2  2\n",
      "top      c  c\n",
      "freq     2  2\n",
      "=============================\n",
      "count     3\n",
      "unique    2\n",
      "top       c\n",
      "freq      2\n",
      "Name: cat, dtype: object\n"
     ]
    }
   ],
   "source": [
    "# 描述\n",
    "# 使用分类数据上的.describe()命令，可以得到与类型字符串的Series或DataFrame类似的输出\n",
    "import pandas as pd\n",
    "import numpy as np\n",
    "\n",
    "cat = pd.Categorical([\"a\", \"c\", \"c\", np.nan], categories=[\"b\", \"a\", \"c\"])\n",
    "df = pd.DataFrame({\"cat\":cat, \"s\":[\"a\", \"c\", \"c\", np.nan]})\n",
    "print (df.describe())\n",
    "print (\"=============================\")\n",
    "print (df[\"cat\"].describe())"
   ]
  },
  {
   "cell_type": "code",
   "execution_count": 8,
   "metadata": {},
   "outputs": [
    {
     "name": "stdout",
     "output_type": "stream",
     "text": [
      "Index(['b', 'a', 'c'], dtype='object')\n"
     ]
    }
   ],
   "source": [
    "# 获取类别的属性\n",
    "# obj.cat.categories命令用于获取对象的类别\n",
    "s = pd.Categorical([\"a\", \"c\", \"c\", np.nan], categories=[\"b\", \"a\", \"c\"])\n",
    "print (s.categories)"
   ]
  },
  {
   "cell_type": "code",
   "execution_count": 9,
   "metadata": {},
   "outputs": [
    {
     "name": "stdout",
     "output_type": "stream",
     "text": [
      "False\n"
     ]
    }
   ],
   "source": [
    "# obj.ordered命令用于获取对象的顺序。\n",
    "\n",
    "cat = pd.Categorical([\"a\", \"c\", \"c\", np.nan], categories=[\"b\", \"a\", \"c\"])\n",
    "print (cat.ordered)\n",
    "# 该函数返回结果为：False，因为这里没有指定任何顺序。"
   ]
  },
  {
   "cell_type": "code",
   "execution_count": 10,
   "metadata": {},
   "outputs": [
    {
     "name": "stdout",
     "output_type": "stream",
     "text": [
      "Index(['Group a', 'Group b', 'Group c'], dtype='object')\n"
     ]
    }
   ],
   "source": [
    "# 重命名类别\n",
    "# 重命名类别是通过将新值分配给series.cat.categories属性来完成的。\n",
    "\n",
    "s = pd.Series([\"a\",\"b\",\"c\",\"a\"], dtype=\"category\")\n",
    "s.cat.categories = [\"Group %s\" % g for g in s.cat.categories]\n",
    "\n",
    "print (s.cat.categories)\n",
    "# 初始类别[a，b，c]由对象的s.cat.categories属性更新"
   ]
  },
  {
   "cell_type": "code",
   "execution_count": 11,
   "metadata": {},
   "outputs": [
    {
     "name": "stdout",
     "output_type": "stream",
     "text": [
      "Index(['a', 'b', 'c', 4], dtype='object')\n"
     ]
    }
   ],
   "source": [
    "# 附加新类别\n",
    "# 使用Categorical.add.categories()方法，可以追加新的类别。\n",
    "\n",
    "s = pd.Series([\"a\",\"b\",\"c\",\"a\"], dtype=\"category\")\n",
    "s = s.cat.add_categories([4])\n",
    "print (s.cat.categories)"
   ]
  },
  {
   "cell_type": "code",
   "execution_count": 12,
   "metadata": {},
   "outputs": [
    {
     "name": "stdout",
     "output_type": "stream",
     "text": [
      "Original object:\n",
      "0    a\n",
      "1    b\n",
      "2    c\n",
      "3    a\n",
      "dtype: category\n",
      "Categories (3, object): [a, b, c]\n",
      "=====================================\n",
      "After removal:\n",
      "0    NaN\n",
      "1      b\n",
      "2      c\n",
      "3    NaN\n",
      "dtype: category\n",
      "Categories (2, object): [b, c]\n"
     ]
    }
   ],
   "source": [
    "# 删除类别\n",
    "# 使用Categorical.remove_categories()方法，可以删除不需要的类别\n",
    "\n",
    "s = pd.Series([\"a\",\"b\",\"c\",\"a\"], dtype=\"category\")\n",
    "print (\"Original object:\")\n",
    "print (s)\n",
    "print(\"=====================================\")\n",
    "print (\"After removal:\")\n",
    "print (s.cat.remove_categories(\"a\"))"
   ]
  },
  {
   "cell_type": "code",
   "execution_count": 13,
   "metadata": {},
   "outputs": [
    {
     "name": "stdout",
     "output_type": "stream",
     "text": [
      "0    False\n",
      "1    False\n",
      "2     True\n",
      "dtype: bool\n"
     ]
    },
    {
     "name": "stderr",
     "output_type": "stream",
     "text": [
      "d:\\python3564\\lib\\site-packages\\ipykernel_launcher.py:6: FutureWarning: specifying 'categories' or 'ordered' in .astype() is deprecated; pass a CategoricalDtype instead\n",
      "  \n",
      "d:\\python3564\\lib\\site-packages\\ipykernel_launcher.py:7: FutureWarning: specifying 'categories' or 'ordered' in .astype() is deprecated; pass a CategoricalDtype instead\n",
      "  import sys\n"
     ]
    }
   ],
   "source": [
    "# 分类数据的比较\n",
    "# 在三种情况下可以将分类数据与其他对象进行比较 \n",
    "# -将等号(==和!=)与类别数据相同长度的类似列表的对象(列表，系列，数组…)进行比较。\n",
    "# 当ordered==True和类别是相同时，所有比较(==，!=，>，>=，<，和<=)分类数据到另一个分类系列。\n",
    "# 将分类数据与标量进行比较\n",
    "cat = pd.Series([1,2,3]).astype(\"category\", categories=[1,2,3], ordered=True)\n",
    "cat1 = pd.Series([2,2,2]).astype(\"category\", categories=[1,2,3], ordered=True)\n",
    "\n",
    "print (cat>cat1)"
   ]
  },
  {
   "cell_type": "code",
   "execution_count": null,
   "metadata": {},
   "outputs": [],
   "source": []
  },
  {
   "cell_type": "code",
   "execution_count": null,
   "metadata": {},
   "outputs": [],
   "source": []
  },
  {
   "cell_type": "code",
   "execution_count": null,
   "metadata": {},
   "outputs": [],
   "source": []
  },
  {
   "cell_type": "code",
   "execution_count": null,
   "metadata": {},
   "outputs": [],
   "source": []
  },
  {
   "cell_type": "code",
   "execution_count": null,
   "metadata": {},
   "outputs": [],
   "source": []
  },
  {
   "cell_type": "code",
   "execution_count": null,
   "metadata": {},
   "outputs": [],
   "source": []
  },
  {
   "cell_type": "code",
   "execution_count": null,
   "metadata": {},
   "outputs": [],
   "source": []
  },
  {
   "cell_type": "code",
   "execution_count": null,
   "metadata": {},
   "outputs": [],
   "source": []
  },
  {
   "cell_type": "code",
   "execution_count": null,
   "metadata": {},
   "outputs": [],
   "source": []
  },
  {
   "cell_type": "code",
   "execution_count": null,
   "metadata": {},
   "outputs": [],
   "source": []
  },
  {
   "cell_type": "code",
   "execution_count": null,
   "metadata": {},
   "outputs": [],
   "source": []
  },
  {
   "cell_type": "code",
   "execution_count": null,
   "metadata": {},
   "outputs": [],
   "source": []
  },
  {
   "cell_type": "code",
   "execution_count": null,
   "metadata": {},
   "outputs": [],
   "source": []
  }
 ],
 "metadata": {
  "kernelspec": {
   "display_name": "Python 3",
   "language": "python",
   "name": "python3"
  },
  "language_info": {
   "codemirror_mode": {
    "name": "ipython",
    "version": 3
   },
   "file_extension": ".py",
   "mimetype": "text/x-python",
   "name": "python",
   "nbconvert_exporter": "python",
   "pygments_lexer": "ipython3",
   "version": "3.5.4rc1"
  }
 },
 "nbformat": 4,
 "nbformat_minor": 2
}
