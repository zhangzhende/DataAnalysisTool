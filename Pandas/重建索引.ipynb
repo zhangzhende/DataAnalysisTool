{
 "cells": [
  {
   "cell_type": "code",
   "execution_count": null,
   "metadata": {},
   "outputs": [],
   "source": [
    "重新索引会更改DataFrame的行标签和列标签。\n",
    "重新索引意味着符合数据以匹配特定轴上的一组给定的标签。\n",
    "可以通过索引来实现多个操作 \n",
    "-重新排序现有数据以匹配一组新的标签。\n",
    "在没有标签数据的标签位置插入缺失值(NA)标记。"
   ]
  },
  {
   "cell_type": "code",
   "execution_count": 1,
   "metadata": {},
   "outputs": [
    {
     "name": "stdout",
     "output_type": "stream",
     "text": [
      "            A       C           D     x         y\n",
      "0  2016-01-01     Low   99.133891   0.0  0.206738\n",
      "1  2016-01-02  Medium  107.710869   1.0  0.866145\n",
      "2  2016-01-03    High   94.918617   2.0  0.433454\n",
      "3  2016-01-04  Medium  107.896361   3.0  0.753921\n",
      "4  2016-01-05     Low  106.718909   4.0  0.277372\n",
      "5  2016-01-06  Medium   94.719473   5.0  0.371671\n",
      "6  2016-01-07  Medium  105.898164   6.0  0.102678\n",
      "7  2016-01-08  Medium  101.354638   7.0  0.804311\n",
      "8  2016-01-09    High  114.570298   8.0  0.156899\n",
      "9  2016-01-10  Medium   85.348997   9.0  0.342060\n",
      "10 2016-01-11     Low   94.085601  10.0  0.512312\n",
      "11 2016-01-12    High   98.213144  11.0  0.186702\n",
      "12 2016-01-13    High  104.664919  12.0  0.055820\n",
      "13 2016-01-14     Low  115.535836  13.0  0.760243\n",
      "14 2016-01-15  Medium  112.936521  14.0  0.656100\n",
      "15 2016-01-16    High  108.186255  15.0  0.599297\n",
      "16 2016-01-17  Medium  101.017201  16.0  0.005153\n",
      "17 2016-01-18     Low  107.214832  17.0  0.220319\n",
      "18 2016-01-19    High  119.471837  18.0  0.242953\n",
      "19 2016-01-20    High   85.121458  19.0  0.819757\n",
      "           A       C   B\n",
      "0 2016-01-01     Low NaN\n",
      "2 2016-01-03    High NaN\n",
      "5 2016-01-06  Medium NaN\n"
     ]
    }
   ],
   "source": [
    "import pandas as pd\n",
    "import numpy as np\n",
    "\n",
    "N=20\n",
    "\n",
    "df = pd.DataFrame({\n",
    "   'A': pd.date_range(start='2016-01-01',periods=N,freq='D'),\n",
    "   'x': np.linspace(0,stop=N-1,num=N),\n",
    "   'y': np.random.rand(N),\n",
    "   'C': np.random.choice(['Low','Medium','High'],N).tolist(),\n",
    "   'D': np.random.normal(100, 10, size=(N)).tolist()\n",
    "})\n",
    "\n",
    "print(df)\n",
    "#reindex the DataFrame\n",
    "df_reindexed = df.reindex(index=[0,2,5], columns=['A', 'C', 'B'])\n",
    "\n",
    "print (df_reindexed)"
   ]
  },
  {
   "cell_type": "code",
   "execution_count": 2,
   "metadata": {},
   "outputs": [
    {
     "name": "stdout",
     "output_type": "stream",
     "text": [
      "       col1      col2      col3\n",
      "0 -1.262449 -2.438792  0.454258\n",
      "1 -1.236168 -0.294672  0.849640\n",
      "2  0.116993 -0.582402  0.156853\n",
      "3  0.667133 -1.178922  1.995780\n",
      "4 -0.024230 -0.488146  0.715524\n",
      "- - - - - - - - - - - - - - - - - - - - - - - - - - - - - - - - - - - - - - - - \n",
      "       col1      col2      col3\n",
      "0  1.398539 -0.014743  1.817861\n",
      "1  1.628656  1.134220  2.209440\n",
      "2  0.811103  1.226912  1.181603\n",
      "- - - - - - - - - - - - - - - - - - - - - - - - - - - - - - - - - - - - - - - - \n",
      "       col1      col2      col3\n",
      "0 -1.262449 -2.438792  0.454258\n",
      "1 -1.236168 -0.294672  0.849640\n",
      "2  0.116993 -0.582402  0.156853\n"
     ]
    }
   ],
   "source": [
    "# 重建索引与其他对象对齐\n",
    "# 有时可能希望采取一个对象和重新索引，其轴被标记为与另一个对象相同\n",
    "# 在这里，df1数据帧(DataFrame)被更改并重新编号，如df2。 列名称应该匹配，否则将为整个列标签添加NAN\n",
    "df1 = pd.DataFrame(np.random.randn(5,3),columns=['col1','col2','col3'])\n",
    "df2 = pd.DataFrame(np.random.randn(3,3),columns=['col1','col2','col3'])\n",
    "print(df1)\n",
    "print(\"- - \"*20)\n",
    "df1 = df1.reindex_like(df2)\n",
    "print(df2)\n",
    "print(\"- - \"*20)\n",
    "print (df1)"
   ]
  },
  {
   "cell_type": "code",
   "execution_count": 5,
   "metadata": {},
   "outputs": [
    {
     "name": "stdout",
     "output_type": "stream",
     "text": [
      "       col1      col2      col3\n",
      "0  1.265931  0.004809 -0.255625\n",
      "1 -1.025566 -0.619677  0.246168\n",
      "2       NaN       NaN       NaN\n",
      "3       NaN       NaN       NaN\n",
      "4       NaN       NaN       NaN\n",
      "5       NaN       NaN       NaN\n",
      "Data Frame with Forward Fill:\n",
      "       col1      col2      col3\n",
      "0  1.265931  0.004809 -0.255625\n",
      "1 -1.025566 -0.619677  0.246168\n",
      "2 -1.025566 -0.619677  0.246168\n",
      "3 -1.025566 -0.619677  0.246168\n",
      "4 -1.025566 -0.619677  0.246168\n",
      "5 -1.025566 -0.619677  0.246168\n",
      "Data Frame with pad:\n",
      "       col1      col2      col3\n",
      "0  1.265931  0.004809 -0.255625\n",
      "1 -1.025566 -0.619677  0.246168\n",
      "2 -1.025566 -0.619677  0.246168\n",
      "3 -1.025566 -0.619677  0.246168\n",
      "4 -1.025566 -0.619677  0.246168\n",
      "5 -1.025566 -0.619677  0.246168\n"
     ]
    }
   ],
   "source": [
    "# 填充时重新加注\n",
    "# reindex()采用可选参数方法，它是一个填充方法，其值如下：\n",
    "# pad/ffill - 向前填充值\n",
    "# bfill/backfill - 向后填充值\n",
    "# nearest - 从最近的索引值填充\n",
    "\n",
    "df1 = pd.DataFrame(np.random.randn(6,3),columns=['col1','col2','col3'])\n",
    "df2 = pd.DataFrame(np.random.randn(2,3),columns=['col1','col2','col3'])\n",
    "\n",
    "# Padding NAN's\n",
    "print (df2.reindex_like(df1))\n",
    "\n",
    "# Now Fill the NAN's with preceding Values\n",
    "print (\"Data Frame with Forward Fill:\")\n",
    "print (df2.reindex_like(df1,method='ffill'))\n",
    "# Now Fill the NAN's with preceding Values\n",
    "print (\"Data Frame with pad:\")\n",
    "print (df2.reindex_like(df1,method='pad'))"
   ]
  },
  {
   "cell_type": "code",
   "execution_count": 6,
   "metadata": {},
   "outputs": [
    {
     "name": "stdout",
     "output_type": "stream",
     "text": [
      "       col1      col2      col3\n",
      "0  2.185246 -0.201856 -0.598729\n",
      "1  0.752567 -1.607823 -0.538525\n",
      "2       NaN       NaN       NaN\n",
      "3       NaN       NaN       NaN\n",
      "4       NaN       NaN       NaN\n",
      "5       NaN       NaN       NaN\n",
      "Data Frame with Forward Fill limiting to 1:\n",
      "       col1      col2      col3\n",
      "0  2.185246 -0.201856 -0.598729\n",
      "1  0.752567 -1.607823 -0.538525\n",
      "2  0.752567 -1.607823 -0.538525\n",
      "3       NaN       NaN       NaN\n",
      "4       NaN       NaN       NaN\n",
      "5       NaN       NaN       NaN\n"
     ]
    }
   ],
   "source": [
    "# 重建索引时的填充限制\n",
    "# 限制参数在重建索引时提供对填充的额外控制。限制指定连续匹配的最大计数\n",
    "\n",
    "df1 = pd.DataFrame(np.random.randn(6,3),columns=['col1','col2','col3'])\n",
    "df2 = pd.DataFrame(np.random.randn(2,3),columns=['col1','col2','col3'])\n",
    "\n",
    "# Padding NAN's\n",
    "print (df2.reindex_like(df1))\n",
    "\n",
    "# Now Fill the NAN's with preceding Values\n",
    "print (\"Data Frame with Forward Fill limiting to 1:\")\n",
    "print (df2.reindex_like(df1,method='ffill',limit=1))#限制额外填充一行"
   ]
  },
  {
   "cell_type": "code",
   "execution_count": 7,
   "metadata": {},
   "outputs": [
    {
     "name": "stdout",
     "output_type": "stream",
     "text": [
      "       col1      col2      col3\n",
      "0 -0.558576 -0.514615  1.034523\n",
      "1  0.074954  0.777864 -1.200013\n",
      "2  2.134483 -1.165361  0.579294\n",
      "3  0.339319 -0.299286 -0.245536\n",
      "4  0.028008 -1.399705  2.449929\n",
      "5  0.283325  0.892027 -1.367890\n",
      "After renaming the rows and columns:\n",
      "              c1        c2      col3\n",
      "apple  -0.558576 -0.514615  1.034523\n",
      "banana  0.074954  0.777864 -1.200013\n",
      "durian  2.134483 -1.165361  0.579294\n",
      "3       0.339319 -0.299286 -0.245536\n",
      "4       0.028008 -1.399705  2.449929\n",
      "5       0.283325  0.892027 -1.367890\n"
     ]
    }
   ],
   "source": [
    "# 重命名\n",
    "# rename()方法允许基于一些映射(字典或者系列)或任意函数来重新标记一个轴,修改行或者列的\"索引名称\"\n",
    "# rename()方法提供了一个inplace命名参数，默认为False并复制底层数据。 指定传递inplace = True则表示将数据重命名,即原始数据被盖\n",
    "df1 = pd.DataFrame(np.random.randn(6,3),columns=['col1','col2','col3'])\n",
    "print (df1)\n",
    "\n",
    "print (\"After renaming the rows and columns:\")\n",
    "print (df1.rename(columns={'col1' : 'c1', 'col2' : 'c2'},\n",
    "index = {0 : 'apple', 1 : 'banana', 2 : 'durian'}))"
   ]
  },
  {
   "cell_type": "code",
   "execution_count": null,
   "metadata": {},
   "outputs": [],
   "source": []
  },
  {
   "cell_type": "code",
   "execution_count": null,
   "metadata": {},
   "outputs": [],
   "source": []
  }
 ],
 "metadata": {
  "kernelspec": {
   "display_name": "Python 3",
   "language": "python",
   "name": "python3"
  },
  "language_info": {
   "codemirror_mode": {
    "name": "ipython",
    "version": 3
   },
   "file_extension": ".py",
   "mimetype": "text/x-python",
   "name": "python",
   "nbconvert_exporter": "python",
   "pygments_lexer": "ipython3",
   "version": "3.5.4rc1"
  }
 },
 "nbformat": 4,
 "nbformat_minor": 2
}
